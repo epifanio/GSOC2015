{
 "cells": [
  {
   "cell_type": "markdown",
   "metadata": {
    "collapsed": true
   },
   "source": [
    "<h1><center>[Notebooks](../) - [Access to Geospatial data](../Access to Geospatial data)</center></h1>"
   ]
  },
  {
   "cell_type": "markdown",
   "metadata": {},
   "source": [
    "This notebook is heavly based on the [Python GDAL/OGR Cookbook](https://pcjericks.github.io/py-gdalogr-cookbook/)"
   ]
  },
  {
   "cell_type": "markdown",
   "metadata": {},
   "source": [
    "In this first example we'll learn how to generate a proper OGR geometry of type \"Geometry Collection\" which allow us to store multiple types of geometry (point, line, polygon) in a single vector file (note: this is a great advantage compared with the \"standard but obsolete\" ESRI Shape File data format, which is limited to only one type of geometry). "
   ]
  },
  {
   "cell_type": "markdown",
   "metadata": {},
   "source": [
    "Let's re-use the example from the notebook in  [Numerical Cartograph/The Geodesic Problem](../Numerical Cartography/The Geodesic Problem.ipynb), where using [geograhiclib]() we compute the shortest path (geodesic) from New York, (NY) to Delhi, (India):"
   ]
  },
  {
   "cell_type": "code",
   "execution_count": null,
   "metadata": {
    "collapsed": false
   },
   "outputs": [],
   "source": [
    "from geographiclib.geodesic import Geodesic\n",
    "\n",
    "lat1,lon1 = (40.7143528, -74.0059731)  # New York, NY\n",
    "lat2,lon2 = (1.359, 103.989)   # Delhi, India\n",
    "g = Geodesic.WGS84.Inverse(lat1, lon1, lat2, lon2)\n",
    "g"
   ]
  },
  {
   "cell_type": "markdown",
   "metadata": {},
   "source": [
    "Now compute a list of points along the geodesic curve with a fixed distance of 100000m"
   ]
  },
  {
   "cell_type": "code",
   "execution_count": null,
   "metadata": {
    "collapsed": true
   },
   "outputs": [],
   "source": [
    "gc = [Geodesic.WGS84.Direct(lat1, lon1, g['azi1'], i) for i in range(0,int(g['s12']),100000)]"
   ]
  },
  {
   "cell_type": "markdown",
   "metadata": {},
   "source": [
    "Now let's start with OGR! \n",
    "\n",
    "We will first create a geometry collection with:"
   ]
  },
  {
   "cell_type": "code",
   "execution_count": null,
   "metadata": {
    "collapsed": true
   },
   "outputs": [],
   "source": [
    "from osgeo import ogr\n",
    "geomcol =  ogr.Geometry(ogr.wkbGeometryCollection)"
   ]
  },
  {
   "cell_type": "markdown",
   "metadata": {},
   "source": [
    "let's add 2 point features for the 2 location we used to compute the geodesic curve:"
   ]
  },
  {
   "cell_type": "code",
   "execution_count": null,
   "metadata": {
    "collapsed": false
   },
   "outputs": [],
   "source": [
    "point1 = ogr.Geometry(ogr.wkbPoint)\n",
    "point1.AddPoint(lon1,lat1)\n",
    "geomcol.AddGeometry(point1)\n",
    "\n",
    "point2 = ogr.Geometry(ogr.wkbPoint)\n",
    "point2.AddPoint(lon2,lat2)\n",
    "geomcol.AddGeometry(point2)"
   ]
  },
  {
   "cell_type": "markdown",
   "metadata": {},
   "source": [
    "Let's add to our GeometryCollection a new line feature:"
   ]
  },
  {
   "cell_type": "code",
   "execution_count": null,
   "metadata": {
    "collapsed": false
   },
   "outputs": [],
   "source": [
    "line = ogr.Geometry(ogr.wkbLineString)"
   ]
  },
  {
   "cell_type": "markdown",
   "metadata": {},
   "source": [
    "And let's populate the newly generated line feature looping trought the list of coordinates of our geodesic path."
   ]
  },
  {
   "cell_type": "code",
   "execution_count": null,
   "metadata": {
    "collapsed": false
   },
   "outputs": [],
   "source": [
    "[line.AddPoint(i['lon2'],i['lat2']) for i in gc]\n",
    "geomcol.AddGeometry(line)"
   ]
  },
  {
   "cell_type": "markdown",
   "metadata": {},
   "source": [
    "And finally export the data as GeoJson string and paste it online for easy visualization ong github:"
   ]
  },
  {
   "cell_type": "code",
   "execution_count": null,
   "metadata": {
    "collapsed": true
   },
   "outputs": [],
   "source": [
    "data = geomcol.ExportToJson()"
   ]
  },
  {
   "cell_type": "markdown",
   "metadata": {},
   "source": [
    "To save on file the new dataset we will ```echo``` the ```geojson``` string to a file and then use the ```gist``` utility to upload the data online:"
   ]
  },
  {
   "cell_type": "code",
   "execution_count": null,
   "metadata": {
    "collapsed": true
   },
   "outputs": [],
   "source": [
    "!echo '{data}' > /tmp/geojson.geojson"
   ]
  },
  {
   "cell_type": "code",
   "execution_count": null,
   "metadata": {
    "collapsed": false
   },
   "outputs": [],
   "source": [
    "!gist -p /tmp/geojson.geojson"
   ]
  },
  {
   "cell_type": "code",
   "execution_count": null,
   "metadata": {
    "collapsed": true
   },
   "outputs": [],
   "source": [
    "from CesiumWidget import CesiumWidget"
   ]
  },
  {
   "cell_type": "code",
   "execution_count": null,
   "metadata": {
    "collapsed": false
   },
   "outputs": [],
   "source": [
    "cesiumExample = CesiumWidget(width=\"100%\",geojson=data, enable_lighting=True)"
   ]
  },
  {
   "cell_type": "code",
   "execution_count": null,
   "metadata": {
    "collapsed": true
   },
   "outputs": [],
   "source": [
    "cesiumExample"
   ]
  }
 ],
 "metadata": {
  "kernelspec": {
   "display_name": "Python 3",
   "language": "python",
   "name": "python3"
  },
  "language_info": {
   "codemirror_mode": {
    "name": "ipython",
    "version": 3
   },
   "file_extension": ".py",
   "mimetype": "text/x-python",
   "name": "python",
   "nbconvert_exporter": "python",
   "pygments_lexer": "ipython3",
   "version": "3.5.0"
  }
 },
 "nbformat": 4,
 "nbformat_minor": 0
}
