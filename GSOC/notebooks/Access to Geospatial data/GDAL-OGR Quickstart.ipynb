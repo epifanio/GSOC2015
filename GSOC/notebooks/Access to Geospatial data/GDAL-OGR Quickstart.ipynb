{
 "cells": [
  {
   "cell_type": "markdown",
   "metadata": {},
   "source": [
    "<h1><center>[Notebooks](../) - [Access to Geospatial data](../Access to Geospatial data)</center></h1>"
   ]
  },
  {
   "cell_type": "markdown",
   "metadata": {},
   "source": [
    "<b><h1 style=\"margin: 0.0px 0.0px 0.0px 0.0px; line-height: 15.4px; font: 22.0px 'Lucida Sans'; color: #004d87; -webkit-text-stroke: #004d87; background-color: #ffffff\"><span class=\"s1\">GDAL/OGR Quickstart</span></h1></b>\n",
    "\n",
    "The first Notebook is dedicared to the use of the Geospatial Data Abstraction Library **GDAL** from the bash command line. GDAL is a powerful translator library for raster and vector geospatial data formats it presents a single raster abstract data model and vector abstract data model to the calling application for all supported formats.\n",
    "\n",
    "This Notebook is derived from the original [GDAL-OGR quickstart](../doc/en/quickstart/gdal_quickstart.html)  adapted to run interactively in a IPython notebook and is composed by two main parts **GDAL** (to handle raster data) and **OGR** (to work with vector data)\n",
    "\n",
    "<h1 style=\"margin: 0.0px 0.0px 0.0px 0.0px; line-height: 15.4px; font: 18.0px 'Lucida Sans'; color: #004d87; -webkit-text-stroke: #004d87; background-color: #ffffff\"><span class=\"s1\">GDAL</span></h1>\n",
    "\n",
    "* Explore your image data with [```gdalinfo```](#gdalinfo)\n",
    "* Format translations, Rescaling, Resizing, Splitting with [```gdal_translate```](#gdal_translate)\n",
    "    * [```Format translations```](#Format-translation)\n",
    "    * [```Resizing```](#Resizing)\n",
    "    * [```Rescaling```](#Rescaling)\n",
    "    * [```Splitting```](#Splitting)\n",
    "* Reproject  with [```gdalwarp```](#Reprojecting)\n",
    "* Raster tileindex with [```gdaltindex```](#gdaltindex)\n",
    "* Image Mosaic with ```gdal_warp``` or [```gdal_merge.py```](#Mosaicking)\n",
    "\n",
    "<h1 style=\"margin: 0.0px 0.0px 0.0px 0.0px; line-height: 15.4px; font: 18.0px 'Lucida Sans'; color: #004d87; -webkit-text-stroke: #004d87; background-color: #ffffff\"><span class=\"s1\">OGR </span></h1>\n",
    "* get information about your data with [```ogrinfo```](#ogrinfo)\n",
    "* use [```ogr2ogr```](#ogr2ogr) to transform your data to other formats"
   ]
  },
  {
   "cell_type": "markdown",
   "metadata": {},
   "source": [
    "<b><h1 style=\"margin: 0.0px 0.0px 0.0px 0.0px; line-height: 15.4px; font: 18.0px 'Lucida Sans'; color: #004d87; -webkit-text-stroke: #004d87; background-color: #ffffff\"><span class=\"s1\">Get to know GDAL</span></h1></b> \n",
    "\n",
    "\n",
    "You will find the demo data at ```/usr/local/share/data```. We want to have a look at the [naturalearth dataset](../doc/en/overview/naturalearth_overview.html) data in this quickstart. We want to work with a copy of the data. So the first step is to copy the data to your home directory."
   ]
  },
  {
   "cell_type": "markdown",
   "metadata": {},
   "source": [
    "* **Import IPython utility to display images**"
   ]
  },
  {
   "cell_type": "code",
   "execution_count": null,
   "metadata": {
    "collapsed": false
   },
   "outputs": [],
   "source": [
    "from IPython.core.display import Image"
   ]
  },
  {
   "cell_type": "markdown",
   "metadata": {},
   "source": [
    "* **Set the PATH to the natural earth dataset used in this notebook**"
   ]
  },
  {
   "cell_type": "code",
   "execution_count": null,
   "metadata": {
    "collapsed": false
   },
   "outputs": [],
   "source": [
    "DATADIR='/home/main/notebooks/data/natural_earth2'"
   ]
  },
  {
   "cell_type": "markdown",
   "metadata": {},
   "source": [
    "<b><h1 style=\"margin: 0.0px 0.0px 0.0px 0.0px; line-height: 15.4px; font: 18.0px 'Lucida Sans'; color: #004d87; -webkit-text-stroke: #004d87; background-color: #ffffff\"><span class=\"s1\">gdalinfo</span></h1></b> \n",
    "\n",
    "<b><h2 style=\"margin: 0.0px 0.0px 0.0px 0.0px; line-height: 15.4px; font: 16.0px 'Lucida Sans'; color: #004d87; -webkit-text-stroke: #004d87; background-color: #ffffff\"><span class=\"s1\">get information about the raster data</span></h2></b> "
   ]
  },
  {
   "cell_type": "code",
   "execution_count": null,
   "metadata": {
    "collapsed": false
   },
   "outputs": [],
   "source": [
    "!gdalinfo --help-general"
   ]
  },
  {
   "cell_type": "code",
   "execution_count": null,
   "metadata": {
    "collapsed": false
   },
   "outputs": [],
   "source": [
    "!gdalinfo {DATADIR}/HYP_50M_SR_W.tif"
   ]
  },
  {
   "cell_type": "markdown",
   "metadata": {},
   "source": [
    "---\n",
    "\n",
    "Note:\n",
    "* Driver is “GTiff/GeoTIFF”\n",
    "* Size is 10800x5400\n",
    "* 3 Bands of type Byte.\n",
    "* Coordinates\n",
    "* Coordinate system is World Geodetic System 84"
   ]
  },
  {
   "cell_type": "markdown",
   "metadata": {},
   "source": [
    "<b><h1 style=\"margin: 0.0px 0.0px 0.0px 0.0px; line-height: 15.4px; font: 16.0px 'Lucida Sans'; color: #004d87; -webkit-text-stroke: #004d87; background-color: #ffffff\"><span class=\"s1\">Listing available Drivers</span></h1></b> "
   ]
  },
  {
   "cell_type": "markdown",
   "metadata": {},
   "source": [
    "First get to know your drivers. The ```--formats``` commandline switch of gdalinfo can be used to see a list of available format drivers."
   ]
  },
  {
   "cell_type": "markdown",
   "metadata": {},
   "source": [
    "List all the available formats:"
   ]
  },
  {
   "cell_type": "code",
   "execution_count": null,
   "metadata": {
    "collapsed": false
   },
   "outputs": [],
   "source": [
    "!gdalinfo --formats"
   ]
  },
  {
   "cell_type": "markdown",
   "metadata": {},
   "source": [
    "Each format reports if it is:\n",
    "* read only (ro),\n",
    "* read/write (rw) or\n",
    "* read/write/update (rw+)."
   ]
  },
  {
   "cell_type": "markdown",
   "metadata": {},
   "source": [
    "It is also possible to ask for specific formats details:"
   ]
  },
  {
   "cell_type": "code",
   "execution_count": null,
   "metadata": {
    "collapsed": false
   },
   "outputs": [],
   "source": [
    "!gdalinfo --format GTiff "
   ]
  },
  {
   "cell_type": "markdown",
   "metadata": {},
   "source": [
    "<b><h1 style=\"margin: 0.0px 0.0px 0.0px 0.0px; line-height: 15.4px; font: 18.0px 'Lucida Sans'; color: #004d87; -webkit-text-stroke: #004d87; background-color: #ffffff\"><span class=\"s1\">gdal_translate</span></h1></b> \n",
    "\n",
    "<b><h1 style=\"margin: 0.0px 0.0px 0.0px 0.0px; line-height: 15.4px; font: 16.0px 'Lucida Sans'; color: #004d87; -webkit-text-stroke: #004d87; background-color: #ffffff\"><span class=\"s1\">Format translation</span></h1></b> \n",
    "\n",
    "Translations are accomplished with the gdal_translate command. The default output format is GeoTIFF. The ```-of``` flag is used to select an output format and the ```-co``` flag is used to specify a creation option:"
   ]
  },
  {
   "cell_type": "markdown",
   "metadata": {},
   "source": [
    "The web browser is not happy with tif files so to have a quick look at the image we convert it to a web friendly format (JPG) using ```gdal_translate``` (this requires few seconds)"
   ]
  },
  {
   "cell_type": "code",
   "execution_count": null,
   "metadata": {
    "collapsed": false
   },
   "outputs": [],
   "source": [
    "!gdal_translate -of JPEG -co QUALITY=10 {DATADIR}/HYP_50M_SR_W.tif {DATADIR}/HYP_50M_SR_W.jpg"
   ]
  },
  {
   "cell_type": "markdown",
   "metadata": {},
   "source": [
    "<b><h1 style=\"margin: 0.0px 0.0px 0.0px 0.0px; line-height: 15.4px; font: 16.0px 'Lucida Sans'; color: #004d87; -webkit-text-stroke: #004d87; background-color: #ffffff\"><span class=\"s1\">Image Display</span></h1></b> "
   ]
  },
  {
   "cell_type": "code",
   "execution_count": null,
   "metadata": {
    "collapsed": false
   },
   "outputs": [],
   "source": [
    "Image(DATADIR+'/HYP_50M_SR_W.jpg')"
   ]
  },
  {
   "cell_type": "markdown",
   "metadata": {},
   "source": [
    "The -ot switch can be used to alter the output data type."
   ]
  },
  {
   "cell_type": "code",
   "execution_count": null,
   "metadata": {
    "collapsed": false
   },
   "outputs": [],
   "source": [
    "!gdal_translate -ot Int16 {DATADIR}/HYP_50M_SR_W.tif {DATADIR}/HYP_50M_SR_W_Int16.tif"
   ]
  },
  {
   "cell_type": "markdown",
   "metadata": {},
   "source": [
    "Use gdalinfo to verify data type."
   ]
  },
  {
   "cell_type": "code",
   "execution_count": null,
   "metadata": {
    "collapsed": false
   },
   "outputs": [],
   "source": [
    "!gdalinfo {DATADIR}/HYP_50M_SR_W.tif | grep Band"
   ]
  },
  {
   "cell_type": "code",
   "execution_count": null,
   "metadata": {
    "collapsed": false
   },
   "outputs": [],
   "source": [
    "!gdalinfo {DATADIR}/HYP_50M_SR_W_Int16.tif | grep Band"
   ]
  },
  {
   "cell_type": "markdown",
   "metadata": {},
   "source": [
    "<b><h1 style=\"margin: 0.0px 0.0px 0.0px 0.0px; line-height: 15.4px; font: 16.0px 'Lucida Sans'; color: #004d87; -webkit-text-stroke: #004d87; background-color: #ffffff\"><span class=\"s1\">Resizing</span></h1></b>  \n",
    "\n",
    "The -outsize switch can be used to set the size of the output file."
   ]
  },
  {
   "cell_type": "code",
   "execution_count": null,
   "metadata": {
    "collapsed": false
   },
   "outputs": [],
   "source": [
    "!gdal_translate -outsize 50% 50% {DATADIR}/HYP_50M_SR_W.tif  {DATADIR}/HYP_50M_SR_W_small.tif"
   ]
  },
  {
   "cell_type": "markdown",
   "metadata": {},
   "source": [
    "Use gdalinfo to verify the size."
   ]
  },
  {
   "cell_type": "code",
   "execution_count": null,
   "metadata": {
    "collapsed": false
   },
   "outputs": [],
   "source": [
    "!gdalinfo {DATADIR}/HYP_50M_SR_W.tif | grep Size"
   ]
  },
  {
   "cell_type": "code",
   "execution_count": null,
   "metadata": {
    "collapsed": false
   },
   "outputs": [],
   "source": [
    "!gdalinfo {DATADIR}/HYP_50M_SR_W_small.tif | grep Size"
   ]
  },
  {
   "cell_type": "markdown",
   "metadata": {},
   "source": [
    "<b><h1 style=\"margin: 0.0px 0.0px 0.0px 0.0px; line-height: 15.4px; font: 16.0px 'Lucida Sans'; color: #004d87; -webkit-text-stroke: #004d87; background-color: #ffffff\"><span class=\"s1\">Rescaling</span></h1></b>  "
   ]
  },
  {
   "cell_type": "markdown",
   "metadata": {},
   "source": [
    "The -scale switch can be used to rescale the data range of a given image. Explicit control of the input and output ranges is also available. The gdalinfo ```-mm``` switch can be used to see pixel min/max values.\n",
    "\n",
    "The output will display a computed Min/Max value for each band in the raster imput (3 band in our case)"
   ]
  },
  {
   "cell_type": "code",
   "execution_count": null,
   "metadata": {
    "collapsed": false
   },
   "outputs": [],
   "source": [
    "!gdalinfo -mm {DATADIR}/HYP_50M_SR_W_small.tif | grep Min/Max"
   ]
  },
  {
   "cell_type": "markdown",
   "metadata": {},
   "source": [
    "To rescale a specific band we can use the \"-scale_bn\" syntax where bn is a band number (e.g. \"-scale_2\" for the 2nd band of the output dataset), in the example below we will rescale the 3 bands of the HYP_50M_SR_W GeoTiff to be in the range 0-255 :"
   ]
  },
  {
   "cell_type": "code",
   "execution_count": null,
   "metadata": {
    "collapsed": false
   },
   "outputs": [],
   "source": [
    "!gdal_translate -scale_1 62.000 255.000 0 255.000 \\\n",
    "               -scale_2 85.000 255.000 0 255.000 \\\n",
    "               -scale_3 79.000 255.000 0 255.000 \\\n",
    "               {DATADIR}/HYP_50M_SR_W.tif {DATADIR}/HYP_50M_SR_W_scaled.tif"
   ]
  },
  {
   "cell_type": "markdown",
   "metadata": {},
   "source": [
    "Check the results with ```gdalinfo``` :"
   ]
  },
  {
   "cell_type": "code",
   "execution_count": null,
   "metadata": {
    "collapsed": false
   },
   "outputs": [],
   "source": [
    "!gdalinfo -mm {DATADIR}/HYP_50M_SR_W_scaled.tif | grep Min/Max"
   ]
  },
  {
   "cell_type": "markdown",
   "metadata": {},
   "source": [
    "Let's convert the scaled output to JPG for a quick display, notice the color rearrangement."
   ]
  },
  {
   "cell_type": "code",
   "execution_count": null,
   "metadata": {
    "collapsed": false
   },
   "outputs": [],
   "source": [
    "!gdal_translate -of JPEG -co QUALITY=40 {DATADIR}/HYP_50M_SR_W_scaled.tif {DATADIR}/HYP_50M_SR_W_scaled.jpg"
   ]
  },
  {
   "cell_type": "code",
   "execution_count": null,
   "metadata": {
    "collapsed": false
   },
   "outputs": [],
   "source": [
    "Image(DATADIR+'/HYP_50M_SR_W_scaled.jpg')"
   ]
  },
  {
   "cell_type": "markdown",
   "metadata": {},
   "source": [
    "compare with [original image](#Image-Display)"
   ]
  },
  {
   "cell_type": "markdown",
   "metadata": {},
   "source": [
    "<b><h1 style=\"margin: 0.0px 0.0px 0.0px 0.0px; line-height: 15.4px; font: 16.0px 'Lucida Sans'; color: #004d87; -webkit-text-stroke: #004d87; background-color: #ffffff\"><span class=\"s1\">Splitting</span></h1></b> "
   ]
  },
  {
   "cell_type": "markdown",
   "metadata": {},
   "source": [
    "Let’s split our image into two with ```-srcwin``` which makes a copy based on pixel/line location (xoff yoff xsize ysize). You also could use ```-projwin``` and define the corners in georeferenced coordinates (ulx uly lrx lry)."
   ]
  },
  {
   "cell_type": "code",
   "execution_count": null,
   "metadata": {
    "collapsed": false
   },
   "outputs": [],
   "source": [
    "!gdal_translate -srcwin 0 0 5400 5400 {DATADIR}/HYP_50M_SR_W.tif  {DATADIR}/west.tif\n",
    "!gdal_translate -srcwin 5400 0 5400 5400 {DATADIR}/HYP_50M_SR_W.tif  {DATADIR}/east.tif"
   ]
  },
  {
   "cell_type": "code",
   "execution_count": null,
   "metadata": {
    "collapsed": false
   },
   "outputs": [],
   "source": [
    "!gdal_translate -of JPEG -co QUALITY=40 {DATADIR}/east.tif {DATADIR}/east.jpg\n",
    "!gdal_translate -of JPEG -co QUALITY=40 {DATADIR}/west.tif {DATADIR}/west.jpg"
   ]
  },
  {
   "cell_type": "markdown",
   "metadata": {},
   "source": [
    "<b><h1 style=\"margin: 0.0px 0.0px 0.0px 0.0px; line-height: 15.4px; font: 18.0px 'Lucida Sans'; color: #004d87; -webkit-text-stroke: #004d87; background-color: #ffffff\"><span class=\"s1\">gdalwarp</span></h1></b>  \n",
    "\n",
    "\n",
    "<b><h1 style=\"margin: 0.0px 0.0px 0.0px 0.0px; line-height: 15.4px; font: 16.0px 'Lucida Sans'; color: #004d87; -webkit-text-stroke: #004d87; background-color: #ffffff\"><span class=\"s1\">Reprojecting</span></h1></b>  \n"
   ]
  },
  {
   "cell_type": "markdown",
   "metadata": {},
   "source": [
    "For this process we assume that HYP_50M_SR_W.tif has been properly created with bounds. As we saw before with gdalinfo HYP_50M_SR_W has a proper coordinate system set. \n",
    "\n",
    "If the tif file we want work on doesn't have proper projection information (wich is the case in most *.tif* files when associated with a world file *.tfw*) it is possible to assign a coordinate system to the image with ```gdal_translate``` and the flag ```-a_srs``` e.g :\n",
    "\n",
    "    gdal_translate -a_srs WGS84 HYP_50M_SR_W.tif HYP_50M_SR_W_4326.tif\n",
    "    \n",
    "    \n",
    "Given a proper georeferenced raster file the ```gdalwarp``` command can be used to assign a new Spatial Reference System to it. Here we reproject the WGS84 geographic image to the Mercator projection:"
   ]
  },
  {
   "cell_type": "code",
   "execution_count": null,
   "metadata": {
    "collapsed": false
   },
   "outputs": [],
   "source": [
    "!gdalwarp -t_srs '+proj=merc +datum=WGS84' {DATADIR}/HYP_50M_SR_W.tif {DATADIR}/mercator.tif"
   ]
  },
  {
   "cell_type": "code",
   "execution_count": null,
   "metadata": {
    "collapsed": false
   },
   "outputs": [],
   "source": [
    "!gdal_translate -of JPEG -co QUALITY=40 {DATADIR}/mercator.tif {DATADIR}/mercator.png"
   ]
  },
  {
   "cell_type": "code",
   "execution_count": null,
   "metadata": {
    "collapsed": false
   },
   "outputs": [],
   "source": [
    "Image(DATADIR+'/mercator.png')"
   ]
  },
  {
   "cell_type": "markdown",
   "metadata": {},
   "source": [
    "Here we reproject to the Ortho projection."
   ]
  },
  {
   "cell_type": "code",
   "execution_count": null,
   "metadata": {
    "collapsed": false
   },
   "outputs": [],
   "source": [
    "!gdalwarp -t_srs '+proj=ortho +datum=WGS84' {DATADIR}/HYP_50M_SR_W.tif {DATADIR}/ortho.tif 2>/dev/null"
   ]
  },
  {
   "cell_type": "code",
   "execution_count": null,
   "metadata": {
    "collapsed": false
   },
   "outputs": [],
   "source": [
    "!gdal_translate -of JPEG -co QUALITY=40 {DATADIR}/ortho.tif {DATADIR}/ortho.png"
   ]
  },
  {
   "cell_type": "code",
   "execution_count": null,
   "metadata": {
    "collapsed": false
   },
   "outputs": [],
   "source": [
    "Image(DATADIR+'/ortho.png')"
   ]
  },
  {
   "cell_type": "markdown",
   "metadata": {},
   "source": [
    "<b><h1 style=\"margin: 0.0px 0.0px 0.0px 0.0px; line-height: 15.4px; font: 18.0px 'Lucida Sans'; color: #004d87; -webkit-text-stroke: #004d87; background-color: #ffffff\"><span class=\"s1\">gdaltindex</span></h1></b>  \n",
    "\n",
    "\n",
    "<b><h1 style=\"margin: 0.0px 0.0px 0.0px 0.0px; line-height: 15.4px; font: 16.0px 'Lucida Sans'; color: #004d87; -webkit-text-stroke: #004d87; background-color: #ffffff\"><span class=\"s1\">Raster tileindex with gdaltindex</span></h1></b> \n",
    "You can build a shapefile as a raster tileindex. For every image a polygon is generated with the bounds of the extent of the polygon and the path to the file."
   ]
  },
  {
   "cell_type": "code",
   "execution_count": null,
   "metadata": {
    "collapsed": false
   },
   "outputs": [],
   "source": [
    "!gdaltindex {DATADIR}/index_natural_earth.shp {DATADIR}/*st.tif"
   ]
  },
  {
   "cell_type": "markdown",
   "metadata": {},
   "source": [
    "The command above just created a new ESRI Shape File (default vector format), we will see how to work on vector files later on in the **OGR** section."
   ]
  },
  {
   "cell_type": "markdown",
   "metadata": {},
   "source": [
    "<b><h1 style=\"margin: 0.0px 0.0px 0.0px 0.0px; line-height: 15.4px; font: 18.0px 'Lucida Sans'; color: #004d87; -webkit-text-stroke: #004d87; background-color: #ffffff\"><span class=\"s1\">Mosaicking</span></h1></b>   \n",
    "\n",
    "```gdal_merge.py``` is a python script that can be used for simple mosaicking tasks. Mosaic the east.tif and west.tif into a single file:"
   ]
  },
  {
   "cell_type": "code",
   "execution_count": null,
   "metadata": {
    "collapsed": false
   },
   "outputs": [],
   "source": [
    "!/home/main/anaconda/envs/python3/bin/gdal_merge.py  {DATADIR}/east.tif {DATADIR}/west.tif -o {DATADIR}/merged.tif"
   ]
  },
  {
   "cell_type": "markdown",
   "metadata": {},
   "source": [
    "Convert to jpg to display in the notebook and you can see the original image recomposed"
   ]
  },
  {
   "cell_type": "code",
   "execution_count": null,
   "metadata": {
    "collapsed": false
   },
   "outputs": [],
   "source": [
    "!gdal_translate -of JPEG -co QUALITY=40 {DATADIR}/merged.tif {DATADIR}/merged.jpg"
   ]
  },
  {
   "cell_type": "code",
   "execution_count": null,
   "metadata": {
    "collapsed": false
   },
   "outputs": [],
   "source": [
    "Image(DATADIR+'/merged.jpg')"
   ]
  },
  {
   "cell_type": "markdown",
   "metadata": {},
   "source": [
    "The same task can be accomplished with gdalwarp. gdalwarp has a variety of advantages over gdal_merge, but can be slow to merge many files:\n",
    "\n",
    "    gdalwarp east.tif west.tif warpmerged.tif"
   ]
  },
  {
   "cell_type": "markdown",
   "metadata": {},
   "source": [
    "<b><h1 style=\"margin: 0.0px 0.0px 0.0px 0.0px; line-height: 15.4px; font: 18.0px 'Lucida Sans'; color: #004d87; -webkit-text-stroke: #004d87; background-color: #ffffff\"><span class=\"s1\">Get to know OGR</span></h1></b>  \n"
   ]
  },
  {
   "cell_type": "markdown",
   "metadata": {},
   "source": [
    "<b><h1 style=\"margin: 0.0px 0.0px 0.0px 0.0px; line-height: 15.4px; font: 16.0px 'Lucida Sans'; color: #004d87; -webkit-text-stroke: #004d87; background-color: #ffffff\"><span class=\"s1\">ogrinfo</span></h1></b>  \n",
    "\n",
    "Like we did with raster using ```gdalinfo```, is possible to retrieve descriptive information from a vector datasource using the command line too ```ogrinfo```.\n",
    "Let's run ```ogrinfo``` on the previously generated shapefile ```index_natural_earth.shp```:"
   ]
  },
  {
   "cell_type": "code",
   "execution_count": null,
   "metadata": {
    "collapsed": false
   },
   "outputs": [],
   "source": [
    "!ogrinfo {DATADIR}/index_natural_earth.shp index_natural_earth"
   ]
  },
  {
   "cell_type": "markdown",
   "metadata": {},
   "source": [
    "Get a summary about your data with ogrinfo together with -so."
   ]
  },
  {
   "cell_type": "code",
   "execution_count": null,
   "metadata": {
    "collapsed": false
   },
   "outputs": [],
   "source": [
    "!ogrinfo -ro -so {DATADIR}/ne_10m_admin_0_countries.shp ne_10m_admin_0_countries"
   ]
  },
  {
   "cell_type": "markdown",
   "metadata": {},
   "source": [
    "If you run ogrinfo without a parameter you will get a summary about your data and afterwards a section for every dataset. You can forward the result from ogrinfo to grep to filter and get only the attribute COUNTRY."
   ]
  },
  {
   "cell_type": "code",
   "execution_count": null,
   "metadata": {
    "collapsed": false
   },
   "outputs": [],
   "source": [
    "!ogrinfo -ro {DATADIR}/ne_10m_admin_0_countries.shp ne_10m_admin_0_countries | grep 'admin '"
   ]
  },
  {
   "cell_type": "markdown",
   "metadata": {},
   "source": [
    "The shape file we just created can not be rendered directly in the notebook. Later in the python tutorial we'll learn how to use libraries like *shapely* to render directly vector data. \n",
    "For now to display the results of our processing in the notebook we'll use the ```shp2img``` command line tool (provided by *[mapserver](../doc/en/overview/mapserver_overview.html)* ).\n",
    "```shp2img``` require a *mapserver mapfile* as input to generate a rendered image.\n",
    "Below we'll write a mapfile with 3 layers :\n",
    "* west.tif\n",
    "* east.tif\n",
    "* index_natural_earth.shp\n",
    "Note: the shapefile color has been classified based on the shapefile attribute ```location``` with a translarency to show the 2 raster images underneat."
   ]
  },
  {
   "cell_type": "code",
   "execution_count": null,
   "metadata": {
    "collapsed": false
   },
   "outputs": [],
   "source": [
    "index_natural_earth=\"\"\"\n",
    "MAP\n",
    "  EXTENT -180 -89.999999999982 179.999999999964 90\n",
    "  IMAGETYPE \"png\"\n",
    "  NAME \"simplepolygon\"\n",
    "  SIZE 600 600\n",
    "  STATUS ON\n",
    "  UNITS DD\n",
    "\n",
    "  OUTPUTFORMAT\n",
    "    NAME \"png\"\n",
    "    MIMETYPE \"image/png\"\n",
    "    DRIVER \"AGG/PNG\"\n",
    "    EXTENSION \"png\"\n",
    "    IMAGEMODE RGB\n",
    "    TRANSPARENT TRUE\n",
    "  END # OUTPUTFORMAT\n",
    "\n",
    "  PROJECTION\n",
    "    \"proj=longlat\"\n",
    "    \"datum=WGS84\"\n",
    "    \"no_defs\"\n",
    "  END # PROJECTION\n",
    "\n",
    "    LAYER\n",
    "    DATA \"{DATADIR}/west.tif\"\n",
    "    EXTENT -180 -89.999999999982 -1.79596892913025e-11 90\n",
    "    METADATA\n",
    "      \"ows_title\"\t\"west\"\n",
    "    END # METADATA\n",
    "    NAME \"west\"\n",
    "    PROJECTION\n",
    "      \"proj=longlat\"\n",
    "      \"datum=WGS84\"\n",
    "      \"no_defs\"\n",
    "    END # PROJECTION\n",
    "    STATUS ON\n",
    "    TILEITEM \"location\"\n",
    "    TYPE RASTER\n",
    "    UNITS METERS\n",
    "  END # LAYER\n",
    "\n",
    "  LAYER\n",
    "    DATA \"{DATADIR}/east.tif\"\n",
    "    EXTENT -1.79596892913025e-11 -89.999999999982 179.999999999964 90\n",
    "    METADATA\n",
    "      \"ows_title\"\t\"east\"\n",
    "    END # METADATA\n",
    "    NAME \"east\"\n",
    "    PROJECTION\n",
    "      \"proj=longlat\"\n",
    "      \"datum=WGS84\"\n",
    "      \"no_defs\"\n",
    "    END # PROJECTION\n",
    "    STATUS ON\n",
    "    TILEITEM \"location\"\n",
    "    TYPE RASTER\n",
    "    UNITS METERS\n",
    "  END # LAYER\n",
    "  \n",
    "  LAYER\n",
    "    DATA \"{DATADIR}/index_natural_earth.shp\"\n",
    "    EXTENT -180 -89.999999999982 179.999999999964 90\n",
    "    NAME \"index_natural_earth\"\n",
    "    PROJECTION\n",
    "      \"proj=longlat\"\n",
    "      \"datum=WGS84\"\n",
    "      \"no_defs\"\n",
    "    END # PROJECTION\n",
    "    STATUS ON\n",
    "    TILEITEM \"location\"\n",
    "    TYPE POLYGON\n",
    "    UNITS METERS\n",
    "    CLASS\n",
    "      NAME \"{DATADIR}/east.tif\"\n",
    "      EXPRESSION (\"[location]\" =\"{DATADIR}/east.tif\")\n",
    "      STYLE\n",
    "        OPACITY 50\n",
    "        COLOR 218 57 57\n",
    "      END # STYLE\n",
    "      STYLE\n",
    "        OUTLINECOLOR 0 0 0\n",
    "        WIDTH 0.26\n",
    "      END # STYLE\n",
    "    END # CLASS\n",
    "    CLASS\n",
    "      NAME \"{DATADIR}/west.tif\"\n",
    "      EXPRESSION (\"[location]\" =\"{DATADIR}/west.tif\")\n",
    "      STYLE\n",
    "        OPACITY 50\n",
    "        COLOR 18 211 14\n",
    "      END # STYLE\n",
    "      STYLE\n",
    "        OUTLINECOLOR 0 0 0\n",
    "        WIDTH 0.26\n",
    "      END # STYLE\n",
    "    END # CLASS\n",
    "  END # LAYER    \n",
    "END # MAP\n",
    "\"\"\".format(DATADIR=DATADIR)"
   ]
  },
  {
   "cell_type": "code",
   "execution_count": null,
   "metadata": {
    "collapsed": true
   },
   "outputs": [],
   "source": [
    "mapfile=open('index_natural_earth.map','w')\n",
    "mapfile.write(index_natural_earth)\n",
    "mapfile.close()"
   ]
  },
  {
   "cell_type": "code",
   "execution_count": null,
   "metadata": {
    "collapsed": false
   },
   "outputs": [],
   "source": [
    "!shp2img -m index_natural_earth.map -i PNG -o index_natural_earth.png"
   ]
  },
  {
   "cell_type": "code",
   "execution_count": null,
   "metadata": {
    "collapsed": false
   },
   "outputs": [],
   "source": [
    "Image('index_natural_earth.png')"
   ]
  },
  {
   "cell_type": "markdown",
   "metadata": {},
   "source": [
    "<b><h1 style=\"margin: 0.0px 0.0px 0.0px 0.0px; line-height: 15.4px; font: 18.0px 'Lucida Sans'; color: #004d87; -webkit-text-stroke: #004d87; background-color: #ffffff\"><span class=\"s1\">Use ogr2ogr to convert data between file formats</span></h1></b>  \n",
    "\n",
    "\n",
    "Like with ```gdalinfo``` You can use ogr2ogr to converts simple features data between file formats. You can use –formats to get the list of the supported formats with read/write information."
   ]
  },
  {
   "cell_type": "code",
   "execution_count": null,
   "metadata": {
    "collapsed": false
   },
   "outputs": [],
   "source": [
    "!ogrinfo --formats"
   ]
  },
  {
   "cell_type": "markdown",
   "metadata": {},
   "source": [
    "Convert the countries to GeoJson."
   ]
  },
  {
   "cell_type": "markdown",
   "metadata": {},
   "source": [
    "<b><h1 style=\"margin: 0.0px 0.0px 0.0px 0.0px; line-height: 15.4px; font: 16.0px 'Lucida Sans'; color: #004d87; -webkit-text-stroke: #004d87; background-color: #ffffff\"><span class=\"s1\">ogr2ogr</span></h1></b>"
   ]
  },
  {
   "cell_type": "code",
   "execution_count": null,
   "metadata": {
    "collapsed": false
   },
   "outputs": [],
   "source": [
    "!rm -rf {DATADIR}/countries.json\n",
    "!ogr2ogr -f GeoJSON {DATADIR}/countries.json {DATADIR}/ne_10m_admin_0_countries.shp"
   ]
  },
  {
   "cell_type": "code",
   "execution_count": null,
   "metadata": {
    "collapsed": true
   },
   "outputs": [],
   "source": [
    "#unfinished - need to add ogr2ogr features yet, I'm considering to split this notebook in 2 parts (one for gdal and one for ogr2ogr) i'll study the gdal tutorial released recently"
   ]
  },
  {
   "cell_type": "markdown",
   "metadata": {},
   "source": [
    "[top](#Notebooks---Access-to-Geospatial-data)"
   ]
  }
 ],
 "metadata": {
  "kernelspec": {
   "display_name": "Python 3",
   "language": "python",
   "name": "python3"
  },
  "language_info": {
   "codemirror_mode": {
    "name": "ipython",
    "version": 3
   },
   "file_extension": ".py",
   "mimetype": "text/x-python",
   "name": "python",
   "nbconvert_exporter": "python",
   "pygments_lexer": "ipython3",
   "version": "3.3.5"
  }
 },
 "nbformat": 4,
 "nbformat_minor": 0
}
