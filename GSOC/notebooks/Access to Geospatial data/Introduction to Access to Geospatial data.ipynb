{
 "cells": [
  {
   "cell_type": "markdown",
   "metadata": {},
   "source": [
    "# Access to Geospatial data\n",
    "\n",
    "In this set of notebook two of the most important opensource software libraries are introduced:\n",
    "\n",
    "* [GDAL](../../files/docs/gdal_overview.html) (Geospatial Data Abstraction Library) \n",
    "* [OSSIM](../../files/docs/ossim_overview.html) (Open Source Software Image Mapping). \n",
    "\n",
    "Both libraries are the state of the art in software for reading and traslating geospatial data between several formats, tools for reprojection, mosaic and subset geospatial dataset.\n",
    "\n",
    "Those two libraries have a lot in commons but differ for some particular features. While OSSIM is more oriented to photogrammetry with his hi-performance hi-precision raster processing engine, offering parallel processing support (trough MPI), an unique orthorectification syestem which enable the processing of satellite-sensor specific data products; GDAL present a complete set of software utility to work with both raster and vector including support for sql-like query processing, a very wide range of driver to access both raster and vector for all the most common data format (OSSIM can be extended to have access to GDAL trough a plugin system) and a complete set of API accessible trough sripting languages such Python.\n",
    "\n",
    "In the notebooks below we'll explore the tools offered by the *command line utilities* for both software plus the Python scripting capabilities pf GDAL.\n",
    "\n",
    "* [GDAL-OGR Quickstart - bash](GDAL-OGR Quickstart.ipynb)\n",
    "\n",
    "* [OSSIM Quickstart](OSSIM Quickstart.ipynb)\n",
    "\n",
    "* [GDAL-OGR with Python](GDAL-OGR with Python.ipynb)\n"
   ]
  },
  {
   "cell_type": "code",
   "execution_count": null,
   "metadata": {
    "collapsed": true
   },
   "outputs": [],
   "source": []
  }
 ],
 "metadata": {
  "kernelspec": {
   "display_name": "Python 3",
   "language": "python",
   "name": "python3"
  },
  "language_info": {
   "codemirror_mode": {
    "name": "ipython",
    "version": 3
   },
   "file_extension": ".py",
   "mimetype": "text/x-python",
   "name": "python",
   "nbconvert_exporter": "python",
   "pygments_lexer": "ipython3",
   "version": "3.4.3"
  }
 },
 "nbformat": 4,
 "nbformat_minor": 0
}
