{
 "cells": [
  {
   "cell_type": "markdown",
   "metadata": {},
   "source": [
    "<h1><center>[Notebooks](../) - [Access to Geospatial data](../Access to Geospatial data)</center></h1>"
   ]
  },
  {
   "cell_type": "markdown",
   "metadata": {},
   "source": [
    "# OSSIM Command Line Applications\n",
    "The following command line applications are distributed with OSSIM.\n",
    "\n",
    "## Core Programs\n",
    "\n",
    "* [```ossim-info```](#ossim-info) Used to run ossim utilities function and to display metadata for imagery, maps, terrain, and vector data.\n",
    "    * [Utility functions](#Utility-functions)\n",
    "        * [radians from degrees](#radians-from-degrees)\n",
    "        * [degrees from radians](#degrees-from-radians)\n",
    "        * [meters from feet](#meters-from-feet)\n",
    "        * [meters to feet](#meters-to-feet)\n",
    "        * [Meters per degree](#Meters-per-degrees)\n",
    "        * [height](#height)\n",
    "        * [Projections](#Projections)\n",
    "        * [Datums](#Datums)\n",
    "    * [Explore raster data](#Explore-raster-data)\n",
    "        * [ground center](#ground-center)\n",
    "        * [image center](#image-center)\n",
    "        * [ground and image center](#ground-and-image-center)\n",
    "        * [general image information](#general-image-information)\n",
    "        * [meta data image information](#meta-data-image-information)\n",
    "        * [image projection information](#image-projection-information)\n",
    "        * [image rectangle](#image-rectangle)"
   ]
  },
  {
   "cell_type": "markdown",
   "metadata": {},
   "source": [
    "# Utilities to Create Support Files\n",
    "\n",
    "The following tools are used to create OSSIM support files:\n",
    "\n",
    "* [```ossim-img2rr```](#ossim-img2rr) Create reduced resolution data sets for an image.\n",
    "* [```ossim-cmm```](#ossim-cmm) Determine the min/max pixel values of an image.\n",
    "* [```ossim-create-histo```](#ossim-create-histo) Compute a histogram for an image.\n",
    "* [```ossim-img2md```](#ossim-img2md) Create meta data files.\n",
    "* [```ossim-tfw2ogeom```]() Create a geom file from a TIFF World File.\n",
    "* [```ossim-extract-vertices```]() Compute the valid vertices (corners) of an image.\n",
    "* [```ossim-preproc```]() Create reduced resolution data sets, histograms, and so on. Application does directory walking and is threaded at a file level.\n",
    "* [```ossim-applanix2ogeom```]() Create a geom file for Applanix Images.\n",
    "* [```ossim-create-cg```]() Create an ossim coarse grid.\n",
    "* [```ossim-ecg2ocg```]() Convert an enhanced coarse grid to an ossim coarse grid.\n",
    "\n",
    "---"
   ]
  },
  {
   "cell_type": "markdown",
   "metadata": {},
   "source": [
    "## OSSIM-Applications\n",
    "\n",
    "   * [```ossim-band-merge```](#ossim-band-merge) Merge multiple image files into a single n-band dataset.\n",
    "   * [```ossim-chipper```](#ossim-chipper) Render elevation data (e.g. shaded relief).\n",
    "   * [```ossim-icp```](#ossim-icp) Convert an image from one format to another.\n",
    "   * [```ossim-igen```](#ossim-igen) Execute image chains specified in a spec file.\n",
    "   * [```ossim-orthoigen```](#ossim-orthoigen) Tool to orthorectify, mosaic, and convert raster data between different formats. It provides a number of operations including subsetting, resampling, histogram matching, and reprojection of data.\n",
    "   * [```ossim-rpf```](#ossim-rpf) Various utilities for managing RPF data."
   ]
  },
  {
   "cell_type": "markdown",
   "metadata": {},
   "source": [
    "* **Import IPython utility to display images**"
   ]
  },
  {
   "cell_type": "code",
   "execution_count": null,
   "metadata": {
    "collapsed": true
   },
   "outputs": [],
   "source": [
    "from IPython.core.display import Image"
   ]
  },
  {
   "cell_type": "markdown",
   "metadata": {},
   "source": [
    "* **Set the PATH to the natural earth dataset used in this notebook**"
   ]
  },
  {
   "cell_type": "code",
   "execution_count": null,
   "metadata": {
    "collapsed": false
   },
   "outputs": [],
   "source": [
    "DATADIR='/home/main/notebooks/data/landsat/'"
   ]
  },
  {
   "cell_type": "code",
   "execution_count": null,
   "metadata": {
    "collapsed": false
   },
   "outputs": [],
   "source": [
    "# we'll use the north_carolina image dataset\n",
    "!ls {DATADIR} | grep tif "
   ]
  },
  {
   "cell_type": "markdown",
   "metadata": {},
   "source": [
    "# ```ossim-info```\n",
    "\n",
    "[top](#Core-Programs)"
   ]
  },
  {
   "cell_type": "code",
   "execution_count": null,
   "metadata": {
    "collapsed": false,
    "scrolled": false
   },
   "outputs": [],
   "source": [
    "!ossim-info"
   ]
  },
  {
   "cell_type": "markdown",
   "metadata": {},
   "source": [
    "## Utility functions"
   ]
  },
  {
   "cell_type": "markdown",
   "metadata": {},
   "source": [
    "### radians from degrees\n",
    "\n",
    "```ossim-info --deg2rad <degrees>```"
   ]
  },
  {
   "cell_type": "code",
   "execution_count": null,
   "metadata": {
    "collapsed": false,
    "scrolled": true
   },
   "outputs": [],
   "source": [
    "!ossim-info --deg2rad 20.54"
   ]
  },
  {
   "cell_type": "markdown",
   "metadata": {},
   "source": [
    "[top](#Core-Programs)"
   ]
  },
  {
   "cell_type": "markdown",
   "metadata": {},
   "source": [
    "### degrees from radians\n",
    "   ```ossim-info --rad2deg <radians>```"
   ]
  },
  {
   "cell_type": "code",
   "execution_count": null,
   "metadata": {
    "collapsed": false
   },
   "outputs": [],
   "source": [
    "!ossim-info --rad2deg 0.35849"
   ]
  },
  {
   "cell_type": "markdown",
   "metadata": {},
   "source": [
    "[top](#Core-Programs)"
   ]
  },
  {
   "cell_type": "markdown",
   "metadata": {},
   "source": [
    "### meters from feet \n",
    "- 0.3048 meters per foot\n",
    "\n",
    "    ```ossim-info --ft2mtrs <feet>``` "
   ]
  },
  {
   "cell_type": "code",
   "execution_count": null,
   "metadata": {
    "collapsed": false
   },
   "outputs": [],
   "source": [
    "!ossim-info --ft2mtrs 1"
   ]
  },
  {
   "cell_type": "markdown",
   "metadata": {},
   "source": [
    "- 0.3048006096 meters per foot\n",
    "    \n",
    "    ```ossim-info --ft2mtrs-us-survey <feet>``` "
   ]
  },
  {
   "cell_type": "code",
   "execution_count": null,
   "metadata": {
    "collapsed": false
   },
   "outputs": [],
   "source": [
    "!ossim-info --ft2mtrs-us-survey 1"
   ]
  },
  {
   "cell_type": "markdown",
   "metadata": {},
   "source": [
    "[top](#Core-Programs)"
   ]
  },
  {
   "cell_type": "markdown",
   "metadata": {},
   "source": [
    "### meters to feet\n",
    "* 0.3048 meters per foot\n",
    "\n",
    "    ```ossim-info --mtrs2ft <meters>```\n"
   ]
  },
  {
   "cell_type": "code",
   "execution_count": null,
   "metadata": {
    "collapsed": false
   },
   "outputs": [],
   "source": [
    "!ossim-info --mtrs2ft 1"
   ]
  },
  {
   "cell_type": "markdown",
   "metadata": {},
   "source": [
    "* 0.3048006096 meters per foot\n",
    "\n",
    "    ```ossim-info --mtrs2ft-us-survey  <meters>```"
   ]
  },
  {
   "cell_type": "code",
   "execution_count": null,
   "metadata": {
    "collapsed": false
   },
   "outputs": [],
   "source": [
    "!ossim-info --mtrs2ft-us-survey  1"
   ]
  },
  {
   "cell_type": "markdown",
   "metadata": {},
   "source": [
    "[top](#Core-Programs)"
   ]
  },
  {
   "cell_type": "markdown",
   "metadata": {},
   "source": [
    "### height\n",
    "return the MSL and ellipoid height given a latitude longitude position\n",
    "\n",
    "```ossim-info --height <latitude-in-degrees> <longitude-in-degrees>``` "
   ]
  },
  {
   "cell_type": "code",
   "execution_count": null,
   "metadata": {
    "collapsed": false
   },
   "outputs": [],
   "source": [
    "# note we pass the path to the ossim_preference file to tell where the geoid file is\n",
    "!ossim-info --height 47.54 157.40 -P /usr/local/share/ossim/ossim_preference"
   ]
  },
  {
   "cell_type": "markdown",
   "metadata": {},
   "source": [
    "[top](#Core-Programs)"
   ]
  },
  {
   "cell_type": "markdown",
   "metadata": {},
   "source": [
    "### Meters per degrees\n",
    "Gives meters per degree and meters per minute for a given latitude.   \n",
    "```ossim-info --mtrsPerDeg <latitude>```"
   ]
  },
  {
   "cell_type": "code",
   "execution_count": null,
   "metadata": {
    "collapsed": false
   },
   "outputs": [],
   "source": [
    "!ossim-info --mtrsPerDeg 65.45"
   ]
  },
  {
   "cell_type": "markdown",
   "metadata": {},
   "source": [
    "[top](#Core-Programs)"
   ]
  },
  {
   "cell_type": "markdown",
   "metadata": {},
   "source": [
    "### Datums\n",
    "Prints datum list.\n",
    "```ossim-info --datums```             \n"
   ]
  },
  {
   "cell_type": "code",
   "execution_count": null,
   "metadata": {
    "collapsed": false
   },
   "outputs": [],
   "source": [
    "!ossim-info --datums"
   ]
  },
  {
   "cell_type": "markdown",
   "metadata": {},
   "source": [
    "### Projections\n",
    "Prints projections list\n",
    "```ossim-info --projections```       "
   ]
  },
  {
   "cell_type": "code",
   "execution_count": null,
   "metadata": {
    "collapsed": false
   },
   "outputs": [],
   "source": [
    "!ossim-info --projections"
   ]
  },
  {
   "cell_type": "markdown",
   "metadata": {},
   "source": [
    "[top](#Core-Programs)"
   ]
  },
  {
   "cell_type": "markdown",
   "metadata": {},
   "source": [
    "## Explore raster data"
   ]
  },
  {
   "cell_type": "markdown",
   "metadata": {},
   "source": [
    "### ground center\n",
    "\n",
    "    ```ossim-info --cg filename```"
   ]
  },
  {
   "cell_type": "code",
   "execution_count": null,
   "metadata": {
    "collapsed": false
   },
   "outputs": [],
   "source": [
    "!ossim-info --cg {DATADIR}/p011r031_7t19990918_z19_nn10.tif -P /usr/local/share/ossim/ossim_preference"
   ]
  },
  {
   "cell_type": "markdown",
   "metadata": {},
   "source": [
    "[top](#Core-Programs)"
   ]
  },
  {
   "cell_type": "markdown",
   "metadata": {},
   "source": [
    "### image center\n",
    "\n",
    "    ```ossim-info  --ci filename```         "
   ]
  },
  {
   "cell_type": "code",
   "execution_count": null,
   "metadata": {
    "collapsed": false
   },
   "outputs": [],
   "source": [
    "!ossim-info  --ci {DATADIR}/p011r031_7t19990918_z19_nn10.tif -P /usr/local/share/ossim/ossim_preference"
   ]
  },
  {
   "cell_type": "markdown",
   "metadata": {},
   "source": [
    "[top](#Core-Programs)"
   ]
  },
  {
   "cell_type": "markdown",
   "metadata": {},
   "source": [
    "### ground and image center\n",
    "\n",
    "    ```ossim-info -c filename```"
   ]
  },
  {
   "cell_type": "code",
   "execution_count": null,
   "metadata": {
    "collapsed": false
   },
   "outputs": [],
   "source": [
    "!ossim-info  -c {DATADIR}/p011r031_7t19990918_z19_nn10.tif -P /usr/local/share/ossim/ossim_preference"
   ]
  },
  {
   "cell_type": "markdown",
   "metadata": {},
   "source": [
    "[top](#Core-Programs)"
   ]
  },
  {
   "cell_type": "markdown",
   "metadata": {},
   "source": [
    "### general image information\n",
    "    \n",
    "    ```ossim-info -i filename```"
   ]
  },
  {
   "cell_type": "code",
   "execution_count": null,
   "metadata": {
    "collapsed": false
   },
   "outputs": [],
   "source": [
    "!ossim-info  -i {DATADIR}/p011r031_7t19990918_z19_nn10.tif -P /usr/local/share/ossim/ossim_preference"
   ]
  },
  {
   "cell_type": "markdown",
   "metadata": {},
   "source": [
    "[top](#Core-Programs)"
   ]
  },
  {
   "cell_type": "markdown",
   "metadata": {},
   "source": [
    "### meta data image information\n",
    "\n",
    "    ossim-info -m filename"
   ]
  },
  {
   "cell_type": "code",
   "execution_count": null,
   "metadata": {
    "collapsed": false
   },
   "outputs": [],
   "source": [
    "!ossim-info  -m {DATADIR}/p011r031_7t19990918_z19_nn10.tif -P /usr/local/share/ossim/ossim_preference"
   ]
  },
  {
   "cell_type": "markdown",
   "metadata": {},
   "source": [
    "[top](#Core-Programs)"
   ]
  },
  {
   "cell_type": "markdown",
   "metadata": {},
   "source": [
    "### image projection information\n",
    "\n",
    "    ossim-info -p filename"
   ]
  },
  {
   "cell_type": "code",
   "execution_count": null,
   "metadata": {
    "collapsed": false
   },
   "outputs": [],
   "source": [
    "!ossim-info  -p {DATADIR}/p011r031_7t19990918_z19_nn10.tif -P /usr/local/share/ossim/ossim_preference"
   ]
  },
  {
   "cell_type": "markdown",
   "metadata": {},
   "source": [
    "[top](#Core-Programs)"
   ]
  },
  {
   "cell_type": "markdown",
   "metadata": {},
   "source": [
    "### image rectangle\n",
    "\n",
    "    ossim-info -r filename"
   ]
  },
  {
   "cell_type": "code",
   "execution_count": null,
   "metadata": {
    "collapsed": false
   },
   "outputs": [],
   "source": [
    "!ossim-info  -r {DATADIR}/p011r031_7t19990918_z19_nn10.tif -P /usr/local/share/ossim/ossim_preference"
   ]
  },
  {
   "cell_type": "markdown",
   "metadata": {},
   "source": [
    "[top](#Core-Programs)"
   ]
  },
  {
   "cell_type": "markdown",
   "metadata": {},
   "source": [
    "# ```ossim-img2rr```"
   ]
  },
  {
   "cell_type": "code",
   "execution_count": null,
   "metadata": {
    "collapsed": false
   },
   "outputs": [],
   "source": [
    "!ossim-img2rr {DATADIR}/p011r031_7t19990918_z19_nn10.tif -P /usr/local/share/ossim/ossim_preference"
   ]
  },
  {
   "cell_type": "code",
   "execution_count": null,
   "metadata": {
    "collapsed": false
   },
   "outputs": [],
   "source": [
    "!ossim-img2rr {DATADIR}/p011r031_7t19990918_z19_nn20.tif -P /usr/local/share/ossim/ossim_preference"
   ]
  },
  {
   "cell_type": "code",
   "execution_count": null,
   "metadata": {
    "collapsed": false
   },
   "outputs": [],
   "source": [
    "!ossim-img2rr {DATADIR}/p011r031_7t19990918_z19_nn30.tif -P /usr/local/share/ossim/ossim_preference"
   ]
  },
  {
   "cell_type": "markdown",
   "metadata": {},
   "source": [
    "# ```ossim-cmm```  "
   ]
  },
  {
   "cell_type": "code",
   "execution_count": null,
   "metadata": {
    "collapsed": false
   },
   "outputs": [],
   "source": [
    "!ossim-cmm {DATADIR}/p011r031_7t19990918_z19_nn10.tif -P /usr/local/share/ossim/ossim_preference"
   ]
  },
  {
   "cell_type": "code",
   "execution_count": null,
   "metadata": {
    "collapsed": false
   },
   "outputs": [],
   "source": [
    "!ossim-cmm {DATADIR}/p011r031_7t19990918_z19_nn20.tif -P /usr/local/share/ossim/ossim_preference"
   ]
  },
  {
   "cell_type": "code",
   "execution_count": null,
   "metadata": {
    "collapsed": false
   },
   "outputs": [],
   "source": [
    "!ossim-cmm {DATADIR}/p011r031_7t19990918_z19_nn30.tif -P /usr/local/share/ossim/ossim_preference"
   ]
  },
  {
   "cell_type": "code",
   "execution_count": null,
   "metadata": {
    "collapsed": false
   },
   "outputs": [],
   "source": [
    "!cat /home/main/notebooks/data/landsat/p011r031_7t19990918_z19_nn10.omd"
   ]
  },
  {
   "cell_type": "markdown",
   "metadata": {},
   "source": [
    "# ```ossim-img2md```\n",
    "\n",
    "\n",
    "    Usage: ossim-img2md [options] <metadata_writer> <input_file> <output_file>\n",
    "    \n",
    "    \n",
    "   * Valid metadata writer types:\n",
    "    * envi_header\t\n",
    "    * ers_header\t\n",
    "    * ossim_fgdc\t\n",
    "    * ossim_geometry\t\n",
    "    * ossim_readme\t\n",
    "    * tiff_world_file\t\n",
    "    * jpeg_world_file\t"
   ]
  },
  {
   "cell_type": "code",
   "execution_count": null,
   "metadata": {
    "collapsed": false
   },
   "outputs": [],
   "source": [
    "!ossim-img2md -P /usr/local/share/ossim/ossim_preference tiff_world_file {DATADIR}/p011r031_7t19990918_z19_nn10.tif {DATADIR}/p011r031_7t19990918_z19_nn10.tfw "
   ]
  },
  {
   "cell_type": "code",
   "execution_count": null,
   "metadata": {
    "collapsed": false
   },
   "outputs": [],
   "source": [
    "!cat /home/main/notebooks/data/landsat//p011r031_7t19990918_z19_nn10.tfw"
   ]
  },
  {
   "cell_type": "markdown",
   "metadata": {},
   "source": [
    "# ```ossim-band-merge```\n",
    "\n",
    "```ossim-band-merge [-h][-o][-w tile_width] <output_type> <input_file1> <input_file2> ... <output_file>```"
   ]
  },
  {
   "cell_type": "markdown",
   "metadata": {},
   "source": [
    "Example, crete an RGB image from the single-band grayscale r,g,b images (Landsat 7)"
   ]
  },
  {
   "cell_type": "code",
   "execution_count": null,
   "metadata": {
    "collapsed": false
   },
   "outputs": [],
   "source": [
    "!ossim-band-merge jpeg -P /usr/local/share/ossim/ossim_preference \\\n",
    "                 {DATADIR}/p011r031_7t19990918_z19_nn30.tif \\\n",
    "                 {DATADIR}/p011r031_7t19990918_z19_nn20.tif \\\n",
    "                 {DATADIR}/p011r031_7t19990918_z19_nn10.tif \\\n",
    "                 rgb.jpeg"
   ]
  },
  {
   "cell_type": "code",
   "execution_count": null,
   "metadata": {
    "collapsed": false
   },
   "outputs": [],
   "source": [
    "!ossim-cmm rgb.jpeg -P /usr/local/share/ossim/ossim_preference"
   ]
  },
  {
   "cell_type": "code",
   "execution_count": null,
   "metadata": {
    "collapsed": false
   },
   "outputs": [],
   "source": [
    "!cat rgb.omd"
   ]
  },
  {
   "cell_type": "code",
   "execution_count": null,
   "metadata": {
    "collapsed": false
   },
   "outputs": [],
   "source": [
    "Image(\"rgb.jpeg\")"
   ]
  },
  {
   "cell_type": "markdown",
   "metadata": {},
   "source": [
    "[top](#Core-Programs)"
   ]
  },
  {
   "cell_type": "markdown",
   "metadata": {},
   "source": [
    "# ```ossim-create-histo```"
   ]
  },
  {
   "cell_type": "code",
   "execution_count": null,
   "metadata": {
    "collapsed": false
   },
   "outputs": [],
   "source": [
    "!ossim-create-histo {DATADIR}/p011r031_7t19990918_z19_nn30.tif \\\n",
    "{DATADIR}/p011r031_7t19990918_z19_nn20.tif \\\n",
    "{DATADIR}/p011r031_7t19990918_z19_nn10.tif"
   ]
  },
  {
   "cell_type": "code",
   "execution_count": null,
   "metadata": {
    "collapsed": false
   },
   "outputs": [],
   "source": [
    "!ossim-orthoigen --hist-auto-minmax {DATADIR}/p011r031_7t19990918_z19_nn30.tif {DATADIR}/p011r031_7t19990918_z19_nn30_histmm.tif -P /usr/local/share/ossim/ossim_preference\n",
    "!ossim-orthoigen --hist-auto-minmax {DATADIR}/p011r031_7t19990918_z19_nn20.tif {DATADIR}/p011r031_7t19990918_z19_nn20_histmm.tif -P /usr/local/share/ossim/ossim_preference\n",
    "!ossim-orthoigen --hist-auto-minmax {DATADIR}/p011r031_7t19990918_z19_nn10.tif {DATADIR}/p011r031_7t19990918_z19_nn10_histmm.tif -P /usr/local/share/ossim/ossim_preference"
   ]
  },
  {
   "cell_type": "code",
   "execution_count": null,
   "metadata": {
    "collapsed": false
   },
   "outputs": [],
   "source": [
    "!ossim-band-merge jpeg -P /usr/local/share/ossim/ossim_preference \\\n",
    "                 {DATADIR}/p011r031_7t19990918_z19_nn30_histmm.tif \\\n",
    "                 {DATADIR}/p011r031_7t19990918_z19_nn20_histmm.tif \\\n",
    "                 {DATADIR}/p011r031_7t19990918_z19_nn10_histmm.tif \\\n",
    "                 rgb_histmm.jpeg"
   ]
  },
  {
   "cell_type": "code",
   "execution_count": null,
   "metadata": {
    "collapsed": false
   },
   "outputs": [],
   "source": [
    "Image('rgb_histmm.jpeg')"
   ]
  },
  {
   "cell_type": "markdown",
   "metadata": {},
   "source": [
    "# ```ossim-chipper```"
   ]
  },
  {
   "cell_type": "code",
   "execution_count": null,
   "metadata": {
    "collapsed": false
   },
   "outputs": [],
   "source": [
    "!ossim-chipper --color 255 255 255 \\\n",
    "              --azimuth 270 \\\n",
    "              --elevation 45 \\\n",
    "              --exaggeration 2.0 \\\n",
    "              --op hillshade \\\n",
    "              --color-table {DATADIR}/ossim-dem-color-table-template.kwl \\\n",
    "              --input-dem {DATADIR}/SRTM_fB03_p011r031.tif \\\n",
    "              hillshade.jpg -P /usr/local/share/ossim/ossim_preference"
   ]
  },
  {
   "cell_type": "code",
   "execution_count": null,
   "metadata": {
    "collapsed": false
   },
   "outputs": [],
   "source": [
    "!ossim-info {DATADIR}/SRTM_fB03_p011r031.tif -P /usr/local/share/ossim/ossim_preference"
   ]
  },
  {
   "cell_type": "code",
   "execution_count": null,
   "metadata": {
    "collapsed": false
   },
   "outputs": [],
   "source": [
    "!gdalinfo {DATADIR}/SRTM_fB03_p011r031.tif"
   ]
  },
  {
   "cell_type": "code",
   "execution_count": null,
   "metadata": {
    "collapsed": false
   },
   "outputs": [],
   "source": [
    "Image('hillshade.jpg')"
   ]
  },
  {
   "cell_type": "markdown",
   "metadata": {},
   "source": [
    "[top](#Core-Programs)"
   ]
  },
  {
   "cell_type": "markdown",
   "metadata": {},
   "source": [
    "# ```ossim-icp```\n",
    "\n",
    "```ossim-icp [options] <output_type> <input_file> <output_file>```"
   ]
  },
  {
   "cell_type": "code",
   "execution_count": null,
   "metadata": {
    "collapsed": false
   },
   "outputs": [],
   "source": [
    "# A complete list of ossim writers (driver) is given by:\n",
    "!ossim-info --writers -P /usr/local/share/ossim/ossim_preference"
   ]
  },
  {
   "cell_type": "code",
   "execution_count": null,
   "metadata": {
    "collapsed": false
   },
   "outputs": [],
   "source": [
    "#convert a geotiff to a geopdf\n",
    "!ossim-icp ossim_pdf rgb_histmm.jpeg rgb_histmm.pdf"
   ]
  },
  {
   "cell_type": "code",
   "execution_count": null,
   "metadata": {
    "collapsed": false
   },
   "outputs": [],
   "source": [
    "#view the results in a pdf viewer\n",
    "#nohup evince lsat7_2002_30.pdf &"
   ]
  },
  {
   "cell_type": "markdown",
   "metadata": {},
   "source": [
    "[top](#Core-Programs)"
   ]
  },
  {
   "cell_type": "markdown",
   "metadata": {},
   "source": [
    "# ```ossim-igen```\n",
    "\n",
    "Execute image chains specified in a spec file.\n",
    "\n",
    "In the folowing example the spec file ```rgb.spec``` has been generated using  [imagelinker](http://localhost/osgeolive/en/quickstart/ossim_quickstart.html), from an example session: ```/home/user/ossim/ossim-rgb.prj```"
   ]
  },
  {
   "cell_type": "code",
   "execution_count": null,
   "metadata": {
    "collapsed": false,
    "scrolled": true
   },
   "outputs": [],
   "source": [
    "#ossim-igen /home/user/ossim/rgb.spec"
   ]
  },
  {
   "cell_type": "code",
   "execution_count": null,
   "metadata": {
    "collapsed": false
   },
   "outputs": [],
   "source": [
    "#display < /home/user/rgb.jpg"
   ]
  },
  {
   "cell_type": "markdown",
   "metadata": {},
   "source": [
    "[top](#Core-Programs)"
   ]
  },
  {
   "cell_type": "markdown",
   "metadata": {},
   "source": [
    "# ```ossim-orthoigen```\n",
    "\n",
    "```todo```"
   ]
  },
  {
   "cell_type": "markdown",
   "metadata": {},
   "source": [
    "# ```ossim-rpf```\n",
    "\n",
    "```todo```"
   ]
  },
  {
   "cell_type": "markdown",
   "metadata": {},
   "source": [
    "[top](#Notebooks---Access-to-Geospatial-data)"
   ]
  }
 ],
 "metadata": {
  "kernelspec": {
   "display_name": "Python 3",
   "language": "python",
   "name": "python3"
  },
  "language_info": {
   "codemirror_mode": {
    "name": "ipython",
    "version": 3
   },
   "file_extension": ".py",
   "mimetype": "text/x-python",
   "name": "python",
   "nbconvert_exporter": "python",
   "pygments_lexer": "ipython3",
   "version": "3.4.3"
  }
 },
 "nbformat": 4,
 "nbformat_minor": 0
}
