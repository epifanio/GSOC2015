{
 "cells": [
  {
   "cell_type": "markdown",
   "metadata": {},
   "source": [
    "# IPython Display System and Interactive Widgets"
   ]
  },
  {
   "cell_type": "markdown",
   "metadata": {},
   "source": [
    "## SciPy 2014 tutorial"
   ]
  },
  {
   "cell_type": "markdown",
   "metadata": {},
   "source": [
    "* Brian Granger (@ellisonbg)\n",
    "* Jonathan Frederic (@jdfreder on GH, @goosejon on Twitter)"
   ]
  },
  {
   "cell_type": "markdown",
   "metadata": {},
   "source": [
    "## Installation"
   ]
  },
  {
   "cell_type": "markdown",
   "metadata": {},
   "source": [
    "* http://github.com/ipython/ipython-in-depth\n",
    "* A quick [installation check](http://ipython.org/install.html)"
   ]
  },
  {
   "cell_type": "markdown",
   "metadata": {},
   "source": [
    "## Introduction"
   ]
  },
  {
   "cell_type": "markdown",
   "metadata": {},
   "source": [
    "* [What is the IPython Notebook?](examples/Notebook/What%20is%20the%20IPython%20Notebook.ipynb)\n",
    "* [Notebook Basics](examples/Notebook/Notebook Basics.ipynb)\n",
    "* [Notebook Exercises](exercises/Notebook/Notebook Exercises.ipynb)"
   ]
  },
  {
   "cell_type": "markdown",
   "metadata": {},
   "source": [
    "## Display of rich output formats"
   ]
  },
  {
   "cell_type": "markdown",
   "metadata": {},
   "source": [
    "* [Rich Output](examples/IPython Kernel/Rich Output.ipynb)\n",
    "* [Rich Output Exercises](exercises/IPython Kernel/Rich Output Exercises.ipynb)\n",
    "* [Custom Display Logic](examples/IPython Kernel/Custom Display Logic.ipynb)\n",
    "* [Custom Display Logic Exercises](exercises/IPython Kernel/Custom Display Logic Exercises.ipynb)"
   ]
  },
  {
   "cell_type": "markdown",
   "metadata": {},
   "source": [
    "## Interactive Widgets"
   ]
  },
  {
   "cell_type": "markdown",
   "metadata": {},
   "source": [
    "* [Using Interact](examples/Interactive Widgets/Using Interact.ipynb)\n",
    "* [Interact Exercises](exercises/Interactive Widgets/Interact Exercises.ipynb)\n",
    "* [Introduction to Widgets](examples/Interactive Widgets/Widget Basics.ipynb)\n",
    "* [Quick list of Widgets](examples/Interactive Widgets/Widget List.ipynb)\n",
    "* [Widget Events](examples/Interactive Widgets/Widget Events.ipynb)\n",
    "* [Widget Styling](examples/Interactive Widgets/Widget Styling.ipynb)\n",
    "* [Custom Widget: Hello World](examples/Interactive Widgets/Custom Widget - Hello World.ipynb)\n",
    "* [Widget Exercises](exercises/Interactive Widgets/Widget Exercises.ipynb)"
   ]
  }
 ],
 "metadata": {},
 "nbformat": 4,
 "nbformat_minor": 0
}
