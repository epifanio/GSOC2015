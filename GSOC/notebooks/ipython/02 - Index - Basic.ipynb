{
 "cells": [
  {
   "cell_type": "markdown",
   "metadata": {},
   "source": [
    "# IPython & Jupyter: "
   ]
  },
  {
   "cell_type": "markdown",
   "metadata": {},
   "source": [
    "Class outline:\n",
    "\n",
    "* A quick [installation check](http://ipython.org/install.html)\n",
    "* An overview of the IPython project from [the official website](http://ipython.org).\n",
    "* Super basic intro to the notebook: typing code.\n",
    "* [Notebook Basics](examples/Notebook/Notebook Basics.ipynb)\n",
    "* [IPython - beyond plain python](examples/IPython Kernel/Beyond Plain Python.ipynb)\n",
    "* [Markdown Cells](examples/Notebook/Working With Markdown Cells.ipynb)\n",
    "* [Rich Display System](examples/IPython Kernel/Rich Output.ipynb)\n",
    "* [Introduction to Interactive Javascript Widgets](examples/Interactive Widgets/Using Interact.ipynb)\n",
    "* [Customizing IPython - a condensed version](exercises/Customization/Condensed.ipynb)\n",
    "* [Running a Secure Public Notebook Server](examples/Notebook/Running%20the%20Notebook%20Server.ipynb#Securing-the-notebook-server)\n",
    "* [How Jupyter/IPython works](examples/Notebook/Multiple%20Languages%2C%20Frontends.ipynb) to run code in different languages."
   ]
  },
  {
   "cell_type": "markdown",
   "metadata": {},
   "source": [
    "There are a lot more detailed notebooks in this same directory that cover other topics, but we can not cover all in a 3-hour tutorial. We encourage you to explore them and practice on your own.\n",
    "\n",
    "For even more detail, you can visit our [example collection](http://nbviewer.ipython.org/github/ipython/ipython/blob/master/examples/Index.ipynb) from our site, also included in the IPython source code repository."
   ]
  }
 ],
 "metadata": {
  "kernelspec": {
   "display_name": "Python 3",
   "language": "python",
   "name": "python3"
  },
  "language_info": {
   "codemirror_mode": {
    "name": "ipython",
    "version": 3
   },
   "file_extension": ".py",
   "mimetype": "text/x-python",
   "name": "python",
   "nbconvert_exporter": "python",
   "pygments_lexer": "ipython3",
   "version": "3.4.3"
  }
 },
 "nbformat": 4,
 "nbformat_minor": 0
}
