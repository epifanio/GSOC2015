{
 "cells": [
  {
   "cell_type": "code",
   "execution_count": null,
   "metadata": {
    "collapsed": false
   },
   "outputs": [],
   "source": [
    "from render import view"
   ]
  },
  {
   "cell_type": "code",
   "execution_count": null,
   "metadata": {
    "collapsed": false
   },
   "outputs": [],
   "source": [
    "view(rasters=['elevation@PERMANENT'], vectors=['railroads@PERMANENT'], vkw={'color':'red'})"
   ]
  },
  {
   "cell_type": "code",
   "execution_count": null,
   "metadata": {
    "collapsed": false
   },
   "outputs": [],
   "source": [
    "view(rasters=['elevation@PERMANENT'], vectors=['railroads@PERMANENT'], vkw={'color':'red'}, meta=True)"
   ]
  },
  {
   "cell_type": "code",
   "execution_count": null,
   "metadata": {
    "collapsed": true
   },
   "outputs": [],
   "source": [
    "import grass.script as grass\n",
    "from IPython.core.display import HTML\n",
    "\n",
    "def dict2html(dic, keys=None, border='', prec=4):\n",
    "    dcont = \"\"\"<tr>\n",
    "    <td><b>%s</b></td>\n",
    "    <td>%s</td>\n",
    "    </tr>\"\"\"\n",
    "    keys = keys if keys else sorted(dic.keys())\n",
    "    header = \"<table border=%r>\" % border if border else \"<table>\"    \n",
    "    content = [dcont % (k,dic[k]) for k in keys]\n",
    "    return '\\n'.join([header, ] + content + ['</table>', ])\n",
    "\n",
    "def list2dict(inputlist, sep=\"=\", inverse=False):\n",
    "    if inverse:\n",
    "        dictionary = dict([(i.split(sep)[1],i.split(sep)[0]) for i in inputlist])\n",
    "    else :\n",
    "        dictionary = dict([(i.split(sep)[0],i.split(sep)[1]) for i in inputlist])\n",
    "    return dictionary\n",
    "\n",
    "def rlayerInfo(map):\n",
    "    raster_info = grass.read_command('r.info', map=map, flags='g').strip().split('\\n')\n",
    "    raster_info = list2dict(raster_info)\n",
    "    \n",
    "    map_range = grass.read_command('r.info', map=map, flags='r').strip().split('\\n')\n",
    "    map_range = list2dict(map_range)\n",
    "    raster_info['range'] = map_range\n",
    "    return raster_info\n",
    "\n",
    "def vlayerInfo(map,layer=1):\n",
    "    hist = grass.read_command('v.info', map=map, layer=1, flags='h').split('\\n')\n",
    "    map_history = {'COMMAND' : hist[0].split(':')[1],\n",
    "                   'GISDBASE' : hist[1].split(':')[1],\n",
    "                   'LOCATION' : hist[2].split(' ')[1],\n",
    "                   'MAPSET' : hist[2].split(' ')[3],\n",
    "                   'USER' : hist[2].split(' ')[5],\n",
    "                   'DATE' : hist[2].split(' ')[7:]}\n",
    "    map_table = grass.read_command('v.info', map=map, layer=1, flags='c').strip().split('\\n')\n",
    "    map_table = list2dict(map_table[1:], sep='|', inverse=True)\n",
    "    map_region = !v.info map={map} layer={layer} -g\n",
    "    map_region = list2dict(map_region)\n",
    "    map_topology = grass.read_command('v.info', map=map, layer=1, flags='t').strip().split('\\n')\n",
    "    map_topology = list2dict(map_topology)\n",
    "    info = {'table' : map_table,\n",
    "            'region' : map_region,\n",
    "            'history' : map_history,\n",
    "            'topology' : map_topology,\n",
    "            } #'title' : map_title\n",
    "    return info"
   ]
  },
  {
   "cell_type": "code",
   "execution_count": null,
   "metadata": {
    "collapsed": false
   },
   "outputs": [],
   "source": [
    "railroads = vlayerInfo(\"railroads\")"
   ]
  },
  {
   "cell_type": "code",
   "execution_count": null,
   "metadata": {
    "collapsed": true
   },
   "outputs": [],
   "source": [
    "elev = rlayerInfo(\"elevation\")"
   ]
  },
  {
   "cell_type": "code",
   "execution_count": null,
   "metadata": {
    "collapsed": false
   },
   "outputs": [],
   "source": [
    "HTML(dict2html(railroads))"
   ]
  },
  {
   "cell_type": "code",
   "execution_count": null,
   "metadata": {
    "collapsed": false
   },
   "outputs": [],
   "source": [
    "railroads.keys()"
   ]
  },
  {
   "cell_type": "code",
   "execution_count": null,
   "metadata": {
    "collapsed": false
   },
   "outputs": [],
   "source": [
    "HTML(dict2html(railroads['history']))"
   ]
  },
  {
   "cell_type": "code",
   "execution_count": null,
   "metadata": {
    "collapsed": false
   },
   "outputs": [],
   "source": [
    "HTML(dict2html(elev))"
   ]
  },
  {
   "cell_type": "code",
   "execution_count": null,
   "metadata": {
    "collapsed": true
   },
   "outputs": [],
   "source": []
  }
 ],
 "metadata": {
  "gist_id": "0c1cbb2d4cd74aa2b6a1",
  "kernelspec": {
   "display_name": "Python 2",
   "language": "python",
   "name": "python2"
  },
  "language_info": {
   "codemirror_mode": {
    "name": "ipython",
    "version": 2
   },
   "file_extension": ".py",
   "mimetype": "text/x-python",
   "name": "python",
   "nbconvert_exporter": "python",
   "pygments_lexer": "ipython2",
   "version": "2.7.10"
  }
 },
 "nbformat": 4,
 "nbformat_minor": 0
}
