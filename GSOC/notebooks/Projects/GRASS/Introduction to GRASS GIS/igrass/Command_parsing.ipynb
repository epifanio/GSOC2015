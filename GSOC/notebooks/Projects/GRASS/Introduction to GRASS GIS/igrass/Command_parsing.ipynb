{
 "cells": [
  {
   "cell_type": "markdown",
   "metadata": {},
   "source": [
    "Well use an utility script with few lines of code to parse the output of GRASS commands and make new functions that use the parsed output.\n",
    "\n",
    "The script use ipython specific syntax like **```!system_command```** which allows to run any command available in the user **```$PATH```**. The code is saved in a file with **```.ipy```** extension and is imported using the ipython magic function **```%run```**:\n",
    "\n",
    "**```%run file.ipy```** \n",
    "\n",
    "the source code available in grassutil.ipy in the current directory and can be loaded in the notebook using the magic function **```%load```**:\n",
    "\n",
    "**```%load grassutil.ipy```** \n",
    "\n",
    "It is also possible to save a new file or to overwrite an existing one, from the content of a ```code cell``` using the magic function:\n",
    "\n",
    "**```%%file filename```**.\n",
    "\n",
    "\n",
    "Running the ```grassutil.py``` code, the following functions will be immediatly available in the current notebook:\n",
    "    \n",
    "    getLayerList\n",
    "    list2dict\n",
    "    vlayerInfo\n",
    "    rlayerInfo\n",
    "    region2dict\n",
    "    makeImage"
   ]
  },
  {
   "cell_type": "markdown",
   "metadata": {},
   "source": [
    "In the IPython notebook is possinle to execute any command available in the ```$USER``` ```$PATH``` environment, such all the grass command after exporting the grass environment."
   ]
  },
  {
   "cell_type": "markdown",
   "metadata": {},
   "source": [
    "Use of the [g.gisenv](../../../../files/notebooks/projects/GRASS/docs/html/g.gisenv.html)\n"
   ]
  },
  {
   "cell_type": "code",
   "execution_count": 38,
   "metadata": {
    "collapsed": false
   },
   "outputs": [
    {
     "name": "stdout",
     "output_type": "stream",
     "text": [
      "GISDBASE=/home/main/notebooks/data/grass7data\r\n",
      "LOCATION_NAME=nc_basic_spm_grass7\r\n",
      "MAPSET=user1\r\n",
      "LOCATION=/home/main/notebooks/data/grass7data/nc_basic_spm_grass7\r\n"
     ]
    }
   ],
   "source": [
    "!g.gisenv"
   ]
  },
  {
   "cell_type": "markdown",
   "metadata": {},
   "source": [
    "Use of the [g.mapset](../../../../files/notebooks/projects/GRASS/docs/html/g.mapset.html)\n",
    "* Set the GRASS WORKSPACE to : \n",
    "    - LOCATION  : spearfish \n",
    "    - MAPSET : user1"
   ]
  },
  {
   "cell_type": "code",
   "execution_count": 39,
   "metadata": {
    "collapsed": false
   },
   "outputs": [
    {
     "name": "stdout",
     "output_type": "stream",
     "text": [
      "WARNING: <user1> is already the current mapset\r\n",
      "\u0007"
     ]
    }
   ],
   "source": [
    "!g.mapset location=nc_basic_spm_grass7 mapset=user1"
   ]
  },
  {
   "cell_type": "markdown",
   "metadata": {},
   "source": [
    "* print projection info with [g.proj](../../../../files/notebooks/projects/GRASS/docs/html/g.proj.html)"
   ]
  },
  {
   "cell_type": "code",
   "execution_count": 40,
   "metadata": {
    "collapsed": false
   },
   "outputs": [
    {
     "name": "stdout",
     "output_type": "stream",
     "text": [
      "-PROJ_INFO-------------------------------------------------\r\n",
      "name       : Lambert Conformal Conic\r\n",
      "proj       : lcc\r\n",
      "datum      : nad83\r\n",
      "a          : 6378137.0\r\n",
      "es         : 0.006694380022900787\r\n",
      "lat_1      : 36.16666666666666\r\n",
      "lat_2      : 34.33333333333334\r\n",
      "lat_0      : 33.75\r\n",
      "lon_0      : -79\r\n",
      "x_0        : 609601.22\r\n",
      "y_0        : 0\r\n",
      "no_defs    : defined\r\n",
      "-PROJ_EPSG-------------------------------------------------\r\n",
      "epsg       : 3358\r\n",
      "-PROJ_UNITS------------------------------------------------\r\n",
      "unit       : Meter\r\n",
      "units      : Meters\r\n",
      "meters     : 1\r\n"
     ]
    }
   ],
   "source": [
    "!g.proj -p"
   ]
  },
  {
   "cell_type": "markdown",
   "metadata": {},
   "source": [
    "* list vector and raster layers with [g.list](../../../../files/notebooks/projects/GRASS/docs/html/g.list.html)"
   ]
  },
  {
   "cell_type": "code",
   "execution_count": 41,
   "metadata": {
    "collapsed": false
   },
   "outputs": [
    {
     "name": "stdout",
     "output_type": "stream",
     "text": [
      "basin_50K\r\n",
      "basins\r\n",
      "elevation@PERMANENT\r\n",
      "elevation@user1\r\n",
      "elevation_shade\r\n",
      "geology\r\n",
      "lakes\r\n",
      "landuse\r\n",
      "soils\r\n"
     ]
    }
   ],
   "source": [
    "!g.list rast"
   ]
  },
  {
   "cell_type": "markdown",
   "metadata": {},
   "source": [
    "* use the getLayerList function to store the g.list output in a python list"
   ]
  },
  {
   "cell_type": "code",
   "execution_count": 42,
   "metadata": {
    "collapsed": false
   },
   "outputs": [],
   "source": [
    "rasterlist = getLayerList(type='rast')\n",
    "vectorlist = getLayerList(type='vect')"
   ]
  },
  {
   "cell_type": "code",
   "execution_count": 43,
   "metadata": {
    "collapsed": false
   },
   "outputs": [
    {
     "data": {
      "text/plain": [
       "['basin_50K',\n",
       " 'basins',\n",
       " 'elevation@PERMANENT',\n",
       " 'elevation@user1',\n",
       " 'elevation_shade',\n",
       " 'geology',\n",
       " 'lakes',\n",
       " 'landuse',\n",
       " 'soils']"
      ]
     },
     "execution_count": 43,
     "metadata": {},
     "output_type": "execute_result"
    }
   ],
   "source": [
    "rasterlist"
   ]
  },
  {
   "cell_type": "code",
   "execution_count": 44,
   "metadata": {
    "collapsed": false,
    "scrolled": true
   },
   "outputs": [
    {
     "data": {
      "text/plain": [
       "['boundary_region',\n",
       " 'boundary_state',\n",
       " 'census',\n",
       " 'elev_points',\n",
       " 'firestations',\n",
       " 'geology',\n",
       " 'geonames',\n",
       " 'hospitals',\n",
       " 'points_of_interest',\n",
       " 'railroads',\n",
       " 'roadsmajor',\n",
       " 'schools',\n",
       " 'streams',\n",
       " 'streets',\n",
       " 'zipcodes']"
      ]
     },
     "execution_count": 44,
     "metadata": {},
     "output_type": "execute_result"
    }
   ],
   "source": [
    "vectorlist"
   ]
  },
  {
   "cell_type": "markdown",
   "metadata": {},
   "source": [
    "* print info for a raster layer with [r.info](../../../../files/notebooks/projects/GRASS/docs/html/r.info.html)\n",
    "\n"
   ]
  },
  {
   "cell_type": "code",
   "execution_count": 45,
   "metadata": {
    "collapsed": false
   },
   "outputs": [
    {
     "name": "stdout",
     "output_type": "stream",
     "text": [
      " +----------------------------------------------------------------------------+\r\n",
      " | Map:      elevation@PERMANENT            Date: Tue Nov  7 01:09:51 2006    |\r\n",
      " | Mapset:   PERMANENT                      Login of Creator: helena          |\r\n",
      " | Location: nc_basic_spm_grass7                                              |\r\n",
      " | DataBase: /home/main/notebooks/data/grass7data                             |\r\n",
      " | Title:    South-West Wake county: Elevation NED 10m ( elev_ned10m )        |\r\n",
      " | Timestamp: none                                                            |\r\n",
      " |----------------------------------------------------------------------------|\r\n",
      " |                                                                            |\r\n",
      " |   Type of Map:  raster               Number of Categories: 255             |\r\n",
      " |   Data Type:    FCELL                                                      |\r\n",
      " |   Rows:         1350                                                       |\r\n",
      " |   Columns:      1500                                                       |\r\n",
      " |   Total Cells:  2025000                                                    |\r\n",
      " |        Projection: Lambert Conformal Conic                                 |\r\n",
      " |            N:     228500    S:     215000   Res:    10                     |\r\n",
      " |            E:     645000    W:     630000   Res:    10                     |\r\n",
      " |   Range of data:    min = 55.57879  max = 156.3299                         |\r\n",
      " |                                                                            |\r\n",
      " |   Data Description:                                                        |\r\n",
      " |    generated by r.proj                                                     |\r\n",
      " |                                                                            |\r\n",
      " |   Comments:                                                                |\r\n",
      " |    r.proj input=\"ned03arcsec\" location=\"northcarolina_latlong\" mapset=\"\\   |\r\n",
      " |    helena\" output=\"elev_ned10m\" method=\"cubic\" resolution=10               |\r\n",
      " |                                                                            |\r\n",
      " +----------------------------------------------------------------------------+\r\n",
      "\r\n"
     ]
    }
   ],
   "source": [
    "!r.info elevation@PERMANENT"
   ]
  },
  {
   "cell_type": "markdown",
   "metadata": {},
   "source": [
    "* use the  'r/v'layerInfo function to store the [r.info](../../../../files/notebooks/projects/GRASS/docs/html/r.info.html) / [v.info](../../../../files/notebooks/projects/GRASS/docs/html/v.info.html)  output in a python dictionary"
   ]
  },
  {
   "cell_type": "code",
   "execution_count": 46,
   "metadata": {
    "collapsed": false
   },
   "outputs": [
    {
     "name": "stdout",
     "output_type": "stream",
     "text": [
      "mapset parameter not specified, using mapset PERMANENT as default\n",
      "['north=228500', 'south=215000', 'east=645000', 'west=630000', 'nsres=10', 'ewres=10', 'rows=1350', 'cols=1500', 'cells=2025000', 'datatype=FCELL', 'ncats=255']\n"
     ]
    }
   ],
   "source": [
    "rasterlayerinfo = rlayerInfo(map='elevation')\n",
    "vectorlayerinfo = vlayerInfo(map='geology')"
   ]
  },
  {
   "cell_type": "code",
   "execution_count": 47,
   "metadata": {
    "collapsed": false
   },
   "outputs": [
    {
     "data": {
      "text/plain": [
       "['rows',\n",
       " 'north',\n",
       " 'datatype',\n",
       " 'west',\n",
       " 'cells',\n",
       " 'cols',\n",
       " 'range',\n",
       " 'ewres',\n",
       " 'ncats',\n",
       " 'east',\n",
       " 'nsres',\n",
       " 'south',\n",
       " 'history']"
      ]
     },
     "execution_count": 47,
     "metadata": {},
     "output_type": "execute_result"
    }
   ],
   "source": [
    "rasterlayerinfo.keys()"
   ]
  },
  {
   "cell_type": "code",
   "execution_count": 48,
   "metadata": {
    "collapsed": false
   },
   "outputs": [
    {
     "name": "stdout",
     "output_type": "stream",
     "text": [
      "mapset parameter not specified, using mapset PERMANENT as default\n",
      "['north=228500', 'south=215000', 'east=645000', 'west=630000', 'nsres=10', 'ewres=10', 'rows=1350', 'cols=1500', 'cells=2025000', 'datatype=FCELL', 'ncats=255']\n"
     ]
    },
    {
     "data": {
      "text/plain": [
       "{'cells': '2025000',\n",
       " 'cols': '1500',\n",
       " 'datatype': 'FCELL',\n",
       " 'east': '645000',\n",
       " 'ewres': '10',\n",
       " 'history': 'Data Source:\\n   \\n   \\nData Description:\\n   generated by r.proj\\nComments:\\n   r.proj input=\"ned03arcsec\" location=\"northcarolina_latlong\" mapset=\"\\\\\\n   helena\" output=\"elev_ned10m\" method=\"cubic\" resolution=10',\n",
       " 'ncats': '255',\n",
       " 'north': '228500',\n",
       " 'nsres': '10',\n",
       " 'range': {'max': '156.3299', 'min': '55.57879'},\n",
       " 'rows': '1350',\n",
       " 'south': '215000',\n",
       " 'west': '630000'}"
      ]
     },
     "execution_count": 48,
     "metadata": {},
     "output_type": "execute_result"
    }
   ],
   "source": [
    "rlayerInfo('elevation')"
   ]
  },
  {
   "cell_type": "markdown",
   "metadata": {},
   "source": [
    "* use of the makeImage function to display raster and/or vector maps \n",
    "(a wrapper around [display commands](../../../../files/notebooks/projects/GRASS/docs/html/display.html) in GRASS using the CAIRO DRIVER) "
   ]
  },
  {
   "cell_type": "code",
   "execution_count": null,
   "metadata": {
    "collapsed": false
   },
   "outputs": [],
   "source": [
    "!g.mapset location=nc_basic_spm_grass7 mapset=user1\n",
    "inputlayer={\n",
    "    'raster': ['elevation'], \n",
    "    'vector':['points_of_interest']\n",
    "}\n",
    "\n",
    "makeImage(basemap='elevation', inputlayer=inputlayer, maptype='overlay', \n",
    "          vsize=10, maptitle='points_of_interest', gridsize=4000, outputimagename='test.png')"
   ]
  },
  {
   "cell_type": "code",
   "execution_count": null,
   "metadata": {
    "collapsed": false
   },
   "outputs": [],
   "source": [
    "from IPython.core.display import Image"
   ]
  },
  {
   "cell_type": "markdown",
   "metadata": {},
   "source": [
    "Example on how to repoject raster and vector data between 2 different GRASS LOCATION:\n",
    "* set the GRASS environment to the previously generated lonlat LOCATION (see GRASS_init.ipynb) \n",
    "* reproject GRASS layers : \n",
    "    - raster : elevation\n",
    "    - vector : bugsites "
   ]
  },
  {
   "cell_type": "code",
   "execution_count": null,
   "metadata": {
    "collapsed": false
   },
   "outputs": [],
   "source": [
    "!g.proj -c epsg=4326 location=lonlat"
   ]
  },
  {
   "cell_type": "code",
   "execution_count": null,
   "metadata": {
    "collapsed": false
   },
   "outputs": [],
   "source": [
    "!g.mapset -c location=lonlat mapset=PERMANENT"
   ]
  },
  {
   "cell_type": "code",
   "execution_count": null,
   "metadata": {
    "collapsed": false
   },
   "outputs": [],
   "source": [
    "region = !r.proj input=elevation location=nc_basic_spm_grass7 -g"
   ]
  },
  {
   "cell_type": "code",
   "execution_count": null,
   "metadata": {
    "collapsed": false
   },
   "outputs": [],
   "source": [
    "region"
   ]
  },
  {
   "cell_type": "code",
   "execution_count": null,
   "metadata": {
    "collapsed": false
   },
   "outputs": [],
   "source": [
    "newregion = dict([(i.split('=')[0],i.split('=')[1]) for i in region[-1].split()])"
   ]
  },
  {
   "cell_type": "code",
   "execution_count": null,
   "metadata": {
    "collapsed": false
   },
   "outputs": [],
   "source": [
    "!g.region -p n={newregion['n']}  s={newregion['s']}  e={newregion['e']}  w={newregion['w']} res=0.0001"
   ]
  },
  {
   "cell_type": "code",
   "execution_count": null,
   "metadata": {
    "collapsed": false
   },
   "outputs": [],
   "source": [
    "!r.proj input=elevation location=nc_basic_spm_grass7 output=elevation method=bicubic --o --q"
   ]
  },
  {
   "cell_type": "code",
   "execution_count": null,
   "metadata": {
    "collapsed": false
   },
   "outputs": [],
   "source": [
    "!v.proj input=points_of_interest location=nc_basic_spm_grass7 output=points_of_interest --o --q"
   ]
  },
  {
   "cell_type": "code",
   "execution_count": null,
   "metadata": {
    "collapsed": false
   },
   "outputs": [],
   "source": [
    "#!g.region -p n={newregion['n']}  s={newregion['s']}  e={newregion['e']}  w={newregion['w']} res=0.0001\n",
    "inputlayer={\n",
    "    'raster': ['elevation'], \n",
    "    'vector':['points_of_interest']\n",
    "}\n",
    "\n",
    "makeImage(basemap='elevation', inputlayer=inputlayer, maptype='overlay', \n",
    "          vsize=10, maptitle='points_of_interest', outputimagename='test.png')"
   ]
  },
  {
   "cell_type": "code",
   "execution_count": null,
   "metadata": {
    "collapsed": true
   },
   "outputs": [],
   "source": []
  }
 ],
 "metadata": {
  "kernelspec": {
   "display_name": "Python 2",
   "language": "python",
   "name": "python2"
  },
  "language_info": {
   "codemirror_mode": {
    "name": "ipython",
    "version": 2
   },
   "file_extension": ".py",
   "mimetype": "text/x-python",
   "name": "python",
   "nbconvert_exporter": "python",
   "pygments_lexer": "ipython2",
   "version": "2.7.10"
  }
 },
 "nbformat": 4,
 "nbformat_minor": 0
}
