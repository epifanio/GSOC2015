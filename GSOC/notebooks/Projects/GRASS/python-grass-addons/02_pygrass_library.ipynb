{
 "cells": [
  {
   "cell_type": "markdown",
   "metadata": {},
   "source": [
    "# PyGRASS"
   ]
  },
  {
   "cell_type": "markdown",
   "metadata": {},
   "source": [
    "PyGRASS is a library originally developed during the Google Summer of Code 2012. The [PyGRASS](http://grass.osgeo.org/grass70/manuals/libpython/pygrass_index.html) library adds two main functionalities:\n",
    "\n",
    "* a Python interface through the ctypes binding of the [C API](http://grass.osgeo.org/programming7/) of GRASS, to read and write natively GRASS GIS 7 data structures.\n",
    "* a GRASS GIS module interface using objects to check the parameters and execute the respective modules.\n",
    "\n",
    "For further discussion about the implementation ideas and performance are presented in the article:\n",
    "\n",
    "[Zambelli, P.; Gebbert, S.; Ciolli, M.\t Pygrass: An Object Oriented Python Application Programming Interface (API) for Geographic Resources Analysis Support System (GRASS) Geographic Information System (GIS). *ISPRS Int. J. Geo-Inf.* 2013, 2, 201-219.](http://www.mdpi.com/2220-9964/2/1/201)"
   ]
  },
  {
   "cell_type": "markdown",
   "metadata": {},
   "source": [
    "## Playing with the C API of GRASS GIS through Python"
   ]
  },
  {
   "cell_type": "markdown",
   "metadata": {},
   "source": [
    "Standard scripting with GRASS modules in Python may sometime seem discouraging especially when you have to do conceptually simple things like: iterate over vector features or raster rows/columns. With the standard scripting approach you would have to use several workaround such as:\n",
    "- create temporary files,\n",
    "- read and parse these files,\n",
    "- work with the data,\n",
    "- and remove all unnecessary files that were created by the script.\n",
    "\n",
    "Most of GRASS GIS is written in C programming language. Using the [C API](http://grass.osgeo.org/programming7/), all this is much more simple since you can directly work on GRASS GIS data and do just what you need to do. However, you perhaps want to stick to Python. Here, the PyGRASS library introduced several objects that allow to interact directly with the data using the underlying C API of GRASS GIS.\n",
    "Three main areas are covered so far:\n",
    "- vector maps,\n",
    "- raster maps,\n",
    "- mapsets, and region.\n"
   ]
  },
  {
   "cell_type": "markdown",
   "metadata": {},
   "source": [
    "### Working with vector data"
   ]
  },
  {
   "cell_type": "markdown",
   "metadata": {},
   "source": [
    "#### Creating a new vector map"
   ]
  },
  {
   "cell_type": "markdown",
   "metadata": {},
   "source": [
    "Import the necessary classes:"
   ]
  },
  {
   "cell_type": "code",
   "execution_count": null,
   "metadata": {
    "collapsed": false
   },
   "outputs": [],
   "source": [
    "from grass.pygrass.vector import VectorTopo\n",
    "from grass.pygrass.vector.geometry import Point"
   ]
  },
  {
   "cell_type": "markdown",
   "metadata": {},
   "source": [
    "Create an instance of the vector map, with:"
   ]
  },
  {
   "cell_type": "code",
   "execution_count": null,
   "metadata": {
    "collapsed": false
   },
   "outputs": [],
   "source": [
    "view_points = VectorTopo('view_points')"
   ]
  },
  {
   "cell_type": "markdown",
   "metadata": {},
   "source": [
    "Open the map in write mode, with:"
   ]
  },
  {
   "cell_type": "code",
   "execution_count": null,
   "metadata": {
    "collapsed": false
   },
   "outputs": [],
   "source": [
    "view_points.open(mode='w')"
   ]
  },
  {
   "cell_type": "markdown",
   "metadata": {},
   "source": [
    "Create some vector geometry features, like two points:"
   ]
  },
  {
   "cell_type": "code",
   "execution_count": null,
   "metadata": {
    "collapsed": false
   },
   "outputs": [],
   "source": [
    "point1 = Point(635818.8, 221342.4)\n",
    "point2 = Point(633627.7, 227050.2)"
   ]
  },
  {
   "cell_type": "markdown",
   "metadata": {},
   "source": [
    "Add the above two points to the new vector map with:"
   ]
  },
  {
   "cell_type": "code",
   "execution_count": null,
   "metadata": {
    "collapsed": false
   },
   "outputs": [],
   "source": [
    "view_points.write(point1)\n",
    "view_points.write(point2)"
   ]
  },
  {
   "cell_type": "markdown",
   "metadata": {},
   "source": [
    "Finally close the vector map, with:"
   ]
  },
  {
   "cell_type": "code",
   "execution_count": null,
   "metadata": {
    "collapsed": false
   },
   "outputs": [],
   "source": [
    "view_points.close()"
   ]
  },
  {
   "cell_type": "markdown",
   "metadata": {},
   "source": [
    "Now do the same thing using the [context manager syntax](https://www.python.org/dev/peps/pep-0343/) provided by `with`, and creating and setting also the attribute table, with:"
   ]
  },
  {
   "cell_type": "code",
   "execution_count": null,
   "metadata": {
    "collapsed": false
   },
   "outputs": [],
   "source": [
    "# Define the columns of the new vector map\n",
    "cols = [(u'cat',       'INTEGER PRIMARY KEY'),\n",
    "        (u'name',      'TEXT')]\n",
    "\n",
    "with VectorTopo('view_points', mode='w', tab_cols=cols, overwrite=True) as view_points:\n",
    "    # save the point and the attribute\n",
    "    view_points.write(point1, ('pub', ))\n",
    "    view_points.write(point2, ('restaurant', ))\n",
    "    # save the changes to the database\n",
    "    view_points.table.conn.commit()"
   ]
  },
  {
   "cell_type": "markdown",
   "metadata": {},
   "source": [
    "Note: we don't need to close the vector map because it is already closed by the context manager."
   ]
  },
  {
   "cell_type": "markdown",
   "metadata": {},
   "source": [
    "#### Reading an existing vector map"
   ]
  },
  {
   "cell_type": "code",
   "execution_count": null,
   "metadata": {
    "collapsed": false
   },
   "outputs": [],
   "source": [
    "with VectorTopo('view_points', mode='r') as points:\n",
    "    for point in points:\n",
    "        print(point, point.attrs['name'])"
   ]
  },
  {
   "cell_type": "markdown",
   "metadata": {},
   "source": [
    "### Working with raster data"
   ]
  },
  {
   "cell_type": "markdown",
   "metadata": {},
   "source": [
    "A class with similar behaviour has been created for raster maps, import this class with:"
   ]
  },
  {
   "cell_type": "code",
   "execution_count": null,
   "metadata": {
    "collapsed": false
   },
   "outputs": [],
   "source": [
    "from grass.pygrass.raster import RasterRow"
   ]
  },
  {
   "cell_type": "markdown",
   "metadata": {},
   "source": [
    "#### Reading an existing raster map"
   ]
  },
  {
   "cell_type": "markdown",
   "metadata": {},
   "source": [
    "Instanziate a raster class with:"
   ]
  },
  {
   "cell_type": "code",
   "execution_count": null,
   "metadata": {
    "collapsed": false
   },
   "outputs": [],
   "source": [
    "elev = RasterRow('elevation', mapset='PERMANENT')"
   ]
  },
  {
   "cell_type": "markdown",
   "metadata": {},
   "source": [
    "Similar to the vector approach shown above, we can open a raster map with:"
   ]
  },
  {
   "cell_type": "code",
   "execution_count": null,
   "metadata": {
    "collapsed": false
   },
   "outputs": [],
   "source": [
    "elev.open(mode='r')"
   ]
  },
  {
   "cell_type": "markdown",
   "metadata": {},
   "source": [
    "Now we have row by row access to the whole raster map. Below we show an example to access the first row:"
   ]
  },
  {
   "cell_type": "code",
   "execution_count": null,
   "metadata": {
    "collapsed": false
   },
   "outputs": [],
   "source": [
    "row = elev[0]"
   ]
  },
  {
   "cell_type": "code",
   "execution_count": null,
   "metadata": {
    "collapsed": false
   },
   "outputs": [],
   "source": [
    "row"
   ]
  },
  {
   "cell_type": "markdown",
   "metadata": {},
   "source": [
    "Since row instances inherit from the numpy arrays, you can treat them as numpy arrays:"
   ]
  },
  {
   "cell_type": "code",
   "execution_count": null,
   "metadata": {
    "collapsed": false
   },
   "outputs": [],
   "source": [
    "row * 2"
   ]
  },
  {
   "cell_type": "code",
   "execution_count": null,
   "metadata": {
    "collapsed": false
   },
   "outputs": [],
   "source": [
    "row.shape"
   ]
  },
  {
   "cell_type": "markdown",
   "metadata": {},
   "source": [
    "To convert the whole raster map to a numpy array, and then back to a GRASS GIS raster map, we can define two functions like:"
   ]
  },
  {
   "cell_type": "code",
   "execution_count": null,
   "metadata": {
    "collapsed": false
   },
   "outputs": [],
   "source": [
    "import numpy as np\n",
    "\n",
    "from grass.pygrass.raster.buffer import Buffer\n",
    "from grass.pygrass.gis.region import Region\n",
    "\n",
    "def raster2numpy(rastname, mapset=''):\n",
    "    \"\"\"Return a numpy array from a raster map\"\"\"\n",
    "    with RasterRow(rastname, mapset=mapset, mode='r') as rast:\n",
    "        return np.array(rast)\n",
    "\n",
    "\n",
    "def numpy2raster(array, mtype, rastname, overwrite=False):\n",
    "    \"\"\"Save a numpy array to a raster map\"\"\"\n",
    "    reg = Region()\n",
    "    if (reg.rows, reg.cols) != array.shape:\n",
    "        msg = \"Region and array are different: %r != %r\"\n",
    "        raise TypeError(msg % ((reg.rows, reg.cols), array.shape))\n",
    "    with RasterRow(rastname, mode='w', mtype=mtype, overwrite=overwrite) as new:\n",
    "        newrow = Buffer((array.shape[1],), mtype=mtype)\n",
    "        for row in array:\n",
    "            newrow[:] = row[:]\n",
    "            new.put_row(newrow)"
   ]
  },
  {
   "cell_type": "code",
   "execution_count": null,
   "metadata": {
    "collapsed": false
   },
   "outputs": [],
   "source": [
    "elev = raster2numpy('elevation', mapset='PERMANENT')"
   ]
  },
  {
   "cell_type": "code",
   "execution_count": null,
   "metadata": {
    "collapsed": false
   },
   "outputs": [],
   "source": [
    "elev"
   ]
  },
  {
   "cell_type": "code",
   "execution_count": null,
   "metadata": {
    "collapsed": false
   },
   "outputs": [],
   "source": [
    "numpy2raster(elev * 2, mtype='FCELL', rastname='doubled_elev', overwrite=True)"
   ]
  },
  {
   "cell_type": "code",
   "execution_count": null,
   "metadata": {
    "collapsed": false
   },
   "outputs": [],
   "source": [
    "# import a function to render the results\n",
    "from render import view\n",
    "\n",
    "from grass.pygrass.modules.shortcuts import raster as r\n",
    "\n",
    "# set the colors of the input and output maps to a predefined elevation color table\n",
    "r.colors(map='elevation@PERMANENT,doubled_elev', color='elevation')"
   ]
  },
  {
   "cell_type": "code",
   "execution_count": null,
   "metadata": {
    "collapsed": false
   },
   "outputs": [],
   "source": [
    "view(['elevation@PERMANENT'])"
   ]
  },
  {
   "cell_type": "code",
   "execution_count": null,
   "metadata": {
    "collapsed": false
   },
   "outputs": [],
   "source": [
    "view(['doubled_elev'])"
   ]
  },
  {
   "cell_type": "markdown",
   "metadata": {},
   "source": [
    "## Calling GRASS GIS modules"
   ]
  },
  {
   "cell_type": "markdown",
   "metadata": {},
   "source": [
    "Import the Module class from the pygrass library, with:"
   ]
  },
  {
   "cell_type": "code",
   "execution_count": null,
   "metadata": {
    "collapsed": false
   },
   "outputs": [],
   "source": [
    "from grass.pygrass.modules import Module"
   ]
  },
  {
   "cell_type": "markdown",
   "metadata": {},
   "source": [
    "Execute a GRASS GIS module with (here: viewshed calculation):"
   ]
  },
  {
   "cell_type": "code",
   "execution_count": null,
   "metadata": {
    "collapsed": false
   },
   "outputs": [],
   "source": [
    "viewshed = Module('r.viewshed', input='elevation', output='viewshed2', coordinates=(635818.8, 221342.4), flags='c', overwrite=True)"
   ]
  },
  {
   "cell_type": "markdown",
   "metadata": {},
   "source": [
    "We can play with the python instance asking for inputs and outputs parameters and flags"
   ]
  },
  {
   "cell_type": "code",
   "execution_count": null,
   "metadata": {
    "collapsed": false
   },
   "outputs": [],
   "source": [
    "viewshed.inputs.input"
   ]
  },
  {
   "cell_type": "code",
   "execution_count": null,
   "metadata": {
    "collapsed": false
   },
   "outputs": [],
   "source": [
    "viewshed.inputs.coordinates"
   ]
  },
  {
   "cell_type": "code",
   "execution_count": null,
   "metadata": {
    "collapsed": false
   },
   "outputs": [],
   "source": [
    "viewshed.outputs.output"
   ]
  },
  {
   "cell_type": "code",
   "execution_count": null,
   "metadata": {
    "collapsed": false
   },
   "outputs": [],
   "source": [
    "viewshed.flags.c"
   ]
  },
  {
   "cell_type": "markdown",
   "metadata": {},
   "source": [
    "We can change the parameters values, parameterwise with:"
   ]
  },
  {
   "cell_type": "code",
   "execution_count": null,
   "metadata": {
    "collapsed": false
   },
   "outputs": [],
   "source": [
    "viewshed.inputs.coordinates = [(635825, 221350)]"
   ]
  },
  {
   "cell_type": "markdown",
   "metadata": {},
   "source": [
    "Or re-execute the module passing only the parameter(s) that need(s) to be different:"
   ]
  },
  {
   "cell_type": "code",
   "execution_count": null,
   "metadata": {
    "collapsed": false
   },
   "outputs": [],
   "source": [
    "viewshed(output='viewshed_newpoint')"
   ]
  },
  {
   "cell_type": "markdown",
   "metadata": {},
   "source": [
    "We can retrieve the command string that will be execute in both bash and Python style:"
   ]
  },
  {
   "cell_type": "code",
   "execution_count": null,
   "metadata": {
    "collapsed": false
   },
   "outputs": [],
   "source": [
    "viewshed.get_bash()"
   ]
  },
  {
   "cell_type": "code",
   "execution_count": null,
   "metadata": {
    "collapsed": false
   },
   "outputs": [],
   "source": [
    "viewshed.get_python()"
   ]
  },
  {
   "cell_type": "markdown",
   "metadata": {},
   "source": [
    "### Extra parameters of the Module class"
   ]
  },
  {
   "cell_type": "markdown",
   "metadata": {},
   "source": [
    "#### run\\_"
   ]
  },
  {
   "cell_type": "markdown",
   "metadata": {},
   "source": [
    "The `run_` parameter defines if the module must be execute or not, the default value is True."
   ]
  },
  {
   "cell_type": "markdown",
   "metadata": {},
   "source": [
    "#### finish\\_"
   ]
  },
  {
   "cell_type": "markdown",
   "metadata": {},
   "source": [
    "The `finish_` parameter defines if the module has to wait the end of the process, default is True"
   ]
  },
  {
   "cell_type": "markdown",
   "metadata": {},
   "source": [
    "#### env\\_"
   ]
  },
  {
   "cell_type": "markdown",
   "metadata": {},
   "source": [
    "The `env_` parameter defines the environmental variable that will be set and used by the process."
   ]
  },
  {
   "cell_type": "markdown",
   "metadata": {},
   "source": [
    "#### stdin\\_, stdout\\_, stderr\\_"
   ]
  },
  {
   "cell_type": "markdown",
   "metadata": {},
   "source": [
    "The parameters `stdin_`, `stdout_` and `stderr_` are used to pass or capture the input or the output of the GRASS GIS modules."
   ]
  },
  {
   "cell_type": "markdown",
   "metadata": {},
   "source": [
    "#### Example"
   ]
  },
  {
   "cell_type": "code",
   "execution_count": null,
   "metadata": {
    "collapsed": false
   },
   "outputs": [],
   "source": [
    "import subprocess as sub\n",
    "\n",
    "# Another way to use the Module class objects is through the shortcuts\n",
    "# import the shortcuts for the general modules\n",
    "from grass.pygrass.modules.shortcuts import general as g"
   ]
  },
  {
   "cell_type": "markdown",
   "metadata": {},
   "source": [
    "Now we can call and capture the stdout of a GRASS GIS modules, with:"
   ]
  },
  {
   "cell_type": "code",
   "execution_count": null,
   "metadata": {
    "collapsed": false
   },
   "outputs": [],
   "source": [
    "greg = g.region(flags='p', stdout_=sub.PIPE)\n",
    "print(greg.outputs.stdout)"
   ]
  }
 ],
 "metadata": {
  "kernelspec": {
   "display_name": "PyGRASS",
   "language": "python",
   "name": "pygrass"
  },
  "language_info": {
   "codemirror_mode": {
    "name": "ipython",
    "version": 2
   },
   "file_extension": ".py",
   "mimetype": "text/x-python",
   "name": "python",
   "nbconvert_exporter": "python",
   "pygments_lexer": "ipython2",
   "version": "2.7.9"
  }
 },
 "nbformat": 4,
 "nbformat_minor": 0
}
