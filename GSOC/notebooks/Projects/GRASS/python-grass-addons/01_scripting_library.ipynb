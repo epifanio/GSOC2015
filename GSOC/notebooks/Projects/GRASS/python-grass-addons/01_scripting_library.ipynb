{
 "cells": [
  {
   "cell_type": "markdown",
   "metadata": {},
   "source": [
    "# Introduction to the GRASS GIS 7 Python Scripting Library"
   ]
  },
  {
   "cell_type": "markdown",
   "metadata": {},
   "source": [
    "The [GRASS GIS 7](http://grass.osgeo.org/grass7/) Python Scripting Library provides functions to call GRASS modules within scripts as subprocesses.\n",
    "The most often used functions include:\n",
    "* __`run_command`__: most often used with modules which output raster/vector data where text output is not expected\n",
    "* __`read_command`__: used when we are interested in text output\n",
    "* __`parse_command`__: used with modules producing text output as key=value pair\n",
    "* __`write_command`__: for modules expecting text input from either standard input or file\n",
    "\n",
    "Besides, this library provides several wrapper functions for often called modules."
   ]
  },
  {
   "cell_type": "markdown",
   "metadata": {},
   "source": [
    "## Calling GRASS GIS modules"
   ]
  },
  {
   "cell_type": "markdown",
   "metadata": {},
   "source": [
    "We start by importing GRASS GIS Python Scripting Library:"
   ]
  },
  {
   "cell_type": "code",
   "execution_count": null,
   "metadata": {
    "collapsed": false
   },
   "outputs": [],
   "source": [
    "import grass.script as gscript"
   ]
  },
  {
   "cell_type": "markdown",
   "metadata": {},
   "source": [
    "Before running any GRASS raster modules, you need to set the computational region using [g.region](http://grass.osgeo.org/grass70/manuals/g.region.html). In this example, we set the computational extent and resolution to the raster layer `elevation`."
   ]
  },
  {
   "cell_type": "code",
   "execution_count": null,
   "metadata": {
    "collapsed": false
   },
   "outputs": [],
   "source": [
    "gscript.run_command('g.region', raster='elevation')"
   ]
  },
  {
   "cell_type": "markdown",
   "metadata": {},
   "source": [
    "The `run_command()` function is the most commonly used one. Here, we apply the focal operation *average* ([r.neighbors](http://grass.osgeo.org/grass70/manuals/r.neighbors.html)) to smooth the elevation raster layer. Note that the syntax is similar to bash syntax, just the flags are specified in a parameter."
   ]
  },
  {
   "cell_type": "code",
   "execution_count": null,
   "metadata": {
    "collapsed": false
   },
   "outputs": [],
   "source": [
    "gscript.run_command('r.neighbors', input='elevation', output='elev_smoothed', method='average', flags='c')"
   ]
  },
  {
   "cell_type": "markdown",
   "metadata": {},
   "source": [
    "## Specifics of interactive interpreters"
   ]
  },
  {
   "cell_type": "markdown",
   "metadata": {},
   "source": [
    "When using the GUI, we can look at the map right away. In scripts, we rarely render a map. In IPython Notebook we are able to show a map as a result. For this we use function `view()` from a custom Python module `render` supplied with these notebooks. (This function might be part of GRASS GIS Python API for IPython in the future.)"
   ]
  },
  {
   "cell_type": "code",
   "execution_count": null,
   "metadata": {
    "collapsed": false
   },
   "outputs": [],
   "source": [
    "from render import view\n",
    "view(rasters=['elev_smoothed'])"
   ]
  },
  {
   "cell_type": "markdown",
   "metadata": {},
   "source": [
    "To simplify the re-running of examples, we set the environmental variable `GRASS_OVERWRITE`,\n",
    "which allows direct overwriting of results from previous runs, bypassing the overwrite checks."
   ]
  },
  {
   "cell_type": "code",
   "execution_count": null,
   "metadata": {
    "collapsed": false
   },
   "outputs": [],
   "source": [
    "import os\n",
    "os.environ['GRASS_OVERWRITE'] = '1'"
   ]
  },
  {
   "cell_type": "markdown",
   "metadata": {},
   "source": [
    "When an unrecoverable error occurs (due to incorrect parameter use or other issues), the GRASS GIS functions usually print the error message and end the program execution (by calling the `exit()` function). However, when working in an interactive environment such as IPython, the behavior can be changed using `set_raise_on_error()` function. The following call will cause GRASS GIS Python functions to raise an exception instead of calling `exit()`."
   ]
  },
  {
   "cell_type": "code",
   "execution_count": null,
   "metadata": {
    "collapsed": false
   },
   "outputs": [],
   "source": [
    "gscript.set_raise_on_error(True)"
   ]
  },
  {
   "cell_type": "markdown",
   "metadata": {},
   "source": [
    "## Calling GRASS GIS modules with textual input or output"
   ]
  },
  {
   "cell_type": "markdown",
   "metadata": {},
   "source": [
    "Textual output from modules can be captured using the `read_command()` function."
   ]
  },
  {
   "cell_type": "code",
   "execution_count": null,
   "metadata": {
    "collapsed": false
   },
   "outputs": [],
   "source": [
    "print(gscript.read_command('g.region', flags='p'))"
   ]
  },
  {
   "cell_type": "code",
   "execution_count": null,
   "metadata": {
    "collapsed": false
   },
   "outputs": [],
   "source": [
    "print(gscript.read_command('r.univar', map='elev_smoothed', flags='g'))"
   ]
  },
  {
   "cell_type": "markdown",
   "metadata": {},
   "source": [
    "Certain modules can produce output in key-value format which is enabled by the __`g`__ flag. The `parse_command()` function automatically parses this output and returns a dictionary. In this example, we call [g.proj](http://grass.osgeo.org/grass70/manuals/g.proj.html) to display the projection parameters of the actual location."
   ]
  },
  {
   "cell_type": "code",
   "execution_count": null,
   "metadata": {
    "collapsed": false
   },
   "outputs": [],
   "source": [
    "gscript.parse_command('g.proj', flags='g')"
   ]
  },
  {
   "cell_type": "markdown",
   "metadata": {},
   "source": [
    "For comparison, below is the same example, but using the `read_command()` function."
   ]
  },
  {
   "cell_type": "code",
   "execution_count": null,
   "metadata": {
    "collapsed": false
   },
   "outputs": [],
   "source": [
    "print(gscript.read_command('g.proj', flags='g'))"
   ]
  },
  {
   "cell_type": "markdown",
   "metadata": {},
   "source": [
    "Certain modules require the text input be in a file or provided as standard input. Using the `write_command()` function we can conveniently pass the string to the module. Here, we are creating a new vector with one point with [v.in.ascii](http://grass.osgeo.org/grass70/manuals/v.in.ascii.html).\n",
    "Note that __*stdin*__ parameter is not used as a module parameter, but its content is passed as standard input to the subprocess.\n"
   ]
  },
  {
   "cell_type": "code",
   "execution_count": null,
   "metadata": {
    "collapsed": false
   },
   "outputs": [],
   "source": [
    "gscript.write_command('v.in.ascii', input='-', stdin='%s|%s' % (635818.8, 221342.4), output='view_point')"
   ]
  },
  {
   "cell_type": "markdown",
   "metadata": {},
   "source": [
    "## Convenient wrapper functions"
   ]
  },
  {
   "cell_type": "markdown",
   "metadata": {},
   "source": [
    "Some modules have wrapper functions to simplify frequent tasks."
   ]
  },
  {
   "cell_type": "markdown",
   "metadata": {},
   "source": [
    "We can obtain the information about the vector layer which we just created with the [v.info](http://grass.osgeo.org/grass70/manuals/v.info.html) wrapper."
   ]
  },
  {
   "cell_type": "code",
   "execution_count": null,
   "metadata": {
    "collapsed": false
   },
   "outputs": [],
   "source": [
    "gscript.vector_info('view_point')"
   ]
  },
  {
   "cell_type": "markdown",
   "metadata": {},
   "source": [
    "It is also possible to retrieve the raster layer history ([r.support](http://grass.osgeo.org/grass70/manuals/r.support.html)) and layer information ([r.info](http://grass.osgeo.org/grass70/manuals/r.info.html)) or to query ([r.what](http://grass.osgeo.org/grass70/manuals/r.what.html)) raster layer pixel values."
   ]
  },
  {
   "cell_type": "code",
   "execution_count": null,
   "metadata": {
    "collapsed": false
   },
   "outputs": [],
   "source": [
    "gscript.raster_what('elevation', [[635818.8, 221342.4], [635710, 221330]])"
   ]
  },
  {
   "cell_type": "markdown",
   "metadata": {},
   "source": [
    "As another example, the [r.mapcalc](http://grass.osgeo.org/grass70/manuals/r.mapcalc.html) wrapper for raster algebra allows using a long expressions."
   ]
  },
  {
   "cell_type": "code",
   "execution_count": null,
   "metadata": {
    "collapsed": false
   },
   "outputs": [],
   "source": [
    "gscript.mapcalc(\"elev_strip = if(elevation > 100 && elevation < 125, elevation, null())\")\n",
    "print(gscript.read_command('r.univar', map='elev_strip', flags='g'))"
   ]
  },
  {
   "cell_type": "markdown",
   "metadata": {},
   "source": [
    "The [g.region](http://grass.osgeo.org/grass70/manuals/g.region.html) wrapper is a convenient way to retrieve the current region settings (i.e., computational region). It returns a dictionary with values converted to appropriate types (`float`s and `int`s)."
   ]
  },
  {
   "cell_type": "code",
   "execution_count": null,
   "metadata": {
    "collapsed": false
   },
   "outputs": [],
   "source": [
    "region = gscript.region()\n",
    "print region\n",
    "# cell area in map units (in projected Locations)\n",
    "region['nsres'] * region['ewres']"
   ]
  },
  {
   "cell_type": "markdown",
   "metadata": {},
   "source": [
    "We can list data stored in a GRASS GIS location with [g.list](http://grass.osgeo.org/grass70/manuals/g.list.html) wrappers. With this function, the map layers are grouped by mapsets (in this example, raster layers):"
   ]
  },
  {
   "cell_type": "code",
   "execution_count": null,
   "metadata": {
    "collapsed": false
   },
   "outputs": [],
   "source": [
    "gscript.list_grouped(['raster'])"
   ]
  },
  {
   "cell_type": "markdown",
   "metadata": {},
   "source": [
    "Here is an example of a different [g.list](http://grass.osgeo.org/grass70/manuals/g.list.html) wrapper which structures the output as list of pairs _(name, mapset)_.\n",
    "We obtain current mapset with [g.gisenv](http://grass.osgeo.org/grass70/manuals/g.gisenv.html) wrapper."
   ]
  },
  {
   "cell_type": "code",
   "execution_count": null,
   "metadata": {
    "collapsed": false
   },
   "outputs": [],
   "source": [
    "current_mapset = gscript.gisenv()['MAPSET']\n",
    "gscript.list_pairs('raster', mapset=current_mapset)"
   ]
  },
  {
   "cell_type": "markdown",
   "metadata": {},
   "source": [
    "## Exercise"
   ]
  },
  {
   "cell_type": "markdown",
   "metadata": {},
   "source": [
    "Derive a new slope layer from the raster layer `elevation` using [r.slope.aspect](http://grass.osgeo.org/grass70/manuals/r.slope.aspect.html).\n",
    "Then calculate and report the slope average and median values (hint: see [r.univar](http://grass.osgeo.org/grass70/manuals/r.univar.html))."
   ]
  },
  {
   "cell_type": "code",
   "execution_count": null,
   "metadata": {
    "collapsed": false
   },
   "outputs": [],
   "source": []
  },
  {
   "cell_type": "markdown",
   "metadata": {},
   "source": [
    "Export all raster layers from your mapset with a name prefix \"elev_*\" as GeoTiff (see [r.out.gdal](http://grass.osgeo.org/grass70/manuals/r.out.gdal.html)). Don't forget to set the current region for each map in order to match the individual exported raster layer extents and resolutions since they may differ from each other."
   ]
  },
  {
   "cell_type": "code",
   "execution_count": null,
   "metadata": {
    "collapsed": false
   },
   "outputs": [],
   "source": []
  }
 ],
 "metadata": {
  "kernelspec": {
   "display_name": "PyGRASS",
   "language": "python",
   "name": "pygrass"
  },
  "language_info": {
   "codemirror_mode": {
    "name": "ipython",
    "version": 2
   },
   "file_extension": ".py",
   "mimetype": "text/x-python",
   "name": "python",
   "nbconvert_exporter": "python",
   "pygments_lexer": "ipython2",
   "version": "2.7.9"
  }
 },
 "nbformat": 4,
 "nbformat_minor": 0
}
