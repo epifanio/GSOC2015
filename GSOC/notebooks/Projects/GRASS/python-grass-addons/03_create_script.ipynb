{
 "cells": [
  {
   "cell_type": "markdown",
   "metadata": {},
   "source": [
    "# Script for computing and analyzing viewsheds"
   ]
  },
  {
   "cell_type": "markdown",
   "metadata": {},
   "source": [
    "We will now put together what we have learned so far and write a script which computes viewsheds from points. Subsequently, we'll analyze the viewshed properties: viewshed size, number of visible points and the distance to the closest visible point. The dataset is the North Carolina sample database.\n",
    "\n",
    "Both PyGRASS and GRASS GIS Python Scripting Library will be used in this session."
   ]
  },
  {
   "cell_type": "markdown",
   "metadata": {},
   "source": [
    "We will compute viewsheds on raster `elevation` (in PERMANENT mapset) from vector points.\n",
    "\n",
    "To simplify the re-running of examples, we set this environmental variable, which allows direct overwriting of results from previous runs, bypassing the overwrite checks."
   ]
  },
  {
   "cell_type": "code",
   "execution_count": null,
   "metadata": {
    "collapsed": false
   },
   "outputs": [],
   "source": [
    "import os\n",
    "os.environ['GRASS_OVERWRITE'] = '1'"
   ]
  },
  {
   "cell_type": "markdown",
   "metadata": {},
   "source": [
    "We first generate some random input points within a specified region using [v.random](http://grass.osgeo.org/grass70/manuals/v.random.html) (we use a fixed seed here for reproducibility):"
   ]
  },
  {
   "cell_type": "code",
   "execution_count": null,
   "metadata": {
    "collapsed": false
   },
   "outputs": [],
   "source": [
    "import grass.script as gscript\n",
    "\n",
    "gscript.run_command('g.region', n=225200, s=222500, w=637500, e=640000, raster='elevation')\n",
    "gscript.run_command('v.random', output='input_points', npoints=20, seed=2, quiet=True)"
   ]
  },
  {
   "cell_type": "markdown",
   "metadata": {},
   "source": [
    "## Workflow for 1 point"
   ]
  },
  {
   "cell_type": "markdown",
   "metadata": {},
   "source": [
    "Before we start to loop over all vector points, we will first try out the workflow with a single point. \n"
   ]
  },
  {
   "cell_type": "code",
   "execution_count": null,
   "metadata": {
    "collapsed": false
   },
   "outputs": [],
   "source": [
    "from grass.pygrass.vector.geometry import Point\n",
    "point = Point(638104, 223048)"
   ]
  },
  {
   "cell_type": "markdown",
   "metadata": {},
   "source": [
    "We now compute the viewshed from this point using [r.viewshed](http://grass.osgeo.org/grass70/manuals/r.viewshed.html) and then change all invisible cells to null values (no data) and all visible cells to value 1 using raster algebra [r.mapcalc](http://grass.osgeo.org/grass70/manuals/r.mapcalc.html). This is needed for converting it to the vector data model further on (vectorization)."
   ]
  },
  {
   "cell_type": "code",
   "execution_count": null,
   "metadata": {
    "collapsed": false
   },
   "outputs": [],
   "source": [
    "elevation = 'elevation'\n",
    "input_points = 'input_points'\n",
    "viewshed_name = 'viewshed'\n",
    "tmp_viewshed_name = 'tmp_viewshed'\n",
    "viewshed_id = 1\n",
    "\n",
    "gscript.run_command('r.viewshed', input=elevation, observer_elevation=3,\n",
    "                    output=tmp_viewshed_name, coordinates=point.coords())\n",
    "gscript.mapcalc(exp=\"{viewshed} = if({tmp}, {vid}, null())\".format(viewshed=viewshed_name,\n",
    "                                                                   tmp=tmp_viewshed_name,\n",
    "                                                                   vid=viewshed_id))"
   ]
  },
  {
   "cell_type": "markdown",
   "metadata": {},
   "source": [
    "As a first property of the viewshed, compute its area. The area is computed with [r.univar](http://grass.osgeo.org/grass70/manuals/r.univar.html) as the number of non-null cells times the raster cell size. The result is in reported map units squared (i.e., square meters in this case)."
   ]
  },
  {
   "cell_type": "code",
   "execution_count": null,
   "metadata": {
    "collapsed": false
   },
   "outputs": [],
   "source": [
    "cells = gscript.parse_command('r.univar', map=viewshed_name,\n",
    "                              flags='g')['n']\n",
    "print(cells)\n",
    "print gscript.region()"
   ]
  },
  {
   "cell_type": "code",
   "execution_count": null,
   "metadata": {
    "collapsed": false
   },
   "outputs": [],
   "source": [
    "area = float(cells) * gscript.region()['nsres'] * gscript.region()['nsres']\n",
    "print(area)"
   ]
  },
  {
   "cell_type": "markdown",
   "metadata": {},
   "source": [
    "The next task is to find and count the number of points contained in the input vector layer which are visible from the current point. One way to do this is to derive the vector layer of visible points by spatially overlapping the input points with the viewshed, for this see [v.select](http://grass.osgeo.org/grass70/manuals/v.select.html). The viewshed must be first converted to the vector data model with [r.to.vect](http://grass.osgeo.org/grass70/manuals/r.to.vect.html)."
   ]
  },
  {
   "cell_type": "code",
   "execution_count": null,
   "metadata": {
    "collapsed": false
   },
   "outputs": [],
   "source": [
    "visible_points = 'tmp_points'\n",
    "gscript.run_command('r.to.vect', input=viewshed_name, output=viewshed_name,\n",
    "                    type='area')\n",
    "gscript.run_command('v.select', ainput=input_points, atype='point',\n",
    "                    binput=viewshed_name, btype='area', \n",
    "                    operator='overlap', flags='t', output=visible_points)"
   ]
  },
  {
   "cell_type": "markdown",
   "metadata": {},
   "source": [
    "We can now get the number of points using [vector_info_topo](http://grass.osgeo.org/grass70/manuals/libpython/script.html?highlight=vector_info_topo#script.vector.vector_info_topo), a wrapper function around [v.info](http://grass.osgeo.org/grass70/manuals/v.info.html)."
   ]
  },
  {
   "cell_type": "code",
   "execution_count": null,
   "metadata": {
    "collapsed": false
   },
   "outputs": [],
   "source": [
    "n_points_visible = gscript.vector_info_topo(visible_points)['points']\n",
    "print n_points_visible"
   ]
  },
  {
   "cell_type": "markdown",
   "metadata": {},
   "source": [
    "The last viewshed property we want to compute is the distance from the current point to the closest visible point.\n",
    "Since [v.distance](http://grass.osgeo.org/grass70/manuals/v.distance.html) requires vector input, we first save the current point as a separate vector layer using [v.in.ascii](http://grass.osgeo.org/grass70/manuals/v.in.ascii.html)."
   ]
  },
  {
   "cell_type": "code",
   "execution_count": null,
   "metadata": {
    "collapsed": false
   },
   "outputs": [],
   "source": [
    "tmp_point = 'tmp_current_point' \n",
    "if float(n_points_visible) >= 1:\n",
    "    gscript.write_command('v.in.ascii', input='-', stdin='%s|%s' % (point.x, point.y),\n",
    "                          output=tmp_point)\n",
    "    distance = gscript.read_command('v.distance', from_=tmp_point, from_type='point', flags='p',\n",
    "                                    to=visible_points, to_type='point', upload='dist', dmin=1).strip()\n",
    "    \n",
    "    distance = float(distance.splitlines()[1].split('|')[1])\n",
    "else:\n",
    "    distance = 0\n",
    "print(distance)"
   ]
  },
  {
   "cell_type": "markdown",
   "metadata": {},
   "source": [
    "## Workflow for multiple points"
   ]
  },
  {
   "cell_type": "markdown",
   "metadata": {},
   "source": [
    "Now we will put the previous snippets together and compute the viewshed properties in a loop for all given input points.\n",
    "\n",
    "Notice that we subtract 1 from the number of visible points since the current point is one of the visible ones."
   ]
  },
  {
   "cell_type": "code",
   "execution_count": null,
   "metadata": {
    "collapsed": false
   },
   "outputs": [],
   "source": [
    "from grass.pygrass.vector import Vector\n",
    "import grass.script as gscript\n",
    "\n",
    "\n",
    "elevation = 'elevation'\n",
    "input_points = 'input_points'\n",
    "\n",
    "tmp_viewshed_name = 'tmp_viewshed'\n",
    "tmp_visible_points = 'tmp_points'\n",
    "tmp_point = 'tmp_current_point'\n",
    "\n",
    "\n",
    "with Vector(input_points, mode='r') as points:\n",
    "    for point in points:\n",
    "        viewshed_id = str(point.cat)\n",
    "        viewshed_name = 'viewshed_' + viewshed_id\n",
    "        gscript.run_command('r.viewshed', input=elevation, observer_elevation=3,\n",
    "                            output=tmp_viewshed_name, coordinates=point.coords())\n",
    "        gscript.mapcalc(exp=\"{viewshed} = if({tmp}, {vid}, null())\".format(viewshed=viewshed_name,\n",
    "                                                                           tmp=tmp_viewshed_name,\n",
    "                                                                           vid=viewshed_id))\n",
    "\n",
    "        # viewshed size\n",
    "        cells = gscript.parse_command('r.univar', map=viewshed_name,\n",
    "                                      flags='g')['n']\n",
    "        area = float(cells) * gscript.region()['nsres'] * gscript.region()['nsres']\n",
    "\n",
    "\n",
    "        # visible points\n",
    "        gscript.run_command('r.to.vect', input=viewshed_name, output=viewshed_name,\n",
    "                            type='area')\n",
    "        gscript.run_command('v.select', ainput=input_points, atype='point',\n",
    "                            binput=viewshed_name, btype='area', \n",
    "                            operator='overlap', flags='t', output=tmp_visible_points)\n",
    "        n_points_visible = gscript.vector_info_topo(tmp_visible_points)['points'] - 1\n",
    "    \n",
    "    \n",
    "        # distance to closest visible point\n",
    "        if float(n_points_visible) >= 1:\n",
    "            gscript.write_command('v.in.ascii', input='-', stdin='%s|%s' % (point.x, point.y),\n",
    "                                  output=tmp_point)\n",
    "            distance = gscript.read_command('v.distance', from_=tmp_point, from_type='point', flags='p',\n",
    "                                            to=tmp_visible_points, to_type='point', upload='dist', dmin=1).strip()\n",
    "\n",
    "            distance = float(distance.splitlines()[1].split('|')[1])\n",
    "        else:\n",
    "            distance = 0\n",
    "        print \"%s, %d, %s, %.2f\" % (viewshed_id, area, n_points_visible, distance)\n",
    "    "
   ]
  },
  {
   "cell_type": "markdown",
   "metadata": {},
   "source": [
    "Instead of printing the resulting properties on standard output, we save them into the attribute table of a new output vector layer. This we create by opening it in write mode and by passing as the parameters the columns of the attribute table."
   ]
  },
  {
   "cell_type": "code",
   "execution_count": null,
   "metadata": {
    "collapsed": false
   },
   "outputs": [],
   "source": [
    "from grass.pygrass.vector import Vector\n",
    "import grass.script as gscript\n",
    "\n",
    "\n",
    "elevation = 'elevation'\n",
    "input_points = 'input_points'\n",
    "#\n",
    "# output vector\n",
    "#\n",
    "output_points = 'output_points'\n",
    "\n",
    "tmp_viewshed_name = 'tmp_viewshed'\n",
    "tmp_visible_points = 'tmp_points'\n",
    "tmp_point = 'tmp_current_point'\n",
    "\n",
    "#\n",
    "# define columns of the attribute table of the output vector\n",
    "#\n",
    "columns = [('cat', 'INTEGER'),\n",
    "           ('area', 'DOUBLE PRECISION'),\n",
    "           ('n_points_visible', 'INTEGER'),\n",
    "           ('distance_to_closest', 'DOUBLE PRECISION')]\n",
    "\n",
    "#\n",
    "# we can open the input vector and create and open the output vector at once \n",
    "#\n",
    "with Vector(input_points, mode='r') as points, \\\n",
    "     Vector(output_points, mode='w', tab_cols=columns) as output:\n",
    "\n",
    "    for point in points:\n",
    "        viewshed_id = str(point.cat)\n",
    "        viewshed_name = 'viewshed_' + viewshed_id\n",
    "        gscript.run_command('r.viewshed', input=elevation, observer_elevation=3,\n",
    "                            output=tmp_viewshed_name, coordinates=point.coords())\n",
    "        gscript.mapcalc(exp=\"{viewshed} = if({tmp}, {vid}, null())\".format(viewshed=viewshed_name,\n",
    "                                                                           tmp=tmp_viewshed_name,\n",
    "                                                                           vid=viewshed_id))\n",
    "\n",
    "        # viewshed size\n",
    "        cells = gscript.parse_command('r.univar', map=viewshed_name,\n",
    "                                      flags='g')['n']\n",
    "        area = float(cells) * gscript.region()['nsres'] * gscript.region()['nsres']\n",
    "\n",
    "\n",
    "        # visible points\n",
    "        gscript.run_command('r.to.vect', input=viewshed_name, output=viewshed_name,\n",
    "                            type='area')\n",
    "        gscript.run_command('v.select', ainput=input_points, atype='point',\n",
    "                            binput=viewshed_name, btype='area', \n",
    "                            operator='overlap', flags='t', output=tmp_visible_points)\n",
    "        n_points_visible = gscript.vector_info_topo(tmp_visible_points)['points'] - 1\n",
    "    \n",
    "    \n",
    "        # distance to closest visible point\n",
    "        if float(n_points_visible) >= 1:\n",
    "            gscript.write_command('v.in.ascii', input='-', stdin='%s|%s' % (point.x, point.y),\n",
    "                                  output=tmp_point)\n",
    "            distance = gscript.read_command('v.distance', from_=tmp_point, from_type='point', flags='p',\n",
    "                                            to=tmp_visible_points, to_type='point', upload='dist', dmin=1).strip()\n",
    "\n",
    "            distance = float(distance.splitlines()[1].split('|')[1])\n",
    "        else:\n",
    "            distance = 0\n",
    "\n",
    "        #\n",
    "        # write each point with its attributes\n",
    "        #\n",
    "        output.write(point, (area, n_points_visible, distance))\n",
    "        output.table.conn.commit()\n",
    "        print \"%s, %d, %s, %.2f\" % (viewshed_id, area, n_points_visible, distance)\n",
    "        \n",
    "    "
   ]
  },
  {
   "cell_type": "markdown",
   "metadata": {},
   "source": [
    "Finally we will make sure that the new vector layer was created and attributes properly written:"
   ]
  },
  {
   "cell_type": "code",
   "execution_count": null,
   "metadata": {
    "collapsed": false
   },
   "outputs": [],
   "source": [
    "with Vector(output_points, mode='r') as points:\n",
    "    # we can filter/sort the results\n",
    "    points.table.filters.select().order_by(u'area').get_sql()\n",
    "    print points.table.execute().fetchall()"
   ]
  },
  {
   "cell_type": "code",
   "execution_count": null,
   "metadata": {
    "collapsed": false
   },
   "outputs": [],
   "source": []
  }
 ],
 "metadata": {
  "kernelspec": {
   "display_name": "PyGRASS",
   "language": "python",
   "name": "pygrass"
  },
  "language_info": {
   "codemirror_mode": {
    "name": "ipython",
    "version": 2
   },
   "file_extension": ".py",
   "mimetype": "text/x-python",
   "name": "python",
   "nbconvert_exporter": "python",
   "pygments_lexer": "ipython2",
   "version": "2.7.9"
  }
 },
 "nbformat": 4,
 "nbformat_minor": 0
}
