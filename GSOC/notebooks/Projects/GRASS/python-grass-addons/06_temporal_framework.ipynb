{
 "cells": [
  {
   "cell_type": "markdown",
   "metadata": {},
   "source": [
    "# Quick introduction to GRASS GIS Temporal Framework"
   ]
  },
  {
   "cell_type": "markdown",
   "metadata": {},
   "source": [
    "The GRASS GIS Temporal Framework implements temporal GIS functionality at user level and provides additionally an API to implement new spatio-temporal processing modules.\n",
    "\n",
    "The [temporal framework](http://grass.osgeo.org/grass70/manuals/temporalintro.html) introduces space time datasets to represent time series of raster, 3D raster or vector maps.\n",
    "It provides the following functionalities:\n",
    "\n",
    "* Assign time stamp to maps and register maps in the temporal database\n",
    "* Modification of time stamps\n",
    "* Creation, renaming and deletion of space time datasets\n",
    "* Registration and un-registration of maps in space time datasets\n",
    "* Query of maps that are registered in space time datasets using SQL 'WHERE' statements\n",
    "* Analysis of the spatio-temporal topology of space time datasets\n",
    "* Sampling of space time datasets\n",
    "* Computation of temporal and spatial relationships between registered maps\n",
    "* Higher level functions that are shared between modules\n",
    "* Most of the functions described above are member functions of dedicated map layer and space time dataset classes.\n",
    "\n",
    "Three related datatypes are available:\n",
    "* Space time raster datasets (*strds*) are designed to manage raster map time series. Modules that process *strds* have the naming prefix *t.rast*\n",
    "* Space time 3D raster datasets (*str3ds*) are designed to manage 3D raster map time series. Modules that process *str3ds* have the naming prefix *t.rast3d*\n",
    "* Space time vector datasets (*stvds*) are designed to manage vector map time series. Modules that process *stvds* have the naming prefix *t.vect*\n",
    "\n",
    "Reference: Gebbert, S., Pebesma, E., 2014. TGRASS: *A temporal GIS for field based environmental modeling.* Environmental Modelling & Software 53, 1-12. http://dx.doi.org/10.1016/j.envsoft.2013.11.001"
   ]
  },
  {
   "cell_type": "code",
   "execution_count": null,
   "metadata": {
    "collapsed": false
   },
   "outputs": [],
   "source": [
    "import grass.temporal as tgis\n",
    "import grass.script as gscript"
   ]
  },
  {
   "cell_type": "markdown",
   "metadata": {},
   "source": [
    "## Creating a new temporal dataset"
   ]
  },
  {
   "cell_type": "markdown",
   "metadata": {},
   "source": [
    "First, we initialize temporal database:"
   ]
  },
  {
   "cell_type": "code",
   "execution_count": null,
   "metadata": {
    "collapsed": false
   },
   "outputs": [],
   "source": [
    "tgis.init()"
   ]
  },
  {
   "cell_type": "markdown",
   "metadata": {},
   "source": [
    "Next, we create an empty space-time raster dataset. We specify its name, its type (here: strds), temporal type (absolute, relative), title and description. You can imagine a temporal dataset as a container for selected data which puts them into order, describes their space-time relationships and saves all kind of metadata. The maps themselves remain standard GRASS GIS maps."
   ]
  },
  {
   "cell_type": "code",
   "execution_count": null,
   "metadata": {
    "collapsed": false
   },
   "outputs": [],
   "source": [
    "dataset_name = 'temperature'\n",
    "dataset = tgis.open_new_stds(name=dataset_name, type='strds', temporaltype='absolute',\n",
    "                             title=\"Temperature in Raleigh\", descr=\"Created for test purposes\",\n",
    "                             semantic='mean', overwrite=True)"
   ]
  },
  {
   "cell_type": "markdown",
   "metadata": {},
   "source": [
    "Check if the temporal dataset was created:"
   ]
  },
  {
   "cell_type": "code",
   "execution_count": null,
   "metadata": {
    "collapsed": false
   },
   "outputs": [],
   "source": [
    "# Print some info about the new dataset\n",
    "dataset.print_shell_info()"
   ]
  },
  {
   "cell_type": "markdown",
   "metadata": {},
   "source": [
    "## Register maps into temporal dataset"
   ]
  },
  {
   "cell_type": "markdown",
   "metadata": {},
   "source": [
    "Create a set of random maps of temperature using min and max values"
   ]
  },
  {
   "cell_type": "code",
   "execution_count": null,
   "metadata": {
    "collapsed": false
   },
   "outputs": [],
   "source": [
    "# monthly mean Raleigh temperature\n",
    "nc_temp_data = {1:[30, 51], 2: [32, 54], 3: [40, 63], 4: [48, 72],\n",
    "                5:[57, 80], 6: [66, 87], 7: [70, 90], 8: [69, 88],\n",
    "                9:[62, 82], 10:[50, 73], 11:[41, 64], 12:[32, 54]}\n",
    "# list of maps to add into temporal dataset\n",
    "maps = []\n",
    "gscript.run_command('g.region', raster='elevation')\n",
    "for month, values in nc_temp_data.iteritems():\n",
    "    map_name = \"temp_{mon}\".format(mon=month)\n",
    "    gscript.run_command('r.random.surface', output=map_name, seed=values, high=values[1], overwrite=True)\n",
    "    maps.append(map_name)\n",
    "print maps"
   ]
  },
  {
   "cell_type": "markdown",
   "metadata": {},
   "source": [
    "Now we register the created maps within the temporal dataset:"
   ]
  },
  {
   "cell_type": "code",
   "execution_count": null,
   "metadata": {
    "collapsed": false
   },
   "outputs": [],
   "source": [
    "tgis.register_maps_in_space_time_dataset(type='raster', name=dataset_name, maps=','.join(maps), start='2014-01-01',\n",
    "                                         increment=\"1 month\", interval=True, update_cmd_list=True)"
   ]
  },
  {
   "cell_type": "markdown",
   "metadata": {},
   "source": [
    "Next we update the information of temporal dataset and print its metadata:"
   ]
  },
  {
   "cell_type": "code",
   "execution_count": null,
   "metadata": {
    "collapsed": false
   },
   "outputs": [],
   "source": [
    "dataset.update_from_registered_maps()\n",
    "dataset.print_shell_info()"
   ]
  },
  {
   "cell_type": "markdown",
   "metadata": {},
   "source": [
    "## Query an existing temporal dataset"
   ]
  },
  {
   "cell_type": "markdown",
   "metadata": {},
   "source": [
    "During this session you will learn how to extract values for a point from a temporal dataset."
   ]
  },
  {
   "cell_type": "code",
   "execution_count": null,
   "metadata": {
    "collapsed": false
   },
   "outputs": [],
   "source": [
    "coors = (638000, 222800.0)"
   ]
  },
  {
   "cell_type": "markdown",
   "metadata": {},
   "source": [
    "We get the temporal dataset object:"
   ]
  },
  {
   "cell_type": "code",
   "execution_count": null,
   "metadata": {
    "collapsed": false
   },
   "outputs": [],
   "source": [
    "strds = tgis.open_old_stds(dataset_name, \"strds\")"
   ]
  },
  {
   "cell_type": "markdown",
   "metadata": {},
   "source": [
    "Now it is possible to obtain all the registered maps:"
   ]
  },
  {
   "cell_type": "code",
   "execution_count": null,
   "metadata": {
    "collapsed": false
   },
   "outputs": [],
   "source": [
    "rows = strds.get_registered_maps(columns=\"name,mapset,start_time,end_time\",\n",
    "                                 where=None, order=\"start_time\")"
   ]
  },
  {
   "cell_type": "markdown",
   "metadata": {},
   "source": [
    "Get useful info (as name, starting time) about registered maps and query the data using the GRASS GIS command `r.what`:"
   ]
  },
  {
   "cell_type": "code",
   "execution_count": null,
   "metadata": {
    "collapsed": false
   },
   "outputs": [],
   "source": [
    "from collections import OrderedDict\n",
    "infos = OrderedDict()\n",
    "for row in rows:\n",
    "    name = row[\"name\"] + \"@\" + row[\"mapset\"]\n",
    "    values = gscript.read_command('r.what', map=name, coordinates=coors).strip().split('|')\n",
    "    infos[name] = {'date': row[\"start_time\"], 'value': values[3]}\n",
    "print infos"
   ]
  },
  {
   "cell_type": "markdown",
   "metadata": {},
   "source": [
    "### Write CSV file"
   ]
  },
  {
   "cell_type": "markdown",
   "metadata": {},
   "source": [
    "To write out a CSV file in Python, the CSV module should be used. So, import the CSV and the tempfile modules to then create a new CSV file in the temporal directory:"
   ]
  },
  {
   "cell_type": "code",
   "execution_count": null,
   "metadata": {
    "collapsed": false
   },
   "outputs": [],
   "source": [
    "import csv\n",
    "import tempfile\n",
    "fil = tempfile.NamedTemporaryFile(delete=False)\n",
    "fil.name = fil.name + '.csv'\n",
    "print fil.name"
   ]
  },
  {
   "cell_type": "markdown",
   "metadata": {},
   "source": [
    "Now, for each record read from the temporal dataset, the procedure stores the respective record in the CSV file:"
   ]
  },
  {
   "cell_type": "code",
   "execution_count": null,
   "metadata": {
    "collapsed": false
   },
   "outputs": [],
   "source": [
    "with open(fil.name, 'wb') as csvfile:\n",
    "    spamwriter = csv.writer(csvfile, delimiter=';',\n",
    "                            quoting=csv.QUOTE_MINIMAL)\n",
    "    spamwriter.writerow(['Map_name', 'Date', 'Temp'])\n",
    "    \n",
    "    for mapp, vals in infos.iteritems():\n",
    "        spamwriter.writerow([mapp, vals['date'].strftime('%Y-%m-%d'), vals['value']])\n",
    "fil.close()"
   ]
  },
  {
   "cell_type": "markdown",
   "metadata": {},
   "source": [
    "For verification, we can simply print the CSV file to the terminal using the `cat` shell command:"
   ]
  },
  {
   "cell_type": "code",
   "execution_count": null,
   "metadata": {
    "collapsed": false
   },
   "outputs": [],
   "source": [
    "!cat {fil.name}"
   ]
  },
  {
   "cell_type": "markdown",
   "metadata": {},
   "source": [
    "### Plot data using Matplotlib"
   ]
  },
  {
   "cell_type": "markdown",
   "metadata": {},
   "source": [
    "To print the data using `Matplotlib` some libraries have to be imported first:"
   ]
  },
  {
   "cell_type": "code",
   "execution_count": null,
   "metadata": {
    "collapsed": false
   },
   "outputs": [],
   "source": [
    "%matplotlib notebook\n",
    "import matplotlib.pyplot as plt\n",
    "import matplotlib.dates as mdates"
   ]
  },
  {
   "cell_type": "markdown",
   "metadata": {},
   "source": [
    "Next we create the list of values for the x and y axes:"
   ]
  },
  {
   "cell_type": "code",
   "execution_count": null,
   "metadata": {
    "collapsed": false
   },
   "outputs": [],
   "source": [
    "x = []\n",
    "y = []\n",
    "for mapp, vals in infos.iteritems():\n",
    "    x.append(vals['date'])\n",
    "    y.append(vals['value'])\n",
    "print x\n",
    "print y"
   ]
  },
  {
   "cell_type": "markdown",
   "metadata": {},
   "source": [
    "Finally we plot the temperature values over time:"
   ]
  },
  {
   "cell_type": "code",
   "execution_count": null,
   "metadata": {
    "collapsed": false
   },
   "outputs": [],
   "source": [
    "# create the plot\n",
    "fig, ax = plt.subplots()\n",
    "# create the plot line\n",
    "ax.plot(x,y, label='2014 monthly temperature', color='red')\n",
    "# set the format of X axis label\n",
    "ax.xaxis.set_major_formatter(mdates.DateFormatter('%Y-%m'))\n",
    "# set the title of graph\n",
    "plt.title('Monthly temperature');\n",
    "# add legend and set it lower-center position\n",
    "ax.legend(loc='lower center')\n",
    "# fix the position/rotation of X lavel\n",
    "fig.autofmt_xdate()\n",
    "# set the label for X and Y axis\n",
    "ax.set_xlabel('Month')\n",
    "ax.set_ylabel('Fahrenheit temp')\n",
    "# show the graph\n",
    "plt.show()"
   ]
  },
  {
   "cell_type": "markdown",
   "metadata": {},
   "source": [
    "## Some other tips"
   ]
  },
  {
   "cell_type": "markdown",
   "metadata": {},
   "source": [
    "### Unregistering maps"
   ]
  },
  {
   "cell_type": "markdown",
   "metadata": {},
   "source": [
    "To remove maps from a temporal dataset (they will not be truly deleted but just unregistered from the temporal dataset), first a map object should be created. Then, using this new dataset object, we remove the selected map(s) using the `unregister_map` function:"
   ]
  },
  {
   "cell_type": "code",
   "execution_count": null,
   "metadata": {
    "collapsed": false
   },
   "outputs": [],
   "source": [
    "remove_map = tgis.RasterDataset('temp_12@{mapset}'.format(mapset=gscript.gisenv()['MAPSET']))\n",
    "dataset.unregister_map(remove_map)\n",
    "dataset.update_from_registered_maps()"
   ]
  },
  {
   "cell_type": "markdown",
   "metadata": {},
   "source": [
    "### Deleting a temporal dataset"
   ]
  },
  {
   "cell_type": "markdown",
   "metadata": {},
   "source": [
    "Removing a space time datasets from temporal database (again, the contained maps remain in GRASS GIS) can be done directly from the same object using the `delete` function:"
   ]
  },
  {
   "cell_type": "code",
   "execution_count": null,
   "metadata": {
    "collapsed": false
   },
   "outputs": [],
   "source": [
    "dataset.delete()"
   ]
  },
  {
   "cell_type": "code",
   "execution_count": null,
   "metadata": {
    "collapsed": true
   },
   "outputs": [],
   "source": []
  }
 ],
 "metadata": {
  "kernelspec": {
   "display_name": "PyGRASS",
   "language": "python",
   "name": "pygrass"
  },
  "language_info": {
   "codemirror_mode": {
    "name": "ipython",
    "version": 2
   },
   "file_extension": ".py",
   "mimetype": "text/x-python",
   "name": "python",
   "nbconvert_exporter": "python",
   "pygments_lexer": "ipython2",
   "version": "2.7.9"
  }
 },
 "nbformat": 4,
 "nbformat_minor": 0
}
