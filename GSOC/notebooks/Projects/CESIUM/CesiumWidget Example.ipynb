{
 "cells": [
  {
   "cell_type": "markdown",
   "metadata": {
    "code_folding": [
     21
    ]
   },
   "source": [
    "# Cesium Widget Example\n",
    "This is an example notebook to sow how to *bind* the [Cesiumjs](http://localhost:8888/nbextensions/CesiumWidget/cesium/index.html) with the [IPython interactive widget system](../../../notebooks/ipython/examples/Interactive Widgets/Index.ipynb)."
   ]
  },
  {
   "cell_type": "code",
   "execution_count": null,
   "metadata": {
    "collapsed": false
   },
   "outputs": [],
   "source": [
    "from CesiumWidget import CesiumWidget\n",
    "from IPython import display\n",
    "from czml_example import simple_czml, complex_czml"
   ]
  },
  {
   "cell_type": "markdown",
   "metadata": {},
   "source": [
    "The code:\n",
    "\n",
    "```from czml_example import simple_czml, complex_czml```\n",
    "\n",
    "Simply import some [CZML]() data for the viewer to display."
   ]
  },
  {
   "cell_type": "markdown",
   "metadata": {},
   "source": [
    "**Create widget object**"
   ]
  },
  {
   "cell_type": "code",
   "execution_count": null,
   "metadata": {
    "collapsed": false
   },
   "outputs": [],
   "source": [
    "cesiumExample = CesiumWidget(width=\"100%\",czml=simple_czml, enable_lighting=True)"
   ]
  },
  {
   "cell_type": "markdown",
   "metadata": {},
   "source": [
    "**Display the widget:**"
   ]
  },
  {
   "cell_type": "code",
   "execution_count": null,
   "metadata": {
    "collapsed": false
   },
   "outputs": [],
   "source": [
    "#cesiumExample"
   ]
  },
  {
   "cell_type": "markdown",
   "metadata": {},
   "source": [
    "**Add some data to the viewer**\n",
    "\n",
    "* A simple czml"
   ]
  },
  {
   "cell_type": "code",
   "execution_count": null,
   "metadata": {
    "collapsed": false
   },
   "outputs": [],
   "source": [
    "#cesiumExample.czml = simple_czml"
   ]
  },
  {
   "cell_type": "markdown",
   "metadata": {},
   "source": [
    "* A more complex CZML example"
   ]
  },
  {
   "cell_type": "code",
   "execution_count": null,
   "metadata": {
    "collapsed": true
   },
   "outputs": [],
   "source": [
    "#cesiumExample.czml = complex_czml"
   ]
  },
  {
   "cell_type": "markdown",
   "metadata": {},
   "source": [
    "Now let's make some interactive widget:"
   ]
  },
  {
   "cell_type": "code",
   "execution_count": null,
   "metadata": {
    "collapsed": false
   },
   "outputs": [],
   "source": [
    "from __future__ import print_function\n",
    "from ipywidgets import interact, interactive, fixed\n",
    "from ipywidgets import widgets"
   ]
  },
  {
   "cell_type": "markdown",
   "metadata": {},
   "source": [
    "* store the CZML objet in a dictionary and use their name as ```keys```\n",
    "* define a function to switch between CZML\n",
    "* bind the IPython intercat class to the function"
   ]
  },
  {
   "cell_type": "code",
   "execution_count": null,
   "metadata": {
    "collapsed": false
   },
   "outputs": [],
   "source": [
    "myczml = {'simple_czml':simple_czml, 'complex_czml':complex_czml}"
   ]
  },
  {
   "cell_type": "code",
   "execution_count": null,
   "metadata": {
    "collapsed": true
   },
   "outputs": [],
   "source": [
    "myplace = {'Eboli, IT':'', 'Woods Hole, MA':'', 'Durham, NH':''}"
   ]
  },
  {
   "cell_type": "code",
   "execution_count": null,
   "metadata": {
    "collapsed": false
   },
   "outputs": [],
   "source": [
    "import geocoder\n",
    "import time\n",
    "for i in myplace.keys():\n",
    "    g = geocoder.google(i)\n",
    "    print(g.latlng)\n",
    "    myplace[i]=g.latlng"
   ]
  },
  {
   "cell_type": "code",
   "execution_count": null,
   "metadata": {
    "collapsed": false
   },
   "outputs": [],
   "source": [
    "myplace"
   ]
  },
  {
   "cell_type": "code",
   "execution_count": null,
   "metadata": {
    "collapsed": true
   },
   "outputs": [],
   "source": [
    "def f(CZML):\n",
    "    cesiumExample.czml = myczml[CZML]"
   ]
  },
  {
   "cell_type": "code",
   "execution_count": null,
   "metadata": {
    "collapsed": false
   },
   "outputs": [],
   "source": [
    "def z(Location,z=(0,20000000)):\n",
    "    cesiumExample.zoom_to(myplace[Location][1],myplace[Location][0],z)"
   ]
  },
  {
   "cell_type": "code",
   "execution_count": null,
   "metadata": {
    "collapsed": false
   },
   "outputs": [],
   "source": [
    "interact(f, CZML=('simple_czml','complex_czml')), interact(z, Location=('Eboli, IT','Woods Hole, MA','Durham, NH'));"
   ]
  },
  {
   "cell_type": "code",
   "execution_count": null,
   "metadata": {
    "collapsed": true
   },
   "outputs": [],
   "source": [
    "cesiumExample"
   ]
  }
 ],
 "metadata": {
  "hide_input": true,
  "kernelspec": {
   "display_name": "Python 3",
   "language": "python",
   "name": "python3"
  },
  "language_info": {
   "codemirror_mode": {
    "name": "ipython",
    "version": 3
   },
   "file_extension": ".py",
   "mimetype": "text/x-python",
   "name": "python",
   "nbconvert_exporter": "python",
   "pygments_lexer": "ipython3",
   "version": "3.5.0"
  },
  "latex_envs": {
   "bibliofile": "biblio.bib",
   "cite_by": "apalike",
   "current_citInitial": 1,
   "eqLabelWithNumbers": true,
   "eqNumInitial": 0
  }
 },
 "nbformat": 4,
 "nbformat_minor": 0
}
