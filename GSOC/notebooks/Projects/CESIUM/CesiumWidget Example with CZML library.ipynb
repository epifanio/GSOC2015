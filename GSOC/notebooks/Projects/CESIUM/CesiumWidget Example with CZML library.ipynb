{
 "cells": [
  {
   "cell_type": "markdown",
   "metadata": {},
   "source": [
    "# CesiumWidget together with CZML library\n",
    "This notebook shows how to use the CesiumWidget together with the CZML library from https://github.com/cleder/czml"
   ]
  },
  {
   "cell_type": "markdown",
   "metadata": {},
   "source": [
    "If the CesiumWidget is installed correctly, Cesium should be accessable at:\n",
    "http://localhost:8888/nbextensions/CesiumWidget/cesium/index.html\n"
   ]
  },
  {
   "cell_type": "code",
   "execution_count": 1,
   "metadata": {
    "collapsed": false
   },
   "outputs": [],
   "source": [
    "import collections\n",
    "from CesiumWidget import CesiumWidget\n",
    "import czml"
   ]
  },
  {
   "cell_type": "code",
   "execution_count": 6,
   "metadata": {
    "collapsed": false
   },
   "outputs": [],
   "source": [
    "points = collections.OrderedDict()\n",
    "points['p1'] = [18.07,59.33, 20]\n",
    "points['p2'] = [19.07,59.33, 20]\n",
    "points['p3'] = [20.07,59.33, 20]"
   ]
  },
  {
   "cell_type": "code",
   "execution_count": 7,
   "metadata": {
    "collapsed": false
   },
   "outputs": [
    {
     "data": {
      "text/plain": [
       "OrderedDict([('p1', [18.07, 59.33, 20]),\n",
       "             ('p2', [19.07, 59.33, 20]),\n",
       "             ('p3', [20.07, 59.33, 20])])"
      ]
     },
     "execution_count": 7,
     "metadata": {},
     "output_type": "execute_result"
    }
   ],
   "source": [
    "points"
   ]
  },
  {
   "cell_type": "code",
   "execution_count": 8,
   "metadata": {
    "collapsed": true
   },
   "outputs": [],
   "source": [
    "doc = czml.CZML()"
   ]
  },
  {
   "cell_type": "code",
   "execution_count": 9,
   "metadata": {
    "collapsed": true
   },
   "outputs": [],
   "source": [
    "packet1 = czml.CZMLPacket(id='document',version='1.0')\n",
    "doc.packets.append(packet1)"
   ]
  },
  {
   "cell_type": "code",
   "execution_count": 10,
   "metadata": {
    "collapsed": false
   },
   "outputs": [
    {
     "name": "stdout",
     "output_type": "stream",
     "text": [
      "0 p1\n",
      "1 p2\n",
      "2 p3\n"
     ]
    }
   ],
   "source": [
    "for i,v in enumerate(points):\n",
    "    print(i,v)\n",
    "    p = czml.CZMLPacket(id=i)\n",
    "    p.position = czml.Position(cartographicDegrees = points[v])\n",
    "    point = czml.Point(pixelSize=20, show=True)\n",
    "    point.color = czml.Color(rgba=(223, 150, 47, 128))\n",
    "    point.show = True\n",
    "    p.point = point\n",
    "    l = czml.Label(show=True, text=v)\n",
    "    l.scale = 0.5\n",
    "    p.label = l\n",
    "    doc.packets.append(p)"
   ]
  },
  {
   "cell_type": "code",
   "execution_count": 11,
   "metadata": {
    "collapsed": true
   },
   "outputs": [],
   "source": [
    "cesiumExample = CesiumWidget(width=\"100%\", czml=doc.dumps())"
   ]
  },
  {
   "cell_type": "code",
   "execution_count": 12,
   "metadata": {
    "collapsed": false
   },
   "outputs": [],
   "source": [
    "cesiumExample"
   ]
  },
  {
   "cell_type": "code",
   "execution_count": 13,
   "metadata": {
    "collapsed": false
   },
   "outputs": [
    {
     "data": {
      "text/plain": [
       "'[{\"version\": \"1.0\", \"id\": \"document\"}, {\"point\": {\"color\": {\"rgba\": [223, 150, 47, 128]}, \"pixelSize\": 20, \"show\": true}, \"position\": {\"cartographicDegrees\": [18.07, 59.33, 20.0]}, \"label\": {\"text\": \"p1\", \"scale\": 0.5, \"show\": true}, \"id\": 0}, {\"point\": {\"color\": {\"rgba\": [223, 150, 47, 128]}, \"pixelSize\": 20, \"show\": true}, \"position\": {\"cartographicDegrees\": [19.07, 59.33, 20.0]}, \"label\": {\"text\": \"p2\", \"scale\": 0.5, \"show\": true}, \"id\": 1}, {\"point\": {\"color\": {\"rgba\": [223, 150, 47, 128]}, \"pixelSize\": 20, \"show\": true}, \"position\": {\"cartographicDegrees\": [20.07, 59.33, 20.0]}, \"label\": {\"text\": \"p3\", \"scale\": 0.5, \"show\": true}, \"id\": 2}]'"
      ]
     },
     "execution_count": 13,
     "metadata": {},
     "output_type": "execute_result"
    }
   ],
   "source": [
    "doc.dumps()"
   ]
  },
  {
   "cell_type": "code",
   "execution_count": null,
   "metadata": {
    "collapsed": true
   },
   "outputs": [],
   "source": []
  }
 ],
 "metadata": {
  "hide_input": true,
  "kernelspec": {
   "display_name": "Python 3",
   "language": "python",
   "name": "python3"
  },
  "language_info": {
   "codemirror_mode": {
    "name": "ipython",
    "version": 3
   },
   "file_extension": ".py",
   "mimetype": "text/x-python",
   "name": "python",
   "nbconvert_exporter": "python",
   "pygments_lexer": "ipython3",
   "version": "3.4.3"
  },
  "latex_envs": {
   "bibliofile": "biblio.bib",
   "cite_by": "apalike",
   "current_citInitial": 1,
   "eqLabelWithNumbers": true,
   "eqNumInitial": 0
  }
 },
 "nbformat": 4,
 "nbformat_minor": 0
}
