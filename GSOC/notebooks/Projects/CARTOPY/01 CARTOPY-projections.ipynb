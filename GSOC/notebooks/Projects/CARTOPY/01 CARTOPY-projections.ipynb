{
 "cells": [
  {
   "cell_type": "markdown",
   "metadata": {},
   "source": [
    "# CARTOPY_Projections"
   ]
  },
  {
   "cell_type": "markdown",
   "metadata": {},
   "source": [
    "* [PlateCarree](#PlateCarree)\n",
    "* [AzimuthalEquidistant](#AzimuthalEquidistant)\n",
    "* [LambertConformal](#LambertConformal)\n",
    "* [LambertCylindrical](#LambertCylindrical)\n",
    "* [Mercator](#Mercator)\n",
    "* [Miller](#Miller)\n",
    "* [Mollweide](#Mollweide)\n",
    "* [Orthographic](#Orthographic)\n",
    "* [Robinson](#Robinson)\n",
    "* [Stereographic](#Stereographic)\n",
    "* [TransverseMercator](#TransverseMercator)\n",
    "* [UTM](#UTM)\n",
    "* [InterruptedGoodeHomolosine](#InterruptedGoodeHomolosine)\n",
    "* [RotatedPole](#RotatedPole)\n",
    "* [OSGB](#OSGB)\n",
    "* [EuroPP](#EuroPP)\n",
    "* [Geostationary](#Geostationary)\n",
    "* [Gnomonic](#Gnomonic)\n",
    "* [NorthPolarStereo](#NorthPolarStereo)\n",
    "* [OSNI](#OSNI)\n",
    "* [SouthPolarStereo](#SouthPolarStereo)"
   ]
  },
  {
   "cell_type": "code",
   "execution_count": null,
   "metadata": {
    "collapsed": false,
    "scrolled": true
   },
   "outputs": [],
   "source": [
    "%matplotlib inline\n",
    "import matplotlib.pyplot as plt\n",
    "import cartopy.crs as ccrs"
   ]
  },
  {
   "cell_type": "markdown",
   "metadata": {},
   "source": [
    "---\n",
    "## PlateCarree\n",
    "[projection list](#CARTOPY_Projections)\n",
    "\n",
    "```\n",
    "class cartopy.crs.PlateCarree(central_longitude=0.0, globe=None)[source]\n",
    "```"
   ]
  },
  {
   "cell_type": "code",
   "execution_count": null,
   "metadata": {
    "collapsed": false
   },
   "outputs": [],
   "source": [
    "plt.figure(figsize=(12, 12))\n",
    "ax = plt.axes(projection=ccrs.PlateCarree())\n",
    "ax.coastlines(resolution='110m')\n",
    "ax.stock_img()\n",
    "ax.gridlines();"
   ]
  },
  {
   "cell_type": "markdown",
   "metadata": {},
   "source": [
    "* set the central longitude to $180^\\circ$"
   ]
  },
  {
   "cell_type": "code",
   "execution_count": null,
   "metadata": {
    "collapsed": false
   },
   "outputs": [],
   "source": [
    "plt.figure(figsize=(12, 12))\n",
    "ax = plt.axes(projection=ccrs.PlateCarree(central_longitude=180))\n",
    "ax.coastlines(resolution='110m')\n",
    "ax.stock_img()\n",
    "ax.gridlines();"
   ]
  },
  {
   "cell_type": "markdown",
   "metadata": {},
   "source": [
    "## AzimuthalEquidistant\n",
    "[projection list](#CARTOPY_Projections)"
   ]
  },
  {
   "cell_type": "markdown",
   "metadata": {},
   "source": [
    "## LambertConformal\n",
    "[projection list](#CARTOPY_Projections)\n",
    "\n",
    "\n",
    "```class cartopy.crs.LambertConformal(central_longitude=-96.0, central_latitude=39.0, false_easting=0.0, false_northing=0.0, secant_latitudes=None, standard_parallels=None, globe=None, cutoff=-30)\n",
    "```\n",
    "\n",
    "A Lambert Conformal conic projection.\n",
    "\n",
    "Kwargs:\n",
    "\n",
    "* central_longitude - The central longitude. \n",
    "    Defaults to 0.\n",
    "\n",
    "* central_latitude - The central latitude. \n",
    "    Defaults to 0.\n",
    "\n",
    "* false_easting - X offset from planar origin in metres.\n",
    "    Defaults to 0.\n",
    "\n",
    "* false_northing - Y offset from planar origin in metres.\n",
    "    Defaults to 0.\n",
    "\n",
    "* standard_parallels - Standard parallel latitude(s).\n",
    "    Defaults to (33, 45).\n",
    "\n",
    "* globe - A cartopy.crs.Globe.\n",
    "    If omitted, a default globe is created.\n",
    "\n",
    "* cutoff - Latitude of map cutoff.\n",
    "    The map extends to infinity opposite the central pole so we must cut off the map drawing before then. A value of 0 will draw half the globe. Defaults to -30."
   ]
  },
  {
   "cell_type": "code",
   "execution_count": null,
   "metadata": {
    "collapsed": false
   },
   "outputs": [],
   "source": [
    "plt.figure(figsize=(12, 12))\n",
    "ax = plt.axes(projection=ccrs.LambertConformal())\n",
    "ax.coastlines(resolution='110m')\n",
    "ax.gridlines();"
   ]
  },
  {
   "cell_type": "markdown",
   "metadata": {},
   "source": [
    "## LambertCylindrical\n",
    "[projection list](#CARTOPY_Projections)\n",
    "\n",
    "```\n",
    "class cartopy.crs.LambertCylindrical(central_longitude=0.0)\n",
    "```"
   ]
  },
  {
   "cell_type": "code",
   "execution_count": null,
   "metadata": {
    "collapsed": false
   },
   "outputs": [],
   "source": [
    "plt.figure(figsize=(12, 12))\n",
    "ax = plt.axes(projection=ccrs.LambertCylindrical())\n",
    "ax.coastlines(resolution='110m')\n",
    "ax.stock_img()\n",
    "ax.gridlines();"
   ]
  },
  {
   "cell_type": "markdown",
   "metadata": {},
   "source": [
    "## Mercator\n",
    "[projection list](#CARTOPY_Projections)\n",
    "\n",
    "```\n",
    "class cartopy.crs.Mercator(central_longitude=0.0, min_latitude=-80.0, max_latitude=84.0, globe=None)\n",
    "```\n",
    "\n",
    "A Mercator projection.\n",
    "\n",
    "Kwargs:\n",
    "\n",
    "* central_longitude - the central longitude. Defaults to 0.\n",
    "\n",
    "* min_latitude - the maximum southerly extent of the projection.\n",
    "    Defaults to -80 degrees.\n",
    "\n",
    "* max_latitude - the maximum northerly extent of the projection.\n",
    "    Defaults to 84 degrees.\n",
    "\n",
    "* globe - A cartopy.crs.Globe.\n",
    "    If omitted, a default globe is created."
   ]
  },
  {
   "cell_type": "code",
   "execution_count": null,
   "metadata": {
    "collapsed": false
   },
   "outputs": [],
   "source": [
    "plt.figure(figsize=(12, 12))\n",
    "ax = plt.axes(projection=ccrs.Mercator())\n",
    "ax.coastlines(resolution='110m')\n",
    "ax.stock_img()\n",
    "ax.gridlines();"
   ]
  },
  {
   "cell_type": "markdown",
   "metadata": {},
   "source": [
    "## Miller\n",
    "[projection list](#CARTOPY_Projections)\n",
    "\n",
    "```\n",
    "class cartopy.crs.Miller(central_longitude=0.0)\n",
    "```"
   ]
  },
  {
   "cell_type": "code",
   "execution_count": null,
   "metadata": {
    "collapsed": false
   },
   "outputs": [],
   "source": [
    "plt.figure(figsize=(12, 12))\n",
    "ax = plt.axes(projection=ccrs.Miller())\n",
    "ax.coastlines(resolution='110m')\n",
    "ax.stock_img()\n",
    "ax.gridlines();"
   ]
  },
  {
   "cell_type": "markdown",
   "metadata": {},
   "source": [
    "## Mollweide\n",
    "[projection list](#CARTOPY_Projections)\n",
    "\n",
    "```\n",
    "class cartopy.crs.Mollweide(central_longitude=0, globe=None)\n",
    "```"
   ]
  },
  {
   "cell_type": "code",
   "execution_count": null,
   "metadata": {
    "collapsed": false
   },
   "outputs": [],
   "source": [
    "plt.figure(figsize=(12, 12))\n",
    "ax = plt.axes(projection=ccrs.Mollweide())\n",
    "ax.coastlines(resolution='110m')\n",
    "ax.stock_img()\n",
    "ax.gridlines();"
   ]
  },
  {
   "cell_type": "markdown",
   "metadata": {},
   "source": [
    "## Orthographic\n",
    "[projection list](#CARTOPY_Projections)\n",
    "\n",
    "```\n",
    "class cartopy.crs.Orthographic(central_longitude=0.0, central_latitude=0.0, globe=None)\n",
    "```"
   ]
  },
  {
   "cell_type": "code",
   "execution_count": null,
   "metadata": {
    "collapsed": false
   },
   "outputs": [],
   "source": [
    "plt.figure(figsize=(12, 12))\n",
    "ax = plt.axes(projection=ccrs.Orthographic())\n",
    "ax.coastlines(resolution='110m')\n",
    "ax.stock_img()\n",
    "ax.gridlines();"
   ]
  },
  {
   "cell_type": "markdown",
   "metadata": {},
   "source": [
    "## Robinson\n",
    "[projection list](#CARTOPY_Projections)\n",
    "\n",
    "```\n",
    "class cartopy.crs.Robinson(central_longitude=0, globe=None)\n",
    "```"
   ]
  },
  {
   "cell_type": "code",
   "execution_count": null,
   "metadata": {
    "collapsed": false
   },
   "outputs": [],
   "source": [
    "plt.figure(figsize=(12, 12))\n",
    "ax = plt.axes(projection=ccrs.Robinson())\n",
    "ax.coastlines(resolution='110m')\n",
    "ax.stock_img()\n",
    "ax.gridlines();"
   ]
  },
  {
   "cell_type": "markdown",
   "metadata": {},
   "source": [
    "## Stereographic \n",
    "[projection list](#CARTOPY_Projections)\n",
    "\n",
    "```\n",
    "class cartopy.crs.Stereographic(central_latitude=0.0, central_longitude=0.0, false_easting=0.0, false_northing=0.0, true_scale_latitude=None, globe=None)\n",
    "```"
   ]
  },
  {
   "cell_type": "code",
   "execution_count": null,
   "metadata": {
    "collapsed": false
   },
   "outputs": [],
   "source": [
    "plt.figure(figsize=(12, 12))\n",
    "ax = plt.axes(projection=ccrs.Stereographic())\n",
    "ax.coastlines(resolution='110m')\n",
    "ax.gridlines();"
   ]
  },
  {
   "cell_type": "markdown",
   "metadata": {},
   "source": [
    "## TransverseMercator\n",
    "[projection list](#CARTOPY_Projections)\n",
    "\n",
    "```\n",
    "class cartopy.crs.TransverseMercator(central_longitude=0.0, central_latitude=0.0, false_easting=0.0, false_northing=0.0, scale_factor=1.0, globe=None)\n",
    "```\n",
    "A Transverse Mercator projection.\n",
    "\n",
    "Kwargs:\n",
    "\n",
    "* central_longitude - The true longitude of the central meridian in\n",
    "    degrees. Defaults to 0.\n",
    "\n",
    "* central_latitude - The true latitude of the planar origin in\n",
    "    degrees. Defaults to 0.\n",
    "\n",
    "* false_easting - X offset from the planar origin in metres.\n",
    "    Defaults to 0.\n",
    "\n",
    "* false_northing - Y offset from the planar origin in metres.\n",
    "    Defaults to 0.\n",
    "\n",
    "* scale_factor - Scale factor at the central meridian. Defaults\n",
    "    to 1.\n",
    "\n",
    "* globe - An instance of cartopy.crs.Globe. If omitted, a\n",
    "    default globe is created."
   ]
  },
  {
   "cell_type": "code",
   "execution_count": null,
   "metadata": {
    "collapsed": false
   },
   "outputs": [],
   "source": [
    "plt.figure(figsize=(12, 12))\n",
    "ax = plt.axes(projection=ccrs.TransverseMercator())\n",
    "ax.coastlines(resolution='110m')\n",
    "ax.gridlines();"
   ]
  },
  {
   "cell_type": "markdown",
   "metadata": {},
   "source": [
    "## UTM\n",
    "[projection list](#CARTOPY_Projections)\n",
    "\n",
    "```\n",
    "class cartopy.crs.UTM(zone, southern_hemisphere=False, globe=None)\n",
    "```\n",
    "\n",
    "Universal Transverse Mercator projection.\n",
    "\n",
    "Kwargs:\n",
    "\n",
    "* zone - the numeric zone of the UTM required.\n",
    "\n",
    "* globe - An instance of cartopy.crs.Globe. If omitted, a\n",
    "    default globe is created.\n",
    "\n",
    "* southern_hemisphere - set to True if the zone is in the southern\n",
    "    hemisphere, defaults to False."
   ]
  },
  {
   "cell_type": "raw",
   "metadata": {},
   "source": [
    "plt.figure(figsize=(3, 3))\n",
    "ax = plt.axes(projection=ccrs.UTM(zone=18))\n",
    "ax.coastlines(resolution='110m')\n",
    "ax.gridlines()"
   ]
  },
  {
   "cell_type": "markdown",
   "metadata": {},
   "source": [
    "## InterruptedGoodeHomolosine\n",
    "[projection list](#CARTOPY_Projections)\n",
    "\n",
    "```\n",
    "class cartopy.crs.InterruptedGoodeHomolosine(central_longitude=0, globe=None)\n",
    "```"
   ]
  },
  {
   "cell_type": "code",
   "execution_count": null,
   "metadata": {
    "collapsed": false
   },
   "outputs": [],
   "source": [
    "plt.figure(figsize=(12, 12))\n",
    "ax = plt.axes(projection=ccrs.InterruptedGoodeHomolosine())\n",
    "ax.coastlines(resolution='110m')\n",
    "ax.stock_img()\n",
    "ax.gridlines();"
   ]
  },
  {
   "cell_type": "markdown",
   "metadata": {},
   "source": [
    "## RotatedPole\n",
    "[projection list](#CARTOPY_Projections)\n",
    "\n",
    "```\n",
    "class cartopy.crs.RotatedPole(pole_longitude=0.0, pole_latitude=90.0, central_rotated_longitude=0.0, globe=None)\n",
    "```\n",
    "\n",
    "Defines a rotated latitude/longitude projected coordinate system with cylindrical topology and projected distance.\n",
    "\n",
    "Coordinates are measured in projection metres.\n",
    "\n",
    "Create a RotatedPole CRS.\n",
    "\n",
    "The class uses proj4 to perform an ob_tran operation, using the pole_longitude to set a lon_0 then performing two rotations based on pole_latitude and central_rotated_longitude. This is equivalent to setting the new pole to a location defined by the pole_latitude and pole_longitude values in the GeogCRS defined by globe, then rotating this new CRS about it’s pole using the central_rotated_longitude value.\n",
    "\n",
    "Args:\n",
    "\n",
    "* pole_longitude - Pole longitude position, in unrotated degrees.\n",
    "\n",
    "* pole_latitude - Pole latitude position, in unrotated degrees.\n",
    "\n",
    "* central_rotated_longitude - Longitude rotation about the new\n",
    "    pole, in degrees.\n",
    "\n",
    "Kwargs:\n",
    "\n",
    "* globe - An optional cartopy.crs.Globe.\n",
    "    Defaults to a “WGS84” datum."
   ]
  },
  {
   "cell_type": "code",
   "execution_count": null,
   "metadata": {
    "collapsed": false
   },
   "outputs": [],
   "source": [
    "plt.figure(figsize=(12, 12))\n",
    "ax = plt.axes(projection=ccrs.RotatedPole(pole_latitude=37.5, pole_longitude=177.5))\n",
    "ax.coastlines(resolution='110m')\n",
    "ax.stock_img()\n",
    "ax.gridlines();"
   ]
  },
  {
   "cell_type": "markdown",
   "metadata": {},
   "source": [
    "## OSGB\n",
    "[projection list](#CARTOPY_Projections)\n",
    "\n",
    "```class cartopy.crs.OSGB```"
   ]
  },
  {
   "cell_type": "code",
   "execution_count": null,
   "metadata": {
    "collapsed": false
   },
   "outputs": [],
   "source": [
    "plt.figure(figsize=(12, 12))\n",
    "ax = plt.axes(projection=ccrs.OSGB())\n",
    "ax.coastlines(resolution='110m')\n",
    "ax.stock_img()\n",
    "ax.gridlines();"
   ]
  },
  {
   "cell_type": "markdown",
   "metadata": {},
   "source": [
    "## EuroPP\n",
    "[projection list](#CARTOPY_Projections)\n",
    "\n",
    "```class cartopy.crs.EuroPP\n",
    "```\n",
    "\n",
    "UTM Zone 32 projection for EuroPP domain.\n",
    "\n",
    "Ellipsoid is International 1924, Datum is ED50."
   ]
  },
  {
   "cell_type": "code",
   "execution_count": null,
   "metadata": {
    "collapsed": false
   },
   "outputs": [],
   "source": [
    "plt.figure(figsize=(12, 12))\n",
    "ax = plt.axes(projection=ccrs.EuroPP())\n",
    "ax.coastlines(resolution='110m')\n",
    "ax.stock_img()\n",
    "ax.gridlines();"
   ]
  },
  {
   "cell_type": "markdown",
   "metadata": {},
   "source": [
    "## Geostationary\n",
    "[projection list](#CARTOPY_Projections)\n",
    "\n",
    "```\n",
    "class cartopy.crs.Geostationary(central_longitude=0.0, satellite_height=35785831, false_easting=0, false_northing=0, globe=None)\n",
    "```"
   ]
  },
  {
   "cell_type": "code",
   "execution_count": null,
   "metadata": {
    "collapsed": false
   },
   "outputs": [],
   "source": [
    "plt.figure(figsize=(12, 12))\n",
    "ax = plt.axes(projection=ccrs.Geostationary())\n",
    "ax.coastlines(resolution='110m')\n",
    "ax.stock_img()\n",
    "ax.gridlines();"
   ]
  },
  {
   "cell_type": "markdown",
   "metadata": {},
   "source": [
    "## Gnomonic\n",
    "[projection list](#CARTOPY_Projections)\n",
    "\n",
    "```\n",
    "class cartopy.crs.Gnomonic(central_latitude=0.0, globe=None)\n",
    "```"
   ]
  },
  {
   "cell_type": "code",
   "execution_count": null,
   "metadata": {
    "collapsed": false
   },
   "outputs": [],
   "source": [
    "plt.figure(figsize=(12, 12))\n",
    "ax = plt.axes(projection=ccrs.Gnomonic())\n",
    "ax.coastlines(resolution='110m')\n",
    "ax.stock_img()\n",
    "ax.gridlines();"
   ]
  },
  {
   "cell_type": "markdown",
   "metadata": {},
   "source": [
    "## NorthPolarStereo\n",
    "[projection list](#CARTOPY_Projections)\n",
    "\n",
    "```\n",
    "class cartopy.crs.NorthPolarStereo(central_longitude=0.0, globe=None)\n",
    "```"
   ]
  },
  {
   "cell_type": "code",
   "execution_count": null,
   "metadata": {
    "collapsed": false
   },
   "outputs": [],
   "source": [
    "plt.figure(figsize=(12, 12))\n",
    "ax = plt.axes(projection=ccrs.NorthPolarStereo())\n",
    "ax.coastlines(resolution='110m')\n",
    "ax.stock_img()\n",
    "ax.gridlines();"
   ]
  },
  {
   "cell_type": "markdown",
   "metadata": {},
   "source": [
    "## OSNI\n",
    "[projection list](#CARTOPY_Projections)\n",
    "\n",
    "```class cartopy.crs.OSNI```"
   ]
  },
  {
   "cell_type": "code",
   "execution_count": null,
   "metadata": {
    "collapsed": true
   },
   "outputs": [],
   "source": [
    "# note:\n",
    "# coastlines methods can use several resolution (110m, 50m, 10m)\n",
    "# for convenience here we use 110m\n",
    "# see :\n",
    "# ax.coastlines?"
   ]
  },
  {
   "cell_type": "code",
   "execution_count": null,
   "metadata": {
    "collapsed": false
   },
   "outputs": [],
   "source": [
    "plt.figure(figsize=(12, 12))\n",
    "ax = plt.axes(projection=ccrs.OSNI())\n",
    "ax.coastlines(resolution='110m')\n",
    "ax.stock_img()\n",
    "ax.gridlines();"
   ]
  },
  {
   "cell_type": "markdown",
   "metadata": {},
   "source": [
    "## SouthPolarStereo \n",
    "[projection list](#CARTOPY_Projections)\n",
    "\n",
    "```class cartopy.crs.SouthPolarStereo(central_longitude=0.0, globe=None)```"
   ]
  },
  {
   "cell_type": "code",
   "execution_count": null,
   "metadata": {
    "collapsed": false
   },
   "outputs": [],
   "source": [
    "plt.figure(figsize=(12, 12))\n",
    "ax = plt.axes(projection=ccrs.SouthPolarStereo())\n",
    "ax.coastlines(resolution='110m')\n",
    "ax.stock_img()\n",
    "ax.gridlines();"
   ]
  },
  {
   "cell_type": "markdown",
   "metadata": {},
   "source": []
  }
 ],
 "metadata": {
  "kernelspec": {
   "display_name": "Python 3",
   "language": "python",
   "name": "python3"
  },
  "language_info": {
   "codemirror_mode": {
    "name": "ipython",
    "version": 3
   },
   "file_extension": ".py",
   "mimetype": "text/x-python",
   "name": "python",
   "nbconvert_exporter": "python",
   "pygments_lexer": "ipython3",
   "version": "3.5.0"
  }
 },
 "nbformat": 4,
 "nbformat_minor": 0
}
