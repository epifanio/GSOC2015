{
 "cells": [
  {
   "cell_type": "code",
   "execution_count": 3,
   "metadata": {
    "collapsed": false
   },
   "outputs": [],
   "source": [
    "import psycopg2\n",
    "paramstring = \"dbname='%s' user='%s' host='%s' password='%s'\" % ('natural_earth2','main','localhost','main')\n",
    "conn = psycopg2.connect(paramstring)"
   ]
  },
  {
   "cell_type": "code",
   "execution_count": 15,
   "metadata": {
    "collapsed": false
   },
   "outputs": [
    {
     "name": "stdout",
     "output_type": "stream",
     "text": [
      "('geography_columns',)\n",
      "('geometry_columns',)\n",
      "('spatial_ref_sys',)\n",
      "('raster_columns',)\n",
      "('raster_overviews',)\n",
      "('ne_10m_admin_0_countries',)\n",
      "('ne_10m_admin_1_states_provinces_shp',)\n",
      "('ne_10m_geography_marine_polys',)\n",
      "('ne_10m_geography_regions_elevation_points',)\n",
      "('ne_10m_geography_regions_points',)\n",
      "('ne_10m_geography_regions_polys',)\n",
      "('ne_10m_lakes',)\n",
      "('ne_10m_land',)\n",
      "('ne_10m_ocean',)\n",
      "('ne_10m_populated_places',)\n",
      "('ne_10m_rivers_lake_centerlines',)\n",
      "('ne_10m_urban_areas',)\n"
     ]
    }
   ],
   "source": [
    "curs = conn.cursor()\n",
    "curs.execute(\"\"\"SELECT table_name FROM information_schema.tables WHERE table_schema = 'public'\"\"\")\n",
    "for table in curs.fetchall():\n",
    "    print(table)\n",
    "conn.commit()"
   ]
  },
  {
   "cell_type": "code",
   "execution_count": 43,
   "metadata": {
    "collapsed": false
   },
   "outputs": [
    {
     "data": {
      "text/plain": [
       "['gid', 'scalerank', 'featurecla', 'area_sqkm', 'the_geom']"
      ]
     },
     "execution_count": 43,
     "metadata": {},
     "output_type": "execute_result"
    }
   ],
   "source": [
    "curs = conn.cursor()\n",
    "curs.execute(\"Select * FROM ne_10m_urban_areas\")\n",
    "colnames = [desc[0] for desc in curs.description]\n",
    "conn.commit()\n",
    "colnames\n"
   ]
  },
  {
   "cell_type": "code",
   "execution_count": 17,
   "metadata": {
    "collapsed": false
   },
   "outputs": [],
   "source": [
    "curs = conn.cursor()\n",
    "curs.execute(\"CREATE TABLE cities ( id int4 primary key, name varchar(50), the_geom geometry(POINT,4326));\")\n",
    "conn.commit()"
   ]
  },
  {
   "cell_type": "code",
   "execution_count": 18,
   "metadata": {
    "collapsed": true
   },
   "outputs": [],
   "source": [
    "table='cities'\n",
    "col=\"id, the_geom, name\"\n",
    "x=10\n",
    "y=10\n",
    "name='test'"
   ]
  },
  {
   "cell_type": "code",
   "execution_count": 23,
   "metadata": {
    "collapsed": true
   },
   "outputs": [],
   "source": [
    "querytmplate=\"INSERT INTO %(table)s (%(col)s) VALUES (1,ST_GeomFromText('POINT(%(x)f %(y)f)',4326),'%(name)s');\""
   ]
  },
  {
   "cell_type": "code",
   "execution_count": 26,
   "metadata": {
    "collapsed": false
   },
   "outputs": [],
   "source": [
    "querytmplate = querytmplate % {'table':table, 'col':col, 'x':x, 'y':x, 'name':name}"
   ]
  },
  {
   "cell_type": "code",
   "execution_count": 29,
   "metadata": {
    "collapsed": false
   },
   "outputs": [],
   "source": [
    "curs = conn.cursor()\n",
    "curs.execute(querytmplate)\n",
    "conn.commit()"
   ]
  },
  {
   "cell_type": "code",
   "execution_count": 33,
   "metadata": {
    "collapsed": false
   },
   "outputs": [
    {
     "name": "stdout",
     "output_type": "stream",
     "text": [
      "[(1, 'test', '0101000020E610000000000000000024400000000000002440')]\n"
     ]
    }
   ],
   "source": [
    "curs = conn.cursor()\n",
    "curs.execute(\"SELECT * FROM cities\")\n",
    "data = curs.fetchall()\n",
    "conn.commit()\n",
    "print(data)"
   ]
  },
  {
   "cell_type": "code",
   "execution_count": 37,
   "metadata": {
    "collapsed": false
   },
   "outputs": [
    {
     "name": "stdout",
     "output_type": "stream",
     "text": [
      "[('test', 'POINT(10 10)')]\n"
     ]
    }
   ],
   "source": [
    "curs = conn.cursor()\n",
    "curs.execute(\"SELECT name, ST_AsText(the_geom) FROM cities\")\n",
    "data = curs.fetchall()\n",
    "conn.commit()\n",
    "print(data)"
   ]
  },
  {
   "cell_type": "code",
   "execution_count": 41,
   "metadata": {
    "collapsed": false
   },
   "outputs": [
    {
     "data": {
      "text/plain": [
       "'POINT(10 10)'"
      ]
     },
     "execution_count": 41,
     "metadata": {},
     "output_type": "execute_result"
    }
   ],
   "source": [
    "data[0][1]"
   ]
  },
  {
   "cell_type": "code",
   "execution_count": null,
   "metadata": {
    "collapsed": true
   },
   "outputs": [],
   "source": []
  }
 ],
 "metadata": {
  "kernelspec": {
   "display_name": "Python 3",
   "language": "python",
   "name": "python3"
  },
  "language_info": {
   "codemirror_mode": {
    "name": "ipython",
    "version": 3
   },
   "file_extension": ".py",
   "mimetype": "text/x-python",
   "name": "python",
   "nbconvert_exporter": "python",
   "pygments_lexer": "ipython3",
   "version": "3.4.3"
  }
 },
 "nbformat": 4,
 "nbformat_minor": 0
}
