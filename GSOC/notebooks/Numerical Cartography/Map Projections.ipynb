{
 "cells": [
  {
   "cell_type": "markdown",
   "metadata": {},
   "source": [
    "<h1><center>[Notebooks](../) - [Numerical Cartography](../numerical cartography)</center></h1>"
   ]
  },
  {
   "cell_type": "markdown",
   "metadata": {},
   "source": [
    "# Map Projections\n",
    "\n",
    "A map projection is a systematic representation of all or part of the surface of a round body, especially the Earth, on a plane and cannot be done without inducing distortions.\n",
    "\n",
    "There are several ways to project a curved surface on a plane and each way, projection, has its own particular characteristic. Depending on the purpose of the map a map maker, the cartographer, must choose the characteristic which is to be shown accurately at the expense of others, or a compromise of several characteristics.\n",
    "\n",
    "\n",
    "The characteristics normally considered in choosing a map projection are as follows:\n",
    "\n",
    "* **Area** - (eg. equal-area map) on such maps the area is preserved (areas of same size on the map represent an area f equivalent size on the earth) Shapes, angles, and scale must be distorted on most parts of such a map. Equal-area map are also called *equivalent*, *homolographic*, or *homalographic*\n",
    "* **Shape** - (eg. conformal map) on those map the relative local angles about every point on the map are shown correctly. Because local angles are correct, meridians intersect parallels at right ($90^\\circ$) angles on a conformal projection.\n",
    "* **Scale** (eg. quidistant projections) No map projection shows scale correctly throughout the map, but there are usually one or more lines on the map along which the scale remains true. An equidistant projection show true scale between one or two points and every other point on the map, or along every meridian.\n",
    "* **Direction** - While conformal maps give the relative local directions cor- rectly at any given point, there is one frequently used group of map projections, called azimuthal (or zenithal), on which the directions or azimuths of all points on the map are shown correctly with respect to the center. Some projection of this kind can be *equal-area* others can be *conformal* or *equidistant* \n",
    "* **Special characteristic** - Several map projections provide specialcharacteristics that no other projection provides. eg. On the *Mercator projection* the lines of constant direction (rhumb lines) are shown as straight lines. On the *Gnomonic projection*, all great circle paths are shown as straight lines. On the *Stereographic*, all small circles, as well as great circles, are shown as circles on the map. \n",
    "\n",
    "source : [Map Projections](http://pubs.usgs.gov/pp/1395/report.pdf)"
   ]
  },
  {
   "cell_type": "markdown",
   "metadata": {},
   "source": [
    "There are several tools that can handle map projections right an easy and powerful tool to explore map projections is the cartopy python library. For several examples see the relative example [notebooks](../projects/CARTOPY/)"
   ]
  },
  {
   "cell_type": "markdown",
   "metadata": {
    "collapsed": true
   },
   "source": [
    "---\n",
    "\n",
    "[top](#Notebooks---Numerical-Cartography)"
   ]
  }
 ],
 "metadata": {
  "kernelspec": {
   "display_name": "Python 3",
   "language": "python",
   "name": "python3"
  },
  "language_info": {
   "codemirror_mode": {
    "name": "ipython",
    "version": 3
   },
   "file_extension": ".py",
   "mimetype": "text/x-python",
   "name": "python",
   "nbconvert_exporter": "python",
   "pygments_lexer": "ipython3",
   "version": "3.3.5"
  }
 },
 "nbformat": 4,
 "nbformat_minor": 0
}
