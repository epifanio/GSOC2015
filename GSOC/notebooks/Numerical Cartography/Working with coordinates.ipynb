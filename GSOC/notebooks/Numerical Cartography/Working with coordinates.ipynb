{
 "cells": [
  {
   "cell_type": "markdown",
   "metadata": {},
   "source": [
    "<h1><center>[Notebooks](../) - [Numerical Cartography](../numerical cartography)</center></h1>"
   ]
  },
  {
   "cell_type": "markdown",
   "metadata": {},
   "source": [
    "# Working with Coordinates\n",
    "\n",
    "* [Coordinate notation](#Coordinate-notation)\n",
    "* [Coordinate conversion](#Coordinate-conversion)\n",
    "* [Datum transformation](#Datum-transformation)"
   ]
  },
  {
   "cell_type": "markdown",
   "metadata": {},
   "source": [
    "## Coordinate notation\n",
    "To express the values for the geographic longitude and latitude there are different notations, the most used are:\n",
    "   * **degimal degrees** (eg: $30.263888889^{\\circ}$)\n",
    "   * **sessagesimal degrees** (eg: $ 30^{\\circ} 15^{'} 50^{\"}$)\n",
    "\n",
    "A simple example to convert back and forward those 2 different notations is shown below:\n",
    "\n",
    "---"
   ]
  },
  {
   "cell_type": "markdown",
   "metadata": {},
   "source": [
    "Let's use the IPython magic funcion ```%%file``` to make a simple comma separated value (CSV) file'"
   ]
  },
  {
   "cell_type": "code",
   "execution_count": 1,
   "metadata": {
    "collapsed": false
   },
   "outputs": [
    {
     "name": "stdout",
     "output_type": "stream",
     "text": [
      "Overwriting test.csv\n"
     ]
    }
   ],
   "source": [
    "%%file test.csv\n",
    "30.263888889,45.563456\n",
    "23.457654,34.433425"
   ]
  },
  {
   "cell_type": "markdown",
   "metadata": {},
   "source": [
    "now read the CSV using [pandas](), we'll create a [pandas.dataframe]() using the [pandas.read_csv]() method:"
   ]
  },
  {
   "cell_type": "code",
   "execution_count": 2,
   "metadata": {
    "collapsed": true
   },
   "outputs": [],
   "source": [
    "import pandas as pd"
   ]
  },
  {
   "cell_type": "code",
   "execution_count": 3,
   "metadata": {
    "collapsed": false
   },
   "outputs": [
    {
     "data": {
      "text/html": [
       "<div>\n",
       "<table border=\"1\" class=\"dataframe\">\n",
       "  <thead>\n",
       "    <tr style=\"text-align: right;\">\n",
       "      <th></th>\n",
       "      <th>Latitude</th>\n",
       "      <th>Longitude</th>\n",
       "    </tr>\n",
       "  </thead>\n",
       "  <tbody>\n",
       "    <tr>\n",
       "      <th>0</th>\n",
       "      <td>30.263889</td>\n",
       "      <td>45.563456</td>\n",
       "    </tr>\n",
       "    <tr>\n",
       "      <th>1</th>\n",
       "      <td>23.457654</td>\n",
       "      <td>34.433425</td>\n",
       "    </tr>\n",
       "  </tbody>\n",
       "</table>\n",
       "</div>"
      ],
      "text/plain": [
       "    Latitude  Longitude\n",
       "0  30.263889  45.563456\n",
       "1  23.457654  34.433425"
      ]
     },
     "execution_count": 3,
     "metadata": {},
     "output_type": "execute_result"
    }
   ],
   "source": [
    "input = pd.read_csv('test.csv', names=['Latitude', 'Longitude'])\n",
    "input"
   ]
  },
  {
   "cell_type": "markdown",
   "metadata": {},
   "source": [
    "Simple code to convert between the two notations:\n",
    "\n",
    "* d2s: convert from decimal degrees to sessagesimal degrees\n",
    "* s2d: convert from sessagesimal degrees to decimal degrees"
   ]
  },
  {
   "cell_type": "code",
   "execution_count": 4,
   "metadata": {
    "collapsed": false
   },
   "outputs": [],
   "source": [
    "import numpy as np\n",
    "\n",
    "def d2s(df,key='Latitude'):\n",
    "    '''convert from decimal degrees to sessagesimal degrees\n",
    "    take as input a pandas dataframe and a column name'''\n",
    "    g = df[key].values.astype(int)\n",
    "    p = ((( df[key].values) - df[key].values.astype(int))*60).astype(int)\n",
    "    s = (((df[key].values - df[key].values.astype(int)) * 60. ) - p ) * 60.\n",
    "    param = key\n",
    "    ses = pd.DataFrame(np.array([g,p,s]).T, columns=['Degree','Minute','Second'] , dtype=float)\n",
    "    return ses\n",
    "\n",
    "def s2d(df,key=['Degree','Minute','Second']):\n",
    "    '''convert from sessagesimal degrees to decimal degrees\n",
    "    take as input a pandas dataframe and a list of column names'''\n",
    "    deg=df[key[0]].values+(df[key[1]].values/60.+df[key[2]].values/3600.)\n",
    "    return deg"
   ]
  },
  {
   "cell_type": "code",
   "execution_count": 5,
   "metadata": {
    "collapsed": true
   },
   "outputs": [],
   "source": [
    "# convert from decimal degrees to sessagesimal degree"
   ]
  },
  {
   "cell_type": "code",
   "execution_count": 6,
   "metadata": {
    "collapsed": true
   },
   "outputs": [],
   "source": [
    "Lat = d2s(df=input,key='Latitude')\n",
    "Lon = d2s(df=input,key='Longitude')"
   ]
  },
  {
   "cell_type": "code",
   "execution_count": 7,
   "metadata": {
    "collapsed": false
   },
   "outputs": [
    {
     "data": {
      "text/html": [
       "<div>\n",
       "<table border=\"1\" class=\"dataframe\">\n",
       "  <thead>\n",
       "    <tr style=\"text-align: right;\">\n",
       "      <th></th>\n",
       "      <th>Degree</th>\n",
       "      <th>Minute</th>\n",
       "      <th>Second</th>\n",
       "    </tr>\n",
       "  </thead>\n",
       "  <tbody>\n",
       "    <tr>\n",
       "      <th>0</th>\n",
       "      <td>30</td>\n",
       "      <td>15</td>\n",
       "      <td>50.0000</td>\n",
       "    </tr>\n",
       "    <tr>\n",
       "      <th>1</th>\n",
       "      <td>23</td>\n",
       "      <td>27</td>\n",
       "      <td>27.5544</td>\n",
       "    </tr>\n",
       "  </tbody>\n",
       "</table>\n",
       "</div>"
      ],
      "text/plain": [
       "   Degree  Minute   Second\n",
       "0      30      15  50.0000\n",
       "1      23      27  27.5544"
      ]
     },
     "execution_count": 7,
     "metadata": {},
     "output_type": "execute_result"
    }
   ],
   "source": [
    "Lat"
   ]
  },
  {
   "cell_type": "code",
   "execution_count": 8,
   "metadata": {
    "collapsed": false
   },
   "outputs": [
    {
     "data": {
      "text/html": [
       "<div>\n",
       "<table border=\"1\" class=\"dataframe\">\n",
       "  <thead>\n",
       "    <tr style=\"text-align: right;\">\n",
       "      <th></th>\n",
       "      <th>Degree</th>\n",
       "      <th>Minute</th>\n",
       "      <th>Second</th>\n",
       "    </tr>\n",
       "  </thead>\n",
       "  <tbody>\n",
       "    <tr>\n",
       "      <th>0</th>\n",
       "      <td>45</td>\n",
       "      <td>33</td>\n",
       "      <td>48.4416</td>\n",
       "    </tr>\n",
       "    <tr>\n",
       "      <th>1</th>\n",
       "      <td>34</td>\n",
       "      <td>26</td>\n",
       "      <td>0.3300</td>\n",
       "    </tr>\n",
       "  </tbody>\n",
       "</table>\n",
       "</div>"
      ],
      "text/plain": [
       "   Degree  Minute   Second\n",
       "0      45      33  48.4416\n",
       "1      34      26   0.3300"
      ]
     },
     "execution_count": 8,
     "metadata": {},
     "output_type": "execute_result"
    }
   ],
   "source": [
    "Lon"
   ]
  },
  {
   "cell_type": "code",
   "execution_count": 9,
   "metadata": {
    "collapsed": true
   },
   "outputs": [],
   "source": [
    "# convert from sessagesimal degree to decimal degree"
   ]
  },
  {
   "cell_type": "code",
   "execution_count": 10,
   "metadata": {
    "collapsed": false
   },
   "outputs": [
    {
     "data": {
      "text/plain": [
       "array([ 30.26388889,  23.457654  ])"
      ]
     },
     "execution_count": 10,
     "metadata": {},
     "output_type": "execute_result"
    }
   ],
   "source": [
    "s2d(Lat)"
   ]
  },
  {
   "cell_type": "code",
   "execution_count": 11,
   "metadata": {
    "collapsed": false
   },
   "outputs": [
    {
     "data": {
      "text/plain": [
       "array([ 45.563456,  34.433425])"
      ]
     },
     "execution_count": 11,
     "metadata": {},
     "output_type": "execute_result"
    }
   ],
   "source": [
    "s2d(Lon)"
   ]
  },
  {
   "cell_type": "markdown",
   "metadata": {},
   "source": [
    "---"
   ]
  },
  {
   "cell_type": "markdown",
   "metadata": {},
   "source": [
    "## Coordinate conversion\n",
    "\n",
    "Common task when working with points is to convert their coordinates from Latitude and Longitude  to UTM and viceversa.  \n",
    "Common example is the position reported by a GPS receiver which usually report the position latitude and longitude expressed in decimal degrees and referred to the WGS84 ellipsoid. In this case we have a two way conversion:\n",
    "   * from Geographic to UTM\n",
    "   * from UTM to Geographic\n",
    "Note: this is an exact conversion, it is not a transformation of coordinates. The point is located on the same ellipsoid *WGS84* and the conversion between the two different notation does not involve any approssimation."
   ]
  },
  {
   "cell_type": "markdown",
   "metadata": {},
   "source": [
    "**Example:**\n",
    "\n",
    "We want find the UTM coordinates for the point. For the purpose of this excercize we will use the [pyproj](http://jswhit.github.io/pyproj/) module (python wrapper of the widely used Cartographic Projections Library: [PROJ](https://github.com/OSGeo/proj.4/wiki).\n",
    "\n",
    "\n",
    "$$P(longitude,latitude) :\\quad  -70.9393^{\\circ}, 43.1356^{\\circ}$$\n",
    "\n",
    "The UTM coordinate system is divided in 60 different zones, each zone has its own definition and can be easly identified by an unic ID using its [EPSG code](). \n",
    "Our point P falls in the state of New Hampshire (US) which is included in the 19th fuse of the UTM system.\n",
    "To find out which EPSG code is assigned to the UTM zone 19th on the WGS84 ellipsoid, we can use services like [EPSG.io](http://epsg.io/) which are based on the [EPSG API](http://www.ogp.org.uk/pubs/373-07-3.pdf) and look for: \n",
    "\n",
    "```WGS 84 / UTM zone 19N```\n",
    "\n",
    "\n",
    "Which will return : \n",
    "\n",
    "[```EPSG:32619```](http://epsg.io/32619)"
   ]
  },
  {
   "cell_type": "markdown",
   "metadata": {},
   "source": [
    "* Longitude Latitude WGS84 -> UTM 19N / WGS 84"
   ]
  },
  {
   "cell_type": "code",
   "execution_count": 12,
   "metadata": {
    "collapsed": true
   },
   "outputs": [],
   "source": [
    "#import the pyproj library\n",
    "import pyproj\n",
    "\n",
    "# set point P coordinates: \n",
    "P = (-70.93931369842528, 43.13567095719326)\n",
    "\n",
    "# define projection UTM 19 N: \n",
    "#    UTM zone 19, WGS84 ellipse, WGS84 datum, defined by epsg code 32619\n",
    "p1 = pyproj.Proj(init='epsg:32619')\n",
    "\n",
    "#Find UTM coordinates for the point P(-70.93931369842528,43.13567095719326)\n",
    "x1, y1 = p1(P[0],P[1])"
   ]
  },
  {
   "cell_type": "code",
   "execution_count": 13,
   "metadata": {
    "collapsed": false
   },
   "outputs": [
    {
     "data": {
      "text/plain": [
       "(342275.954354025, 4777706.425362386)"
      ]
     },
     "execution_count": 13,
     "metadata": {},
     "output_type": "execute_result"
    }
   ],
   "source": [
    "x1, y1"
   ]
  },
  {
   "cell_type": "markdown",
   "metadata": {},
   "source": [
    "---\n",
    "You can easly verify the results of the conversion using the [epsg.io map widget](http://epsg.io/32619/map) on  and look for:\n",
    "\n",
    "```Jere A. Chase Ocean Engineering Laboratory\n",
    "24 Colovos Road, Durham, NH 03824, United States```\n",
    "\n",
    "which will show the coordinated of the point $P$ in longitude and lattude on the upper right and in UTM on the center bottom.\n",
    "\n",
    "---"
   ]
  },
  {
   "cell_type": "markdown",
   "metadata": {},
   "source": [
    "## Datum transformation \n",
    "(Change in reference system)\n",
    "\n",
    "\n",
    "A reference system is a set of rules and measurments to establish the spatio-temporal position of a point location, regardless off the coordinate system. This system of rules and measurments must lock the degrees of freedom left free from the relative measurments. A coordinate system can be referenced to celestial bodies (quasi-inertial-reference-frame) or the more practical systems referenced to the earth. In the case of earth referenced system a SRS is defined by:\n",
    "\n",
    "* A Reference Surface (Ellipsoid)\n",
    "* Its Localization, where the ellipsoid can be earth-centered (WGS84) or oriented locally (eg. Gauss Boaga Roma 1940)\n",
    "\n",
    "A change in reference system can not be confused with coordinate transformation, which  are pure mathematical transformations. Those problems can be separted in :\n",
    "\n",
    "* Coordinate Transformation\n",
    "* Change in Reference System (or DATUM change)\n",
    "\n",
    "\n",
    "\n",
    "A Change in reference System is a tranformation which involve the estimation of a set of transformation parameteres. there are different methods which can be used to estimate those parameters besed on a set of reference points which coodinates are know in different reference systems. The proj library can be used to perform DATUM changes, see examples below: "
   ]
  },
  {
   "cell_type": "markdown",
   "metadata": {},
   "source": [
    "**Example** \n",
    "\n",
    "*  UTM 19N / WGS 84 -> UTM 19N NAD 83 "
   ]
  },
  {
   "cell_type": "code",
   "execution_count": 19,
   "metadata": {
    "collapsed": false
   },
   "outputs": [
    {
     "data": {
      "text/plain": [
       "(342275.954352494, 4777706.425244128)"
      ]
     },
     "execution_count": 19,
     "metadata": {},
     "output_type": "execute_result"
    }
   ],
   "source": [
    "# define projection 1: \n",
    "#    UTM zone 19, WGS84 ellipse, WGS84 datum, defined by epsg code 32619\n",
    "p1 = pyproj.Proj(init='epsg:32619')\n",
    "\n",
    "# define projection 2: UTM zone 19, GRS 1980 ellipse, NAD83 datum\n",
    "p2 = pyproj.Proj(init='epsg:26919')\n",
    "\n",
    "# transform the UTM coordinates for the point P to projection 2 coordinates.\n",
    "x2, y2 = pyproj.transform(p1,p2,x1,y1)\n",
    "\n",
    "x2, y2"
   ]
  },
  {
   "cell_type": "markdown",
   "metadata": {},
   "source": [
    "*  UTM 19N / WGS 84 -> UTM 19N NAD 27 "
   ]
  },
  {
   "cell_type": "code",
   "execution_count": 15,
   "metadata": {
    "collapsed": true
   },
   "outputs": [],
   "source": [
    "# define projection: UTM zone 19, Clarke 1866, NAD27 datum\n",
    "p3 = pyproj.Proj(init='epsg:26719')"
   ]
  },
  {
   "cell_type": "code",
   "execution_count": 16,
   "metadata": {
    "collapsed": true
   },
   "outputs": [],
   "source": [
    "# transform the UTM coordinates for the point P to projection 3 coordinates.\n",
    "x3, y3 = pyproj.transform(p1,p3,x1,y1)"
   ]
  },
  {
   "cell_type": "code",
   "execution_count": 21,
   "metadata": {
    "collapsed": false
   },
   "outputs": [
    {
     "data": {
      "text/plain": [
       "(342238.6977803253, 4777482.383716499)"
      ]
     },
     "execution_count": 21,
     "metadata": {},
     "output_type": "execute_result"
    }
   ],
   "source": [
    "x3, y3"
   ]
  },
  {
   "cell_type": "markdown",
   "metadata": {},
   "source": [
    "Note: \n",
    "\n",
    "The earth is in constant movment (Plate tectonics theory). Geodesist costantly redefine the specification of ellipsoid used as reference for the various CRS. The initial definition of NAD83(1986) was intended to match GRS80 and WGS84. In this example we are considering the *original* CRS means the WGS84 with ellipsoid epoc:1984 and the NAD 83 as defined in the 1986.\n",
    "\n",
    "This explain how close are the coordinates for the two CRS *UTM 19 N / WGS 84* and *UTM 19 N / NAD 83* which for the epoc of their definition are almost identical.\n",
    "To perform a more accurate transformation it is possible to specify the projection parameters esplicitly using the proj format string.\n",
    "read more: [WGS84 and NAD83](http://www.ngs.noaa.gov/CORS/Articles/WGS84NAD83.pdf), [North American Datum](https://en.wikipedia.org/wiki/North_American_Datum)"
   ]
  },
  {
   "cell_type": "markdown",
   "metadata": {},
   "source": [
    "---\n",
    "\n",
    "The problem of parameter estimation is developed on a dedicated in the [geometric transformations notebook](geometric-transformation.ipynb)"
   ]
  },
  {
   "cell_type": "markdown",
   "metadata": {},
   "source": [
    "---\n",
    "\n",
    "[top](#Notebooks---Numerical-Cartography)"
   ]
  },
  {
   "cell_type": "code",
   "execution_count": null,
   "metadata": {
    "collapsed": true
   },
   "outputs": [],
   "source": []
  }
 ],
 "metadata": {
  "kernelspec": {
   "display_name": "Python 3",
   "language": "",
   "name": "python3"
  },
  "language_info": {
   "codemirror_mode": {
    "name": "ipython",
    "version": 3
   },
   "file_extension": ".py",
   "mimetype": "text/x-python",
   "name": "python",
   "nbconvert_exporter": "python",
   "pygments_lexer": "ipython3",
   "version": "3.4.0"
  }
 },
 "nbformat": 4,
 "nbformat_minor": 0
}
