{
 "cells": [
  {
   "cell_type": "markdown",
   "metadata": {},
   "source": [
    "<h1><center>[Notebooks](../) - [Numerical Cartography](../numerical cartography)</center></h1>"
   ]
  },
  {
   "cell_type": "markdown",
   "metadata": {},
   "source": [
    "# Geodetic datum transformations"
   ]
  },
  {
   "cell_type": "markdown",
   "metadata": {},
   "source": [
    "Is common practice in Geospatial data science to work with datasets collected at different epoch and or referenced to different reference systems. In this context, the transformation parameters needed to convert data accurately into a more up-to-date reference system are often missed or, when available, are valid for wide areas affecting the accuracy of the transformation. In this briefing notes a simplified approach to derive datum transformation parameters is introduced.\n",
    "\n",
    "A Datum transformations can be defined as a geometric transformations between two three-dimensional coordinate reference systems. A common method consist in apply a *linear transformation* in the three dimensional space (x,y,z).\n",
    "A general linear transformation of a vector $x$ to another vector $y$ takes the form\n",
    "\n",
    "$$y=Mx+t \\quad (1)$$\n",
    "\n",
    "Each element of the $y$ vector is a combination of the element of $x$ plus a translation or shift represented by an element of the $t$ vector. The matrix **M** is called *transformation matrix* and **t** is called *translation vector*. With **M** being square nonsingular, the inverse relation  exist (eq. 2)\n",
    "\n",
    "$$x = M^{-1}(y-t) \\quad (2)$$\n",
    "\n",
    "in which case is called *affine transformation*.\n",
    "\n",
    "Limited to the two- and three- dimensional space, six *elementary* transformations are identified, each representing a single effect. They are geometrically described as: *Translation, Uniform scale, Rotation, Reflection, Stretch (Nonuniform scale factors) and Skew (Shear)*. \n",
    "\n",
    "<img src=\"../images/linear-transformation.svg\", width=\"80%\">\n",
    "\n",
    "<center>Figure 1: Elementary transformations</center>\n",
    "\n",
    "\n",
    "---\n",
    "\n",
    "## The Helmert 7-parameter transformation\n",
    "\n",
    "<img src=\"../images/helmert.svg\", width=\"80%\">\n",
    "\n",
    "<center>Figure 2: Roto-Traslation and scaling in three- dimensional space</center>\n",
    "\n",
    "\n",
    "The Helmert 7-parameter transformation, which is an affine (distortion-free) transformation in three dimensions, is extensively used in geodesy to perform Datum transformations. It is applied to geocentric coordinates and can be factored into seven elementary transformations: one uniform scale change, three translations, and three rotations.\n",
    "\n",
    "\n",
    "\n",
    "Considering a generic point $P$ represented in two orthogonal three dimensional Cartesian spatial reference frames $D_1 (x,y,z)$ and $D_2 (x',y',z')$. For small rotation the direct transformation $P_{D_1} \\to P_{D_2}$, is given by\n",
    "\n",
    "$$\n",
    " {\\begin{pmatrix}\n",
    "x_p \\\\\n",
    "y_p \\\\\n",
    "z_p \n",
    "\\end{pmatrix}}_{{D}_2} = \\begin{pmatrix}\n",
    "x^{\\prime}_0 \\\\\n",
    "y^{\\prime}_0 \\\\\n",
    "z^{\\prime}_0 \n",
    "\\end{pmatrix} + (1+k) \\begin{pmatrix}\n",
    "1 & R_z & -R_y \\\\\n",
    "-R_z & 1 & R_x \\\\\n",
    "R_y & -R_x & 1\n",
    "\\end{pmatrix} \\begin{pmatrix}\n",
    "x^{\\prime}_p \\\\\n",
    "y^{\\prime}_p \\\\\n",
    "z^{\\prime}_p\n",
    "\\end{pmatrix}_{{D}_1} \\quad (3)\n",
    "$$\n",
    "\n",
    "\n",
    "## Horizontal geodetic datum transformations\n",
    "\n",
    "\n",
    "\n",
    "It is common in Geodesy to separate altimetry from planimetry, in this scenario the affine transformation (eq. 3) can be simplified to a *plane roto-translation with isotropic scale variation* which requires only four parameters: one scale factor $(\\lambda)$, one rotation $(\\alpha)$, two translations $(x'_0, y'_0)$. The direct (eq. 4) and inverse (eq. 5) transformations are expressed by:\n",
    "\n",
    "\n",
    "<img src=\"../images/plane.svg\", width=\"80%\">\n",
    "\n",
    "<center>Figure 3: Roto-Traslation and scaling in two- dimensional space</center>\n",
    "\n",
    "$$\n",
    " \\begin{pmatrix}\n",
    "x_p \\\\\n",
    "y_p\n",
    "\\end{pmatrix}_{{D}_2} = \\begin{pmatrix}\n",
    "T_x \\\\\n",
    "T_y\n",
    "\\end{pmatrix} + \\lambda \\begin{pmatrix}\n",
    "\\cos \\alpha & \\sin \\alpha \\\\\n",
    "- \\sin \\alpha  & \\cos \\alpha\n",
    "\\end{pmatrix} \\begin{pmatrix}\n",
    "x'_p \\\\\n",
    "y'_p\n",
    "\\end{pmatrix}_{{D}_1} \\quad (4)\n",
    "$$\n",
    "\n",
    "$$\n",
    " \\begin{pmatrix}\n",
    "x'_p \\\\\n",
    "y'_p\n",
    "\\end{pmatrix}_{{D}_2} = \\lambda^{-1} \\begin{pmatrix}\n",
    "\\cos \\alpha & -\\sin \\alpha \\\\\n",
    "\\sin \\alpha  & \\cos \\alpha\n",
    "\\end{pmatrix} \\begin{pmatrix}\n",
    "x_p - T_x \\\\\n",
    "y_p - T_y\n",
    "\\end{pmatrix}_{{D}_1} \\quad (5)\n",
    "$$\n",
    "\n",
    "To estimate the four parameters $(\\lambda, \\alpha, x_0, y_0)$ at least two planimetric coordinates in the two systems are needed. However, if more positions are available a least square method (*Fitting*) can be used solving the linear system:\n",
    "\n",
    "$$\n",
    "\\left\\{ \n",
    "  \\begin{array}{l l}\n",
    "x'_0 + a x'_p + b y'_p - x_p = 0 \\\\\n",
    "y'_0 + a y'_p - b x'_p - y_p = 0  \n",
    "\\end{array} \\right. \\quad (6)\n",
    "$$\n",
    "\n",
    "with:\n",
    "\n",
    "$$\n",
    "a = \\lambda \\cos \\alpha\n",
    "$$\n",
    "$$\n",
    "b = \\lambda \\sin \\alpha\n",
    "$$\n",
    "\n",
    "The linear system (6) can be solved knowing at least two points in $(D_1,D_2)$ once estimated the four unknown parameters $(a,b,{x'}_0,{y'}_0)$ it is possible to derive the rotation angle $\\alpha$ and the scale factor $\\lambda$ by:\n",
    "\n",
    "$$\n",
    "\\left\\{ \n",
    "  \\begin{array}{l l}\n",
    "    \\lambda = \\sqrt{a^2 + b^2} \\\\\n",
    "    \\alpha = \\arctan \\frac{b}{a}\n",
    "  \\end{array} \\right. \\quad (7)\n",
    "$$\n",
    "\n",
    "The relation expressed in (eq. 6) can be used in two different ways: \n",
    "\n",
    "\n",
    "1. Knowing the four parameters it is possible to transform the coordinates of $P$ from $D_1 \\to D_2$; \n",
    "2. Knowing the position of at least 2 points in both systems $(D_1, D_2)$ it is possible to estimate the four parameters by the *Least Square Method*.\n"
   ]
  },
  {
   "cell_type": "markdown",
   "metadata": {},
   "source": [
    "## Implementation"
   ]
  },
  {
   "cell_type": "markdown",
   "metadata": {},
   "source": [
    "* [Conforme 2D](#Conforme-2D) \n",
    "* [Affine 2D](#Affine-2D)\n",
    "* [Helmert-7-Parameters (3D)](#Helmert-7-Parameters)"
   ]
  },
  {
   "cell_type": "markdown",
   "metadata": {},
   "source": [
    "Firs we need to generate a proper test dataset, to do so we'll use a combination of pyproj and numpy.\n",
    "Staring from the data used in the [Working with coordinates - Datum-transformation](../numerical cartography/Working with coordinates.ipynb#Datum-transformation) example, we generate a series of 50 random points in two different DATUM :\n",
    "\n",
    "* UTM zone 19, WGS84 ellipse, WGS84\n",
    "* UTM zone 19, Clarke 1866, NAD27"
   ]
  },
  {
   "cell_type": "code",
   "execution_count": null,
   "metadata": {
    "collapsed": false
   },
   "outputs": [],
   "source": [
    "#import the pyproj and numpy library\n",
    "import pyproj\n",
    "import numpy as np\n",
    "\n",
    "# set a reference point P with coordinates: \n",
    "P = (-70.93931369842528, 43.13567095719326)\n",
    "\n",
    "# define projection UTM 19 N: \n",
    "#    UTM zone 19, WGS84 ellipse, WGS84 datum, defined by epsg code 32619\n",
    "p1 = pyproj.Proj(init='epsg:32619')\n",
    "\n",
    "#Find UTM coordinates for the point P(-70.93931369842528,43.13567095719326)\n",
    "x1, y1 = p1(P[0],P[1])\n",
    "\n",
    "# define projection: UTM zone 19, Clarke 1866, NAD27 datum\n",
    "p3 = pyproj.Proj(init='epsg:26719')\n",
    "\n",
    "# transform the UTM coordinates for the point P to projection 3 coordinates.\n",
    "x3, y3 = pyproj.transform(p1,p3,x1,y1)\n",
    "\n",
    "# generate a set of random points in the range of 100 meters from P1 \n",
    "# note: we use a fake altitude to perform a 3D transformation\n",
    "# the value of 6371 is the ray of the spheroid in km\n",
    "\n",
    "xrand = (np.random.random_sample((50,))*100)+x1\n",
    "yrand = (np.random.random_sample((50,))*100)+y1\n",
    "zrand = (np.random.random_sample((50,))*10)+(6371*1000)\n",
    "xrand,yrand,zrand\n",
    "\n",
    "# transform the UTM coordinates for the points [xrand, yrand] to the projection 3 coordinates.\n",
    "x, y = pyproj.transform(p1,p3,xrand[:],yrand[:])"
   ]
  },
  {
   "cell_type": "code",
   "execution_count": null,
   "metadata": {
    "collapsed": true
   },
   "outputs": [],
   "source": [
    "# now generate 2 dataframes to store the x,y,z coordinates in the two different DATUM \n",
    "# and save the reults in a space delimited text file\n",
    "import pandas as pd\n",
    "d1 = pd.DataFrame(np.array([xrand,yrand,zrand],dtype=np.float).T, columns=['x','y','z'])\n",
    "d2 = pd.DataFrame(np.array([x,y,zrand],dtype=np.float).T, columns=['x','y','z'])\n",
    "d1.to_csv('d1.csv', index=False, header=False, sep=\" \")\n",
    "d2.to_csv('d2.csv', index=False, header=False, sep=\" \")"
   ]
  },
  {
   "cell_type": "markdown",
   "metadata": {},
   "source": [
    "* **Random points in DATUM 1**"
   ]
  },
  {
   "cell_type": "code",
   "execution_count": null,
   "metadata": {
    "collapsed": false
   },
   "outputs": [],
   "source": [
    "d1"
   ]
  },
  {
   "cell_type": "markdown",
   "metadata": {},
   "source": [
    "* **Random points in Datum 2**\n",
    "\n",
    "(transformation performed using pyproj)"
   ]
  },
  {
   "cell_type": "code",
   "execution_count": null,
   "metadata": {
    "collapsed": false
   },
   "outputs": [],
   "source": [
    "d2"
   ]
  },
  {
   "cell_type": "markdown",
   "metadata": {},
   "source": [
    "* testing dataset:\n",
    "\n",
    "We'll first select the first 10 points in both dataframe and use them to estimate the transformation parameters. Then we'll use the other 40 points in $d1$ as input for the transformation. Finally compare the results with the output of pyproj."
   ]
  },
  {
   "cell_type": "code",
   "execution_count": null,
   "metadata": {
    "collapsed": false
   },
   "outputs": [],
   "source": [
    "#d1,d2 subsample\n",
    "d1s=d1[:11]\n",
    "d2s=d1[:11]\n",
    "d=d1[11:]\n",
    "# save to file\n",
    "d1s.to_csv('d1s.csv', index=False, header=False, sep=\" \")\n",
    "d2s.to_csv('d2s.csv', index=False, header=False, sep=\" \")\n",
    "d.to_csv('d.csv', index=False, header=False, sep=\" \")"
   ]
  },
  {
   "cell_type": "markdown",
   "metadata": {},
   "source": [
    "### Conforme 2D"
   ]
  },
  {
   "cell_type": "code",
   "execution_count": null,
   "metadata": {
    "collapsed": true
   },
   "outputs": [],
   "source": [
    "from transform import conforme"
   ]
  },
  {
   "cell_type": "code",
   "execution_count": null,
   "metadata": {
    "collapsed": false
   },
   "outputs": [],
   "source": [
    "res_conforme = conforme(gcpD1='d1s.csv', gcpD2='d2s.csv', knowD1='d.csv', output='conforme.csv')\n",
    "res_conforme"
   ]
  },
  {
   "cell_type": "markdown",
   "metadata": {},
   "source": [
    "### Affine 2D"
   ]
  },
  {
   "cell_type": "code",
   "execution_count": null,
   "metadata": {
    "collapsed": true
   },
   "outputs": [],
   "source": [
    "from transform import affine"
   ]
  },
  {
   "cell_type": "code",
   "execution_count": null,
   "metadata": {
    "collapsed": false
   },
   "outputs": [],
   "source": [
    "res_affine = affine(gcpD1='d1s.csv', gcpD2='d2s.csv', knowD1='d.csv', output='affine.csv')\n",
    "res_affine"
   ]
  },
  {
   "cell_type": "markdown",
   "metadata": {},
   "source": [
    "### Helmert 7 Parameters"
   ]
  },
  {
   "cell_type": "code",
   "execution_count": null,
   "metadata": {
    "collapsed": true
   },
   "outputs": [],
   "source": [
    "from transform import helmert"
   ]
  },
  {
   "cell_type": "code",
   "execution_count": null,
   "metadata": {
    "collapsed": false
   },
   "outputs": [],
   "source": [
    "res_helmert = helmert(gcp1='d1s.csv', gcp2='d2s.csv', inputf='d.csv', output='helmert.txt')\n",
    "res_helmert"
   ]
  },
  {
   "cell_type": "code",
   "execution_count": null,
   "metadata": {
    "collapsed": false
   },
   "outputs": [],
   "source": [
    "d2[11:][['x','y']]"
   ]
  },
  {
   "cell_type": "code",
   "execution_count": null,
   "metadata": {
    "collapsed": false
   },
   "outputs": [],
   "source": [
    "delta_conforme = (d2[11:]['x'].values - res_conforme[:,0], d2[11:]['y'].values - res_conforme[:,1])\n",
    "delta_conforme"
   ]
  },
  {
   "cell_type": "code",
   "execution_count": null,
   "metadata": {
    "collapsed": false
   },
   "outputs": [],
   "source": [
    "delta_affine = (d2[11:]['x'].values - res_affine[:,0], d2[11:]['y'].values - res_affine[:,1])\n",
    "delta_affine"
   ]
  },
  {
   "cell_type": "code",
   "execution_count": null,
   "metadata": {
    "collapsed": false
   },
   "outputs": [],
   "source": [
    "delta_helmert = (d2[11:]['x'].values - res_helmert[:,0], d2[11:]['y'].values - res_helmert[:,1])\n",
    "delta_helmert"
   ]
  },
  {
   "cell_type": "markdown",
   "metadata": {},
   "source": [
    "---\n",
    "\n",
    "[top](#Notebooks---Numerical-Cartography)"
   ]
  },
  {
   "cell_type": "markdown",
   "metadata": {},
   "source": [
    "### References\n",
    "\n",
    "GPS. Principi, modalita' e tecniche di posizionamento - Alberto Cina (2000) - ISBN: 8876614176"
   ]
  }
 ],
 "metadata": {
  "kernelspec": {
   "display_name": "Python 3",
   "language": "python",
   "name": "python3"
  },
  "language_info": {
   "codemirror_mode": {
    "name": "ipython",
    "version": 3
   },
   "file_extension": ".py",
   "mimetype": "text/x-python",
   "name": "python",
   "nbconvert_exporter": "python",
   "pygments_lexer": "ipython3",
   "version": "3.4.3"
  }
 },
 "nbformat": 4,
 "nbformat_minor": 0
}
