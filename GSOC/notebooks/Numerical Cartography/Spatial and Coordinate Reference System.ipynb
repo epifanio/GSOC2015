{
 "cells": [
  {
   "cell_type": "markdown",
   "metadata": {},
   "source": [
    "<h1><center>[Notebooks](../) - [Numerical Cartography](../numerical cartography)</center></h1>"
   ]
  },
  {
   "cell_type": "markdown",
   "metadata": {},
   "source": [
    "# Spatial and Coordinate Reference System\n",
    "\n",
    "A **spatial reference system** (SRS) or **coordinate reference system** (CRS) is a [coordinate-based](https://en.wikipedia.org/wiki/Coordinate_system) local, regional or global system used to locate geographical entities. A spatial reference system defines a specific [map projection](https://en.wikipedia.org/wiki/Map_projection), as well as transformations between different spatial reference systems. Spatial reference systems are defined by the [OGC](https://en.wikipedia.org/wiki/Open_Geospatial_Consortium)'s [Simple feature access](https://en.wikipedia.org/wiki/Simple_feature_access) using [well-known text](https://en.wikipedia.org/wiki/Well-known_text), and support has been implemented by several [standards-based](https://en.wikipedia.org/wiki/Technical_standard) [geographic information systems](https://en.wikipedia.org/wiki/Geographic_information_system). Spatial reference systems can be referred to using a [SRID](https://en.wikipedia.org/wiki/SRID) integer, including EPSG codes defined by the [International Association of Oil and Gas Producers](https://en.wikipedia.org/wiki/International_Association_of_Oil_and_Gas_Producers).\n",
    "\n",
    "**source:** \n",
    "\n",
    "**[Wikipedia: Spatial reference system](https://en.wikipedia.org/wiki/Spatial_reference_system)**\n",
    "\n",
    "**[Wikipedia: Geographic coordinate system](https://en.wikipedia.org/wiki/Geographic_coordinate_system)**"
   ]
  },
  {
   "cell_type": "markdown",
   "metadata": {
    "collapsed": true
   },
   "source": [
    "## Coordinate Reference System (CRS):\n",
    "A position refers to the spatial location of an entity and it is determined by its spatial coordinates relative to a spatial reference system (SRS).\n",
    "The most common choices of coordinates are ** *Geographic coordinates* ** and ** *UTM coordinates* **.\n",
    "\n",
    "\n",
    "### Geographic latitude and longitude:\n",
    "    \n",
    "   A geographic coordinate system is a coordinate system that enables every location on the Earth to be specified by a set of numbers or letters.A common choice of coordinates is latitude, longitude and elevation.\n",
    "    \n",
    "   * **Latitude** (angle between the equatorial plane and the straight line that passes through that point and through, or close to, the center of the Earth)\n",
    "   * **Longitude** (the angle east or west from a reference meridian to another meridian that passes through that position). \n",
    "\n",
    "The combination of these two components specifies the position of any location on the surface of the Earth, without consideration of altitude or depth. \n",
    "\n",
    "<img src=\"../images/ECEF.svg\">"
   ]
  },
  {
   "cell_type": "markdown",
   "metadata": {},
   "source": [
    "### Universal Transverse Mercator (UTM) coordinate system:\n",
    "\n",
    "   The UTM coordinate system use a metric-based cartesian grid laid out on a conformally projected surface. The UTM system is not a single map projection but a series of sixty, each covering 6-degree bands of longitude.\n",
    "   \n",
    "   \n",
    "<img src=\"../images/utmzone.svg\">"
   ]
  },
  {
   "cell_type": "markdown",
   "metadata": {},
   "source": [
    "## Geodetic Coordinates:\n",
    "   \n",
    "   To completely specify a location of a topographical feature on, in, or above the Earth, one has to also specify the vertical distance from the centre of the Earth, or from the surface of the Earth.\n",
    "    \n",
    "   In order to be unambiguous about the direction of \"vertical\" and the \"surface\" above which they are measuring, map-makers choose a reference ellipsoid with a given origin and orientation that best fits their need for the area they are mapping. They then choose the most appropriate mapping of the spherical coordinate system onto that ellipsoid, called a terrestrial reference systemor geodetic datum. Datums may be global, meaning that they represent the whole earth, or they may be local, meaning that they represent a best-fit ellipsoid to only a portion of the earth.\n",
    "    \n",
    "   The choice of which layer to use for defining height is arbitrary. Common height baselines include:\n",
    "   * The surface of the datum ellipsoid, resulting in an ellipsoidal height\n",
    "   * The mean sea level as described by the gravity geoid, yielding the orthometric height\n",
    "   * A vertical datum, yielding a dynamic height relative to a known reference height.\n",
    "Along with the latitude $\\phi$ and longitude $\\lambda$, the height $h$ provides the three-dimensional *geodetic coordinates* or *geographic coordinates* for a location."
   ]
  },
  {
   "cell_type": "markdown",
   "metadata": {},
   "source": [
    "---\n",
    "\n",
    "[top](#Notebooks---Numerical-Cartography)"
   ]
  },
  {
   "cell_type": "code",
   "execution_count": null,
   "metadata": {
    "collapsed": true
   },
   "outputs": [],
   "source": []
  }
 ],
 "metadata": {
  "kernelspec": {
   "display_name": "Python 3",
   "language": "",
   "name": "python3"
  },
  "language_info": {
   "codemirror_mode": {
    "name": "ipython",
    "version": 3
   },
   "file_extension": ".py",
   "mimetype": "text/x-python",
   "name": "python",
   "nbconvert_exporter": "python",
   "pygments_lexer": "ipython3",
   "version": "3.4.0"
  }
 },
 "nbformat": 4,
 "nbformat_minor": 0
}
